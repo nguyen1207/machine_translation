{
 "cells": [
  {
   "cell_type": "code",
   "execution_count": 1,
   "metadata": {},
   "outputs": [
    {
     "name": "stderr",
     "output_type": "stream",
     "text": [
      "2024-05-31 23:40:31.520940: I tensorflow/core/util/port.cc:113] oneDNN custom operations are on. You may see slightly different numerical results due to floating-point round-off errors from different computation orders. To turn them off, set the environment variable `TF_ENABLE_ONEDNN_OPTS=0`.\n",
      "2024-05-31 23:40:31.550252: I tensorflow/core/platform/cpu_feature_guard.cc:210] This TensorFlow binary is optimized to use available CPU instructions in performance-critical operations.\n",
      "To enable the following instructions: AVX2 AVX_VNNI FMA, in other operations, rebuild TensorFlow with the appropriate compiler flags.\n",
      "2024-05-31 23:40:31.994495: W tensorflow/compiler/tf2tensorrt/utils/py_utils.cc:38] TF-TRT Warning: Could not find TensorRT\n"
     ]
    }
   ],
   "source": [
    "from unsloth import FastLanguageModel\n",
    "from trl import SFTTrainer\n",
    "import torch\n",
    "from transformers import TrainingArguments, TextStreamer\n",
    "from datasets import DatasetDict, load_dataset\n",
    "from rich import print\n",
    "from rich.progress import track\n",
    "import evaluate"
   ]
  },
  {
   "cell_type": "code",
   "execution_count": 3,
   "metadata": {},
   "outputs": [],
   "source": [
    "dataset = DatasetDict.load_from_disk('../data/instructions')\n",
    "dataset_train = dataset[\"train\"]\n",
    "dataset_test = dataset[\"test\"]"
   ]
  },
  {
   "cell_type": "code",
   "execution_count": 4,
   "metadata": {},
   "outputs": [
    {
     "data": {
      "text/html": [
       "<div>\n",
       "<style scoped>\n",
       "    .dataframe tbody tr th:only-of-type {\n",
       "        vertical-align: middle;\n",
       "    }\n",
       "\n",
       "    .dataframe tbody tr th {\n",
       "        vertical-align: top;\n",
       "    }\n",
       "\n",
       "    .dataframe thead th {\n",
       "        text-align: right;\n",
       "    }\n",
       "</style>\n",
       "<table border=\"1\" class=\"dataframe\">\n",
       "  <thead>\n",
       "    <tr style=\"text-align: right;\">\n",
       "      <th></th>\n",
       "      <th>instruction</th>\n",
       "      <th>response</th>\n",
       "      <th>vietnamese</th>\n",
       "      <th>english</th>\n",
       "      <th>category</th>\n",
       "      <th>metadata</th>\n",
       "    </tr>\n",
       "  </thead>\n",
       "  <tbody>\n",
       "    <tr>\n",
       "      <th>0</th>\n",
       "      <td>Cho cặp câu tiếng Việt và tiếng Anh sau, hãy c...</td>\n",
       "      <td>Đúng</td>\n",
       "      <td>Mày làm ăn như vậy thì ai mà chịu nổi</td>\n",
       "      <td>Who can stand you if you keep doing like that</td>\n",
       "      <td>classification</td>\n",
       "      <td>generated</td>\n",
       "    </tr>\n",
       "    <tr>\n",
       "      <th>1</th>\n",
       "      <td>Cho cặp câu tiếng Việt và tiếng Anh sau, hãy c...</td>\n",
       "      <td>Đúng</td>\n",
       "      <td>Mày làm ơn đi, tao chán mày lắm rồi</td>\n",
       "      <td>Please, I'm so fed up with you</td>\n",
       "      <td>classification</td>\n",
       "      <td>generated</td>\n",
       "    </tr>\n",
       "    <tr>\n",
       "      <th>2</th>\n",
       "      <td>Cho cặp câu tiếng Việt và tiếng Anh sau, hãy c...</td>\n",
       "      <td>Sai</td>\n",
       "      <td>Bữa nay tao chả muốn nói chuyện với mày</td>\n",
       "      <td>I don't feel like talking to you today</td>\n",
       "      <td>classification</td>\n",
       "      <td>generated</td>\n",
       "    </tr>\n",
       "    <tr>\n",
       "      <th>3</th>\n",
       "      <td>Cho cặp câu tiếng Việt và tiếng Anh sau, hãy c...</td>\n",
       "      <td>Sai</td>\n",
       "      <td>Tao chả hỉu mày đang nói gì hết trơn</td>\n",
       "      <td>I have no idea what you're talking about</td>\n",
       "      <td>classification</td>\n",
       "      <td>generated</td>\n",
       "    </tr>\n",
       "    <tr>\n",
       "      <th>4</th>\n",
       "      <td>Dịch câu sau từ tiếng Việt sang tiếng Anh: \\nT...</td>\n",
       "      <td>Do you remember when I saved you from them?</td>\n",
       "      <td>Mày có nhớ lúc tao cứu mày khỏi bọn nó không?</td>\n",
       "      <td>Do you remember when I saved you from them?</td>\n",
       "      <td>translation</td>\n",
       "      <td>generated</td>\n",
       "    </tr>\n",
       "    <tr>\n",
       "      <th>...</th>\n",
       "      <td>...</td>\n",
       "      <td>...</td>\n",
       "      <td>...</td>\n",
       "      <td>...</td>\n",
       "      <td>...</td>\n",
       "      <td>...</td>\n",
       "    </tr>\n",
       "    <tr>\n",
       "      <th>1638</th>\n",
       "      <td>Cho cặp câu tiếng Việt và tiếng Anh sau, hãy c...</td>\n",
       "      <td>Đúng</td>\n",
       "      <td>và cô học lên cấp 3</td>\n",
       "      <td>she went to high school</td>\n",
       "      <td>classification</td>\n",
       "      <td>nonteencode</td>\n",
       "    </tr>\n",
       "    <tr>\n",
       "      <th>1639</th>\n",
       "      <td>Cho cặp câu tiếng Việt và tiếng Anh sau, hãy c...</td>\n",
       "      <td>Đúng</td>\n",
       "      <td>chúng tôi phát bao cao su cho mọi người trên đ...</td>\n",
       "      <td>and then we gave condoms out everywhere on the...</td>\n",
       "      <td>classification</td>\n",
       "      <td>nonteencode</td>\n",
       "    </tr>\n",
       "    <tr>\n",
       "      <th>1640</th>\n",
       "      <td>Sử dụng các gợi ý căn chỉnh sau và dịch từ tiế...</td>\n",
       "      <td>we'd like to spend time with him  he looks fri...</td>\n",
       "      <td>chúng ta thích đi chơi cùng anh ta  anh ta nhì...</td>\n",
       "      <td>we'd like to spend time with him  he looks fri...</td>\n",
       "      <td>translation_hint</td>\n",
       "      <td>nonteencode</td>\n",
       "    </tr>\n",
       "    <tr>\n",
       "      <th>1641</th>\n",
       "      <td>Dịch câu sau từ tiếng Việt sang tiếng Anh: \\nT...</td>\n",
       "      <td>so while you're sitting around with the other ...</td>\n",
       "      <td>khi tôi ngồi với các bệnh nhân khác trong bộ p...</td>\n",
       "      <td>so while you're sitting around with the other ...</td>\n",
       "      <td>translation</td>\n",
       "      <td>nonteencode</td>\n",
       "    </tr>\n",
       "    <tr>\n",
       "      <th>1642</th>\n",
       "      <td>Dịch câu sau từ tiếng Việt sang tiếng Anh: \\nT...</td>\n",
       "      <td>i keep trying to make it work</td>\n",
       "      <td>tôi kiên trì khắc phục vấn đề đó</td>\n",
       "      <td>i keep trying to make it work</td>\n",
       "      <td>translation</td>\n",
       "      <td>nonteencode</td>\n",
       "    </tr>\n",
       "  </tbody>\n",
       "</table>\n",
       "<p>1643 rows × 6 columns</p>\n",
       "</div>"
      ],
      "text/plain": [
       "                                            instruction  \\\n",
       "0     Cho cặp câu tiếng Việt và tiếng Anh sau, hãy c...   \n",
       "1     Cho cặp câu tiếng Việt và tiếng Anh sau, hãy c...   \n",
       "2     Cho cặp câu tiếng Việt và tiếng Anh sau, hãy c...   \n",
       "3     Cho cặp câu tiếng Việt và tiếng Anh sau, hãy c...   \n",
       "4     Dịch câu sau từ tiếng Việt sang tiếng Anh: \\nT...   \n",
       "...                                                 ...   \n",
       "1638  Cho cặp câu tiếng Việt và tiếng Anh sau, hãy c...   \n",
       "1639  Cho cặp câu tiếng Việt và tiếng Anh sau, hãy c...   \n",
       "1640  Sử dụng các gợi ý căn chỉnh sau và dịch từ tiế...   \n",
       "1641  Dịch câu sau từ tiếng Việt sang tiếng Anh: \\nT...   \n",
       "1642  Dịch câu sau từ tiếng Việt sang tiếng Anh: \\nT...   \n",
       "\n",
       "                                               response  \\\n",
       "0                                                  Đúng   \n",
       "1                                                  Đúng   \n",
       "2                                                   Sai   \n",
       "3                                                   Sai   \n",
       "4           Do you remember when I saved you from them?   \n",
       "...                                                 ...   \n",
       "1638                                               Đúng   \n",
       "1639                                               Đúng   \n",
       "1640  we'd like to spend time with him  he looks fri...   \n",
       "1641  so while you're sitting around with the other ...   \n",
       "1642                      i keep trying to make it work   \n",
       "\n",
       "                                             vietnamese  \\\n",
       "0                 Mày làm ăn như vậy thì ai mà chịu nổi   \n",
       "1                   Mày làm ơn đi, tao chán mày lắm rồi   \n",
       "2               Bữa nay tao chả muốn nói chuyện với mày   \n",
       "3                  Tao chả hỉu mày đang nói gì hết trơn   \n",
       "4         Mày có nhớ lúc tao cứu mày khỏi bọn nó không?   \n",
       "...                                                 ...   \n",
       "1638                                và cô học lên cấp 3   \n",
       "1639  chúng tôi phát bao cao su cho mọi người trên đ...   \n",
       "1640  chúng ta thích đi chơi cùng anh ta  anh ta nhì...   \n",
       "1641  khi tôi ngồi với các bệnh nhân khác trong bộ p...   \n",
       "1642                   tôi kiên trì khắc phục vấn đề đó   \n",
       "\n",
       "                                                english          category  \\\n",
       "0         Who can stand you if you keep doing like that    classification   \n",
       "1                        Please, I'm so fed up with you    classification   \n",
       "2                I don't feel like talking to you today    classification   \n",
       "3              I have no idea what you're talking about    classification   \n",
       "4           Do you remember when I saved you from them?       translation   \n",
       "...                                                 ...               ...   \n",
       "1638                            she went to high school    classification   \n",
       "1639  and then we gave condoms out everywhere on the...    classification   \n",
       "1640  we'd like to spend time with him  he looks fri...  translation_hint   \n",
       "1641  so while you're sitting around with the other ...       translation   \n",
       "1642                      i keep trying to make it work       translation   \n",
       "\n",
       "         metadata  \n",
       "0       generated  \n",
       "1       generated  \n",
       "2       generated  \n",
       "3       generated  \n",
       "4       generated  \n",
       "...           ...  \n",
       "1638  nonteencode  \n",
       "1639  nonteencode  \n",
       "1640  nonteencode  \n",
       "1641  nonteencode  \n",
       "1642  nonteencode  \n",
       "\n",
       "[1643 rows x 6 columns]"
      ]
     },
     "execution_count": 4,
     "metadata": {},
     "output_type": "execute_result"
    }
   ],
   "source": [
    "# convert huggingface dataset to df\n",
    "df = dataset_test.to_pandas()\n",
    "df"
   ]
  },
  {
   "cell_type": "code",
   "execution_count": 5,
   "metadata": {},
   "outputs": [
    {
     "data": {
      "text/html": [
       "<div>\n",
       "<style scoped>\n",
       "    .dataframe tbody tr th:only-of-type {\n",
       "        vertical-align: middle;\n",
       "    }\n",
       "\n",
       "    .dataframe tbody tr th {\n",
       "        vertical-align: top;\n",
       "    }\n",
       "\n",
       "    .dataframe thead th {\n",
       "        text-align: right;\n",
       "    }\n",
       "</style>\n",
       "<table border=\"1\" class=\"dataframe\">\n",
       "  <thead>\n",
       "    <tr style=\"text-align: right;\">\n",
       "      <th></th>\n",
       "      <th>instruction</th>\n",
       "      <th>response</th>\n",
       "      <th>vietnamese</th>\n",
       "      <th>english</th>\n",
       "      <th>category</th>\n",
       "      <th>metadata</th>\n",
       "    </tr>\n",
       "  </thead>\n",
       "  <tbody>\n",
       "    <tr>\n",
       "      <th>1146</th>\n",
       "      <td>Cho cặp câu tiếng Việt và tiếng Anh sau, hãy c...</td>\n",
       "      <td>Đúng</td>\n",
       "      <td>Đôi khi cũng muốn dỗi lắm, nhưng nghĩ lại đéo ...</td>\n",
       "      <td>Sometimes I really want to sulk, but then I re...</td>\n",
       "      <td>classification</td>\n",
       "      <td>teencode</td>\n",
       "    </tr>\n",
       "    <tr>\n",
       "      <th>1147</th>\n",
       "      <td>Sử dụng các gợi ý căn chỉnh sau và dịch từ tiế...</td>\n",
       "      <td>Doing business in a sloppy or messy way.</td>\n",
       "      <td>làm ăn nhố nhăng</td>\n",
       "      <td>Doing business in a sloppy or messy way.</td>\n",
       "      <td>translation_hint</td>\n",
       "      <td>teencode</td>\n",
       "    </tr>\n",
       "    <tr>\n",
       "      <th>1148</th>\n",
       "      <td>Dịch câu sau từ tiếng Việt sang tiếng Anh: \\nT...</td>\n",
       "      <td>That is such a good response.</td>\n",
       "      <td>phản dame gắt vãi</td>\n",
       "      <td>That is such a good response.</td>\n",
       "      <td>translation</td>\n",
       "      <td>teencode</td>\n",
       "    </tr>\n",
       "    <tr>\n",
       "      <th>1149</th>\n",
       "      <td>Dịch câu sau từ tiếng Việt sang tiếng Anh: \\nT...</td>\n",
       "      <td>So, you're saying if I see someone getting too...</td>\n",
       "      <td>Vậy thấy đứa nào thân thân với mình là mình bl...</td>\n",
       "      <td>So, you're saying if I see someone getting too...</td>\n",
       "      <td>translation</td>\n",
       "      <td>teencode</td>\n",
       "    </tr>\n",
       "    <tr>\n",
       "      <th>1150</th>\n",
       "      <td>Cho cặp câu tiếng Việt và tiếng Anh sau, hãy c...</td>\n",
       "      <td>Đúng</td>\n",
       "      <td>Vậy thấy đứa nào thân thân với mình là mình bl...</td>\n",
       "      <td>So, you're saying if I see someone getting too...</td>\n",
       "      <td>classification</td>\n",
       "      <td>teencode</td>\n",
       "    </tr>\n",
       "    <tr>\n",
       "      <th>...</th>\n",
       "      <td>...</td>\n",
       "      <td>...</td>\n",
       "      <td>...</td>\n",
       "      <td>...</td>\n",
       "      <td>...</td>\n",
       "      <td>...</td>\n",
       "    </tr>\n",
       "    <tr>\n",
       "      <th>1565</th>\n",
       "      <td>Cho cặp câu tiếng Việt và tiếng Anh sau, hãy c...</td>\n",
       "      <td>Đúng</td>\n",
       "      <td>tao buồn mấy năm nay rồi</td>\n",
       "      <td>I've been sad for years now.</td>\n",
       "      <td>classification</td>\n",
       "      <td>teencode</td>\n",
       "    </tr>\n",
       "    <tr>\n",
       "      <th>1566</th>\n",
       "      <td>Cho cặp câu tiếng Việt và tiếng Anh sau, hãy c...</td>\n",
       "      <td>Đúng</td>\n",
       "      <td>động lực để phụ nữ chiến đấu chính là gia đình...</td>\n",
       "      <td>The motivation for women to fight is their fam...</td>\n",
       "      <td>classification</td>\n",
       "      <td>teencode</td>\n",
       "    </tr>\n",
       "    <tr>\n",
       "      <th>1567</th>\n",
       "      <td>Dịch câu sau từ tiếng Việt sang tiếng Anh: \\nT...</td>\n",
       "      <td>I'm just worried the state won't have enough r...</td>\n",
       "      <td>mink chỉ lo là nhà nước không đủ gạo nuôi mấy anh</td>\n",
       "      <td>I'm just worried the state won't have enough r...</td>\n",
       "      <td>translation</td>\n",
       "      <td>teencode</td>\n",
       "    </tr>\n",
       "    <tr>\n",
       "      <th>1568</th>\n",
       "      <td>Cho cặp câu tiếng Việt và tiếng Anh sau, hãy c...</td>\n",
       "      <td>Đúng</td>\n",
       "      <td>mink chỉ lo là nhà nước không đủ gạo nuôi mấy anh</td>\n",
       "      <td>I'm just worried the state won't have enough r...</td>\n",
       "      <td>classification</td>\n",
       "      <td>teencode</td>\n",
       "    </tr>\n",
       "    <tr>\n",
       "      <th>1569</th>\n",
       "      <td>Cho cặp câu tiếng Việt và tiếng Anh sau, hãy c...</td>\n",
       "      <td>Đúng</td>\n",
       "      <td>chuẩn rồi . nhiều khi mệt muốn xỉu , xong đồng...</td>\n",
       "      <td>Exactly right. Sometimes you're so tired you c...</td>\n",
       "      <td>classification</td>\n",
       "      <td>teencode</td>\n",
       "    </tr>\n",
       "  </tbody>\n",
       "</table>\n",
       "<p>424 rows × 6 columns</p>\n",
       "</div>"
      ],
      "text/plain": [
       "                                            instruction  \\\n",
       "1146  Cho cặp câu tiếng Việt và tiếng Anh sau, hãy c...   \n",
       "1147  Sử dụng các gợi ý căn chỉnh sau và dịch từ tiế...   \n",
       "1148  Dịch câu sau từ tiếng Việt sang tiếng Anh: \\nT...   \n",
       "1149  Dịch câu sau từ tiếng Việt sang tiếng Anh: \\nT...   \n",
       "1150  Cho cặp câu tiếng Việt và tiếng Anh sau, hãy c...   \n",
       "...                                                 ...   \n",
       "1565  Cho cặp câu tiếng Việt và tiếng Anh sau, hãy c...   \n",
       "1566  Cho cặp câu tiếng Việt và tiếng Anh sau, hãy c...   \n",
       "1567  Dịch câu sau từ tiếng Việt sang tiếng Anh: \\nT...   \n",
       "1568  Cho cặp câu tiếng Việt và tiếng Anh sau, hãy c...   \n",
       "1569  Cho cặp câu tiếng Việt và tiếng Anh sau, hãy c...   \n",
       "\n",
       "                                               response  \\\n",
       "1146                                               Đúng   \n",
       "1147           Doing business in a sloppy or messy way.   \n",
       "1148                      That is such a good response.   \n",
       "1149  So, you're saying if I see someone getting too...   \n",
       "1150                                               Đúng   \n",
       "...                                                 ...   \n",
       "1565                                               Đúng   \n",
       "1566                                               Đúng   \n",
       "1567  I'm just worried the state won't have enough r...   \n",
       "1568                                               Đúng   \n",
       "1569                                               Đúng   \n",
       "\n",
       "                                             vietnamese  \\\n",
       "1146  Đôi khi cũng muốn dỗi lắm, nhưng nghĩ lại đéo ...   \n",
       "1147                                   làm ăn nhố nhăng   \n",
       "1148                                  phản dame gắt vãi   \n",
       "1149  Vậy thấy đứa nào thân thân với mình là mình bl...   \n",
       "1150  Vậy thấy đứa nào thân thân với mình là mình bl...   \n",
       "...                                                 ...   \n",
       "1565                           tao buồn mấy năm nay rồi   \n",
       "1566  động lực để phụ nữ chiến đấu chính là gia đình...   \n",
       "1567  mink chỉ lo là nhà nước không đủ gạo nuôi mấy anh   \n",
       "1568  mink chỉ lo là nhà nước không đủ gạo nuôi mấy anh   \n",
       "1569  chuẩn rồi . nhiều khi mệt muốn xỉu , xong đồng...   \n",
       "\n",
       "                                                english          category  \\\n",
       "1146  Sometimes I really want to sulk, but then I re...    classification   \n",
       "1147           Doing business in a sloppy or messy way.  translation_hint   \n",
       "1148                      That is such a good response.       translation   \n",
       "1149  So, you're saying if I see someone getting too...       translation   \n",
       "1150  So, you're saying if I see someone getting too...    classification   \n",
       "...                                                 ...               ...   \n",
       "1565                       I've been sad for years now.    classification   \n",
       "1566  The motivation for women to fight is their fam...    classification   \n",
       "1567  I'm just worried the state won't have enough r...       translation   \n",
       "1568  I'm just worried the state won't have enough r...    classification   \n",
       "1569  Exactly right. Sometimes you're so tired you c...    classification   \n",
       "\n",
       "      metadata  \n",
       "1146  teencode  \n",
       "1147  teencode  \n",
       "1148  teencode  \n",
       "1149  teencode  \n",
       "1150  teencode  \n",
       "...        ...  \n",
       "1565  teencode  \n",
       "1566  teencode  \n",
       "1567  teencode  \n",
       "1568  teencode  \n",
       "1569  teencode  \n",
       "\n",
       "[424 rows x 6 columns]"
      ]
     },
     "execution_count": 5,
     "metadata": {},
     "output_type": "execute_result"
    }
   ],
   "source": [
    "df_teencode = df[df['metadata'] == 'teencode']\n",
    "df_teencode"
   ]
  },
  {
   "cell_type": "code",
   "execution_count": 6,
   "metadata": {},
   "outputs": [
    {
     "data": {
      "text/html": [
       "<div>\n",
       "<style scoped>\n",
       "    .dataframe tbody tr th:only-of-type {\n",
       "        vertical-align: middle;\n",
       "    }\n",
       "\n",
       "    .dataframe tbody tr th {\n",
       "        vertical-align: top;\n",
       "    }\n",
       "\n",
       "    .dataframe thead th {\n",
       "        text-align: right;\n",
       "    }\n",
       "</style>\n",
       "<table border=\"1\" class=\"dataframe\">\n",
       "  <thead>\n",
       "    <tr style=\"text-align: right;\">\n",
       "      <th></th>\n",
       "      <th>instruction</th>\n",
       "      <th>response</th>\n",
       "      <th>vietnamese</th>\n",
       "      <th>english</th>\n",
       "      <th>category</th>\n",
       "      <th>metadata</th>\n",
       "    </tr>\n",
       "  </thead>\n",
       "  <tbody>\n",
       "    <tr>\n",
       "      <th>1146</th>\n",
       "      <td>Cho cặp câu tiếng Việt và tiếng Anh sau, hãy c...</td>\n",
       "      <td>Đúng</td>\n",
       "      <td>Đôi khi cũng muốn dỗi lắm, nhưng nghĩ lại đéo ...</td>\n",
       "      <td>Sometimes I really want to sulk, but then I re...</td>\n",
       "      <td>classification</td>\n",
       "      <td>teencode</td>\n",
       "    </tr>\n",
       "    <tr>\n",
       "      <th>1147</th>\n",
       "      <td>Sử dụng các gợi ý căn chỉnh sau và dịch từ tiế...</td>\n",
       "      <td>Doing business in a sloppy or messy way.</td>\n",
       "      <td>làm ăn nhố nhăng</td>\n",
       "      <td>Doing business in a sloppy or messy way.</td>\n",
       "      <td>translation_hint</td>\n",
       "      <td>teencode</td>\n",
       "    </tr>\n",
       "    <tr>\n",
       "      <th>1148</th>\n",
       "      <td>Dịch câu sau từ tiếng Việt sang tiếng Anh: \\nT...</td>\n",
       "      <td>That is such a good response.</td>\n",
       "      <td>phản dame gắt vãi</td>\n",
       "      <td>That is such a good response.</td>\n",
       "      <td>translation</td>\n",
       "      <td>teencode</td>\n",
       "    </tr>\n",
       "    <tr>\n",
       "      <th>1149</th>\n",
       "      <td>Dịch câu sau từ tiếng Việt sang tiếng Anh: \\nT...</td>\n",
       "      <td>So, you're saying if I see someone getting too...</td>\n",
       "      <td>Vậy thấy đứa nào thân thân với mình là mình bl...</td>\n",
       "      <td>So, you're saying if I see someone getting too...</td>\n",
       "      <td>translation</td>\n",
       "      <td>teencode</td>\n",
       "    </tr>\n",
       "    <tr>\n",
       "      <th>1151</th>\n",
       "      <td>Sử dụng các gợi ý căn chỉnh sau và dịch từ tiế...</td>\n",
       "      <td>It's best not to have a crush on anyone but yo...</td>\n",
       "      <td>tốt nhất là đừng crush ai ngoài bản thân ra cả...</td>\n",
       "      <td>It's best not to have a crush on anyone but yo...</td>\n",
       "      <td>translation_hint</td>\n",
       "      <td>teencode</td>\n",
       "    </tr>\n",
       "    <tr>\n",
       "      <th>...</th>\n",
       "      <td>...</td>\n",
       "      <td>...</td>\n",
       "      <td>...</td>\n",
       "      <td>...</td>\n",
       "      <td>...</td>\n",
       "      <td>...</td>\n",
       "    </tr>\n",
       "    <tr>\n",
       "      <th>1564</th>\n",
       "      <td>Dịch câu sau từ tiếng Việt sang tiếng Anh: \\nT...</td>\n",
       "      <td>Laughing like a laughing stock.</td>\n",
       "      <td>cười như cục cức trôi sông lạc chợ</td>\n",
       "      <td>Laughing like a laughing stock.</td>\n",
       "      <td>translation</td>\n",
       "      <td>teencode</td>\n",
       "    </tr>\n",
       "    <tr>\n",
       "      <th>1565</th>\n",
       "      <td>Cho cặp câu tiếng Việt và tiếng Anh sau, hãy c...</td>\n",
       "      <td>Đúng</td>\n",
       "      <td>tao buồn mấy năm nay rồi</td>\n",
       "      <td>I've been sad for years now.</td>\n",
       "      <td>classification</td>\n",
       "      <td>teencode</td>\n",
       "    </tr>\n",
       "    <tr>\n",
       "      <th>1566</th>\n",
       "      <td>Cho cặp câu tiếng Việt và tiếng Anh sau, hãy c...</td>\n",
       "      <td>Đúng</td>\n",
       "      <td>động lực để phụ nữ chiến đấu chính là gia đình...</td>\n",
       "      <td>The motivation for women to fight is their fam...</td>\n",
       "      <td>classification</td>\n",
       "      <td>teencode</td>\n",
       "    </tr>\n",
       "    <tr>\n",
       "      <th>1567</th>\n",
       "      <td>Dịch câu sau từ tiếng Việt sang tiếng Anh: \\nT...</td>\n",
       "      <td>I'm just worried the state won't have enough r...</td>\n",
       "      <td>mink chỉ lo là nhà nước không đủ gạo nuôi mấy anh</td>\n",
       "      <td>I'm just worried the state won't have enough r...</td>\n",
       "      <td>translation</td>\n",
       "      <td>teencode</td>\n",
       "    </tr>\n",
       "    <tr>\n",
       "      <th>1569</th>\n",
       "      <td>Cho cặp câu tiếng Việt và tiếng Anh sau, hãy c...</td>\n",
       "      <td>Đúng</td>\n",
       "      <td>chuẩn rồi . nhiều khi mệt muốn xỉu , xong đồng...</td>\n",
       "      <td>Exactly right. Sometimes you're so tired you c...</td>\n",
       "      <td>classification</td>\n",
       "      <td>teencode</td>\n",
       "    </tr>\n",
       "  </tbody>\n",
       "</table>\n",
       "<p>293 rows × 6 columns</p>\n",
       "</div>"
      ],
      "text/plain": [
       "                                            instruction  \\\n",
       "1146  Cho cặp câu tiếng Việt và tiếng Anh sau, hãy c...   \n",
       "1147  Sử dụng các gợi ý căn chỉnh sau và dịch từ tiế...   \n",
       "1148  Dịch câu sau từ tiếng Việt sang tiếng Anh: \\nT...   \n",
       "1149  Dịch câu sau từ tiếng Việt sang tiếng Anh: \\nT...   \n",
       "1151  Sử dụng các gợi ý căn chỉnh sau và dịch từ tiế...   \n",
       "...                                                 ...   \n",
       "1564  Dịch câu sau từ tiếng Việt sang tiếng Anh: \\nT...   \n",
       "1565  Cho cặp câu tiếng Việt và tiếng Anh sau, hãy c...   \n",
       "1566  Cho cặp câu tiếng Việt và tiếng Anh sau, hãy c...   \n",
       "1567  Dịch câu sau từ tiếng Việt sang tiếng Anh: \\nT...   \n",
       "1569  Cho cặp câu tiếng Việt và tiếng Anh sau, hãy c...   \n",
       "\n",
       "                                               response  \\\n",
       "1146                                               Đúng   \n",
       "1147           Doing business in a sloppy or messy way.   \n",
       "1148                      That is such a good response.   \n",
       "1149  So, you're saying if I see someone getting too...   \n",
       "1151  It's best not to have a crush on anyone but yo...   \n",
       "...                                                 ...   \n",
       "1564                    Laughing like a laughing stock.   \n",
       "1565                                               Đúng   \n",
       "1566                                               Đúng   \n",
       "1567  I'm just worried the state won't have enough r...   \n",
       "1569                                               Đúng   \n",
       "\n",
       "                                             vietnamese  \\\n",
       "1146  Đôi khi cũng muốn dỗi lắm, nhưng nghĩ lại đéo ...   \n",
       "1147                                   làm ăn nhố nhăng   \n",
       "1148                                  phản dame gắt vãi   \n",
       "1149  Vậy thấy đứa nào thân thân với mình là mình bl...   \n",
       "1151  tốt nhất là đừng crush ai ngoài bản thân ra cả...   \n",
       "...                                                 ...   \n",
       "1564                 cười như cục cức trôi sông lạc chợ   \n",
       "1565                           tao buồn mấy năm nay rồi   \n",
       "1566  động lực để phụ nữ chiến đấu chính là gia đình...   \n",
       "1567  mink chỉ lo là nhà nước không đủ gạo nuôi mấy anh   \n",
       "1569  chuẩn rồi . nhiều khi mệt muốn xỉu , xong đồng...   \n",
       "\n",
       "                                                english          category  \\\n",
       "1146  Sometimes I really want to sulk, but then I re...    classification   \n",
       "1147           Doing business in a sloppy or messy way.  translation_hint   \n",
       "1148                      That is such a good response.       translation   \n",
       "1149  So, you're saying if I see someone getting too...       translation   \n",
       "1151  It's best not to have a crush on anyone but yo...  translation_hint   \n",
       "...                                                 ...               ...   \n",
       "1564                    Laughing like a laughing stock.       translation   \n",
       "1565                       I've been sad for years now.    classification   \n",
       "1566  The motivation for women to fight is their fam...    classification   \n",
       "1567  I'm just worried the state won't have enough r...       translation   \n",
       "1569  Exactly right. Sometimes you're so tired you c...    classification   \n",
       "\n",
       "      metadata  \n",
       "1146  teencode  \n",
       "1147  teencode  \n",
       "1148  teencode  \n",
       "1149  teencode  \n",
       "1151  teencode  \n",
       "...        ...  \n",
       "1564  teencode  \n",
       "1565  teencode  \n",
       "1566  teencode  \n",
       "1567  teencode  \n",
       "1569  teencode  \n",
       "\n",
       "[293 rows x 6 columns]"
      ]
     },
     "execution_count": 6,
     "metadata": {},
     "output_type": "execute_result"
    }
   ],
   "source": [
    "df_teencode = df_teencode.drop_duplicates(subset=['vietnamese'], keep='first')\n",
    "df_teencode"
   ]
  },
  {
   "cell_type": "markdown",
   "metadata": {},
   "source": [
    "# Base"
   ]
  },
  {
   "cell_type": "code",
   "execution_count": 8,
   "metadata": {},
   "outputs": [
    {
     "name": "stderr",
     "output_type": "stream",
     "text": [
      "/home/nguyen/miniconda3/envs/nlp/lib/python3.10/site-packages/huggingface_hub/file_download.py:1132: FutureWarning: `resume_download` is deprecated and will be removed in version 1.0.0. Downloads always resume when possible. If you want to force a new download, use `force_download=True`.\n",
      "  warnings.warn(\n"
     ]
    },
    {
     "name": "stdout",
     "output_type": "stream",
     "text": [
      "==((====))==  Unsloth: Fast Llama patching release 2024.4\n",
      "   \\\\   /|    GPU: NVIDIA GeForce RTX 3070 Ti. Max memory: 8.0 GB. Platform = Linux.\n",
      "O^O/ \\_/ \\    Pytorch: 2.3.0. CUDA = 8.6. CUDA Toolkit = 12.1.\n",
      "\\        /    Bfloat16 = TRUE. Xformers = 0.0.26.post1. FA = False.\n",
      " \"-____-\"     Free Apache license: http://github.com/unslothai/unsloth\n"
     ]
    },
    {
     "data": {
      "application/vnd.jupyter.widget-view+json": {
       "model_id": "8914b307d21c4733a0075282d30e6451",
       "version_major": 2,
       "version_minor": 0
      },
      "text/plain": [
       "Loading checkpoint shards:   0%|          | 0/2 [00:00<?, ?it/s]"
      ]
     },
     "metadata": {},
     "output_type": "display_data"
    },
    {
     "name": "stdout",
     "output_type": "stream",
     "text": [
      "Unsloth: ../models/vinallama-7b/checkpoint-2961 has no tokenizer.model file.\n",
      "Just informing you about this - this is not a critical error.\n"
     ]
    },
    {
     "name": "stderr",
     "output_type": "stream",
     "text": [
      "Unsloth 2024.4 patched 32 layers with 32 QKV layers, 32 O layers and 32 MLP layers.\n"
     ]
    }
   ],
   "source": [
    "max_seq_length = 4096  # Supports RoPE Scaling interally, so choose any!\n",
    "# get instruction dataset from ../data/instructions\n",
    "\n",
    "model, tokenizer = FastLanguageModel.from_pretrained(\n",
    "    model_name=\"../models/vinallama-7b/checkpoint-2961\",\n",
    "    max_seq_length=max_seq_length,\n",
    "    dtype=None,\n",
    "    load_in_4bit=True,\n",
    ")\n",
    "\n",
    "FastLanguageModel.for_inference(model)"
   ]
  },
  {
   "cell_type": "code",
   "execution_count": 5,
   "metadata": {},
   "outputs": [
    {
     "name": "stderr",
     "output_type": "stream",
     "text": [
      "/home/nguyen/miniconda3/envs/nlp/lib/python3.10/site-packages/trl/trainer/sft_trainer.py:318: UserWarning: You passed a tokenizer with `padding_side` not equal to `right` to the SFTTrainer. This might lead to some unexpected behaviour due to overflow issues when training a model in half-precision. You might consider adding `tokenizer.padding_side = 'right'` to your code.\n",
      "  warnings.warn(\n"
     ]
    }
   ],
   "source": [
    "def format_prompt_func(example):\n",
    "    if isinstance(example['instruction'], str):\n",
    "        return f\"### Instruction:\\n{example['instruction']}\\n\\n### Response:\\n{example['response']}\"\n",
    "    \n",
    "    output_texts = []\n",
    "    for i in range(len(example['instruction'])):\n",
    "        text = f\"### Instruction:\\n{example['instruction'][i]}\\n\\n### Response:\\n{example['response'][i]}\"\n",
    "        output_texts.append(text)\n",
    "    return output_texts\n",
    "\n",
    "trainer = SFTTrainer(\n",
    "    model=model,\n",
    "    train_dataset=dataset_train,\n",
    "    eval_dataset=dataset_test,\n",
    "    formatting_func=format_prompt_func,\n",
    "    max_seq_length=max_seq_length,\n",
    "    tokenizer=tokenizer,\n",
    "    args = TrainingArguments(\n",
    "        output_dir=\"../models/vinallama-7b/eval\",\n",
    "        fp16_full_eval = True,\n",
    "        per_device_eval_batch_size = 1,\n",
    "        eval_accumulation_steps = 4,\n",
    "        evaluation_strategy = \"steps\",\n",
    "        eval_steps = 1,\n",
    "    ),\n",
    ")"
   ]
  },
  {
   "cell_type": "code",
   "execution_count": 3,
   "metadata": {},
   "outputs": [
    {
     "data": {
      "application/vnd.jupyter.widget-view+json": {
       "model_id": "66c5ac274e0c434dbe95f59ca35f7c87",
       "version_major": 2,
       "version_minor": 0
      },
      "text/plain": [
       "Generating benchmark split: 0 examples [00:00, ? examples/s]"
      ]
     },
     "metadata": {},
     "output_type": "display_data"
    }
   ],
   "source": [
    "benchmark_dataset = load_dataset(\"csv\", data_files={\"benchmark\": \"../data/VLSP2020_benchmark_sampled.csv\"})\n",
    "num_examples = len(benchmark_dataset[\"benchmark\"])\n",
    "predictions = []\n",
    "references = benchmark_dataset[\"benchmark\"]['english'][:num_examples]"
   ]
  },
  {
   "cell_type": "code",
   "execution_count": 12,
   "metadata": {},
   "outputs": [],
   "source": [
    "# text_streamer = TextStreamer(tokenizer)\n",
    "predictions = []\n",
    "def format_inference_prompt(example):\n",
    "    return f\"\"\"\n",
    "### Instruction:\n",
    "Dịch câu sau từ tiếng Việt sang tiếng Anh: \n",
    "Tiếng Việt: {example}\n",
    "Tiếng Anh:\n",
    "\n",
    "### Response:\n",
    "\"\"\"\n",
    "\n",
    "def generate_predictions(model, tokenizer, df, num_examples, save_path):\n",
    "    for example in track(df['vietnamese'].iloc[:num_examples], total=num_examples):\n",
    "        inputs = tokenizer(\n",
    "            [\n",
    "                format_inference_prompt(example),\n",
    "            ],\n",
    "            return_tensors=\"pt\",\n",
    "        ).to(\"cuda\")\n",
    "\n",
    "        outputs = model.generate(\n",
    "            **inputs, max_new_tokens=128\n",
    "        )\n",
    "        \n",
    "        response = tokenizer.batch_decode(outputs)\n",
    "        response_split = response[0].split(\"\\n\")\n",
    "        \n",
    "        response_token_index = response_split.index(\"### Response:\")\n",
    "        translation = response_split[response_token_index + 1]\n",
    "\n",
    "        predictions.append(translation)\n",
    "\n",
    "    with open(save_path, \"w\", encoding='utf8') as f:\n",
    "        for prediction in predictions:\n",
    "            f.write(prediction + \"\\n\")    \n"
   ]
  },
  {
   "cell_type": "code",
   "execution_count": 13,
   "metadata": {},
   "outputs": [
    {
     "data": {
      "application/vnd.jupyter.widget-view+json": {
       "model_id": "059b84aca23d4d57860f5d864595138e",
       "version_major": 2,
       "version_minor": 0
      },
      "text/plain": [
       "Output()"
      ]
     },
     "metadata": {},
     "output_type": "display_data"
    },
    {
     "data": {
      "text/html": [
       "<pre style=\"white-space:pre;overflow-x:auto;line-height:normal;font-family:Menlo,'DejaVu Sans Mono',consolas,'Courier New',monospace\"></pre>\n"
      ],
      "text/plain": []
     },
     "metadata": {},
     "output_type": "display_data"
    },
    {
     "data": {
      "text/html": [
       "<pre style=\"white-space:pre;overflow-x:auto;line-height:normal;font-family:Menlo,'DejaVu Sans Mono',consolas,'Courier New',monospace\">\n",
       "</pre>\n"
      ],
      "text/plain": [
       "\n"
      ]
     },
     "metadata": {},
     "output_type": "display_data"
    }
   ],
   "source": [
    "num_examples = len(df_teencode)\n",
    "path = \"../data/predictions_vinallama_7b_teencode.txt\"\n",
    "generate_predictions(model, tokenizer, df_teencode, num_examples, path)"
   ]
  },
  {
   "cell_type": "markdown",
   "metadata": {},
   "source": [
    "# Chat"
   ]
  },
  {
   "cell_type": "code",
   "execution_count": 6,
   "metadata": {},
   "outputs": [
    {
     "name": "stderr",
     "output_type": "stream",
     "text": [
      "/home/nguyen/miniconda3/envs/nlp/lib/python3.10/site-packages/huggingface_hub/file_download.py:1132: FutureWarning: `resume_download` is deprecated and will be removed in version 1.0.0. Downloads always resume when possible. If you want to force a new download, use `force_download=True`.\n",
      "  warnings.warn(\n"
     ]
    },
    {
     "name": "stdout",
     "output_type": "stream",
     "text": [
      "==((====))==  Unsloth: Fast Llama patching release 2024.4\n",
      "   \\\\   /|    GPU: NVIDIA GeForce RTX 3070 Ti. Max memory: 8.0 GB. Platform = Linux.\n",
      "O^O/ \\_/ \\    Pytorch: 2.3.0. CUDA = 8.6. CUDA Toolkit = 12.1.\n",
      "\\        /    Bfloat16 = TRUE. Xformers = 0.0.26.post1. FA = False.\n",
      " \"-____-\"     Free Apache license: http://github.com/unslothai/unsloth\n"
     ]
    },
    {
     "data": {
      "application/vnd.jupyter.widget-view+json": {
       "model_id": "87220a6d736e451b9c2552d456697408",
       "version_major": 2,
       "version_minor": 0
      },
      "text/plain": [
       "Loading checkpoint shards:   0%|          | 0/3 [00:00<?, ?it/s]"
      ]
     },
     "metadata": {},
     "output_type": "display_data"
    },
    {
     "name": "stderr",
     "output_type": "stream",
     "text": [
      "You are using the default legacy behaviour of the <class 'transformers.models.llama.tokenization_llama.LlamaTokenizer'>. This is expected, and simply means that the `legacy` (previous) behavior will be used so nothing changes for you. If you want to use the new behaviour, set `legacy=False`. This should only be set if you understand what it means, and thoroughly read the reason why this was added as explained in https://github.com/huggingface/transformers/pull/24565\n",
      "Special tokens have been added in the vocabulary, make sure the associated word embeddings are fine-tuned or trained.\n"
     ]
    },
    {
     "name": "stdout",
     "output_type": "stream",
     "text": [
      "Unsloth: ../models/vinallama-7b-chat/checkpoint-2961 has no tokenizer.model file.\n",
      "Just informing you about this - this is not a critical error.\n"
     ]
    },
    {
     "name": "stderr",
     "output_type": "stream",
     "text": [
      "Unsloth 2024.4 patched 32 layers with 32 QKV layers, 32 O layers and 32 MLP layers.\n"
     ]
    }
   ],
   "source": [
    "max_seq_length = 4096\n",
    "model, tokenizer = FastLanguageModel.from_pretrained(\n",
    "    model_name=\"../models/vinallama-7b-chat/checkpoint-2961\",\n",
    "    max_seq_length=max_seq_length,\n",
    "    dtype=None,\n",
    "    load_in_4bit=True,\n",
    ")\n",
    "FastLanguageModel.for_inference(model)"
   ]
  },
  {
   "cell_type": "code",
   "execution_count": 7,
   "metadata": {},
   "outputs": [],
   "source": [
    "text_streamer = TextStreamer(tokenizer)\n",
    "\n",
    "def format_inference_prompt(example):\n",
    "    return f\"\"\"Dịch câu sau từ tiếng Việt sang tiếng Anh: \n",
    "Tiếng Việt: {example}\n",
    "Tiếng Anh:\n",
    "\"\"\"\n",
    "\n",
    "predictions = []\n",
    "\n",
    "def generate_predictions_chat(model, tokenizer, df, num_examples, save_path):\n",
    "    for example in track(df['vietnamese'].iloc[:num_examples], total=num_examples):\n",
    "        messages = [\n",
    "            {\"role\": \"system\", \"content\": \"Bạn là một trợ lí AI hữu ích trong việc dịch thuật tiếng Việt sang Tiếng Anh. Hãy trả lời người dùng một cách chính xác.\"},\n",
    "            {\"role\": \"user\", \"content\": format_inference_prompt(example)},\n",
    "        ]\n",
    "        \n",
    "        inputs = tokenizer.apply_chat_template(\n",
    "            messages,\n",
    "            tokenize=True,\n",
    "            add_generation_prompt=True,\n",
    "            return_tensors=\"pt\",\n",
    "        ).to(\"cuda\")\n",
    "        \n",
    "\n",
    "        outputs = model.generate(\n",
    "            inputs, max_new_tokens=128\n",
    "        )\n",
    "        \n",
    "        response = tokenizer.batch_decode(outputs[:, inputs.shape[1]:])[0]\n",
    "        \n",
    "        if \"<|im_end|>\" in response:\n",
    "            translation = response.split(\"<|im_end|>\")[0].strip()\n",
    "        else:\n",
    "            translation = response.strip()\n",
    "            \n",
    "        \n",
    "        # response_token_index = response_split.index(\"### Response:\")\n",
    "        # translation = response_split[response_token_index + 1]\n",
    "\n",
    "        predictions.append(translation)\n",
    "\n",
    "    with open(save_path, \"w\", encoding='utf8') as f:\n",
    "        for prediction in predictions:\n",
    "            f.write(prediction + \"\\n\")    \n"
   ]
  },
  {
   "cell_type": "code",
   "execution_count": 8,
   "metadata": {},
   "outputs": [
    {
     "data": {
      "application/vnd.jupyter.widget-view+json": {
       "model_id": "5f5ef08f13724c96a859c0390c6d0b31",
       "version_major": 2,
       "version_minor": 0
      },
      "text/plain": [
       "Output()"
      ]
     },
     "metadata": {},
     "output_type": "display_data"
    },
    {
     "data": {
      "text/html": [
       "<pre style=\"white-space:pre;overflow-x:auto;line-height:normal;font-family:Menlo,'DejaVu Sans Mono',consolas,'Courier New',monospace\"></pre>\n"
      ],
      "text/plain": []
     },
     "metadata": {},
     "output_type": "display_data"
    },
    {
     "data": {
      "text/html": [
       "<pre style=\"white-space:pre;overflow-x:auto;line-height:normal;font-family:Menlo,'DejaVu Sans Mono',consolas,'Courier New',monospace\">\n",
       "</pre>\n"
      ],
      "text/plain": [
       "\n"
      ]
     },
     "metadata": {},
     "output_type": "display_data"
    }
   ],
   "source": [
    "# benchmark_dataset = load_dataset(\"csv\", data_files={\"benchmark\": \"../data/VLSP2020_benchmark_sampled.csv\"})\n",
    "num_examples = len(df_teencode)\n",
    "predictions = []\n",
    "\n",
    "generate_predictions_chat(model, tokenizer, df_teencode, num_examples, \"../data/predictions_vinallama_7b_chat_teencode.txt\")"
   ]
  },
  {
   "cell_type": "markdown",
   "metadata": {},
   "source": [
    "# Evaluate"
   ]
  },
  {
   "cell_type": "code",
   "execution_count": 12,
   "metadata": {},
   "outputs": [],
   "source": [
    "with open(\"../data/predictions_vinallama_7b_teencode.txt\", \"r\", encoding='utf8') as f:\n",
    "    predictions_vinallama_7b = f.readlines()\n",
    "\n",
    "with open(\"../data/predictions_vinallama_7b_chat_teencode.txt\", \"r\", encoding='utf8') as f:\n",
    "    predictions_vinallama_7b_chat = f.readlines()\n",
    "\n",
    "assert len(predictions_vinallama_7b) == len(predictions_vinallama_7b_chat)\n",
    "num_examples = len(predictions_vinallama_7b)\n",
    "references = df_teencode['english'].tolist()\n",
    "sources = df_teencode['vietnamese'].tolist()"
   ]
  },
  {
   "cell_type": "markdown",
   "metadata": {},
   "source": [
    "## BLEU"
   ]
  },
  {
   "cell_type": "code",
   "execution_count": 13,
   "metadata": {},
   "outputs": [
    {
     "data": {
      "text/html": [
       "<pre style=\"white-space:pre;overflow-x:auto;line-height:normal;font-family:Menlo,'DejaVu Sans Mono',consolas,'Courier New',monospace\">Vinallama 7B bleu: <span style=\"color: #008080; text-decoration-color: #008080; font-weight: bold\">0.6941782058664238</span>\n",
       "</pre>\n"
      ],
      "text/plain": [
       "Vinallama 7B bleu: \u001b[1;36m0.6941782058664238\u001b[0m\n"
      ]
     },
     "metadata": {},
     "output_type": "display_data"
    },
    {
     "data": {
      "text/html": [
       "<pre style=\"white-space:pre;overflow-x:auto;line-height:normal;font-family:Menlo,'DejaVu Sans Mono',consolas,'Courier New',monospace\">Vinallama 7B Chat bleu: <span style=\"color: #008080; text-decoration-color: #008080; font-weight: bold\">0.7364245484039528</span>\n",
       "</pre>\n"
      ],
      "text/plain": [
       "Vinallama 7B Chat bleu: \u001b[1;36m0.7364245484039528\u001b[0m\n"
      ]
     },
     "metadata": {},
     "output_type": "display_data"
    },
    {
     "data": {
      "text/html": [
       "<pre style=\"white-space:pre;overflow-x:auto;line-height:normal;font-family:Menlo,'DejaVu Sans Mono',consolas,'Courier New',monospace\">Vinallama 7B precisions: <span style=\"font-weight: bold\">[</span><span style=\"color: #008080; text-decoration-color: #008080; font-weight: bold\">0.7768510984540277</span>, <span style=\"color: #008080; text-decoration-color: #008080; font-weight: bold\">0.7058187324248324</span>, <span style=\"color: #008080; text-decoration-color: #008080; font-weight: bold\">0.666512702078522</span>, <span style=\"color: #008080; text-decoration-color: #008080; font-weight: bold\">0.6353960396039604</span><span style=\"font-weight: bold\">]</span>\n",
       "</pre>\n"
      ],
      "text/plain": [
       "Vinallama 7B precisions: \u001b[1m[\u001b[0m\u001b[1;36m0.7768510984540277\u001b[0m, \u001b[1;36m0.7058187324248324\u001b[0m, \u001b[1;36m0.666512702078522\u001b[0m, \u001b[1;36m0.6353960396039604\u001b[0m\u001b[1m]\u001b[0m\n"
      ]
     },
     "metadata": {},
     "output_type": "display_data"
    },
    {
     "data": {
      "text/html": [
       "<pre style=\"white-space:pre;overflow-x:auto;line-height:normal;font-family:Menlo,'DejaVu Sans Mono',consolas,'Courier New',monospace\">Vinallama 7B Chat precisions: <span style=\"font-weight: bold\">[</span><span style=\"color: #008080; text-decoration-color: #008080; font-weight: bold\">0.8244996701121619</span>, <span style=\"color: #008080; text-decoration-color: #008080; font-weight: bold\">0.7529384109073813</span>, <span style=\"color: #008080; text-decoration-color: #008080; font-weight: bold\">0.7140333165068148</span>, <span style=\"color: #008080; text-decoration-color: #008080; font-weight: bold\">0.6824489795918367</span><span style=\"font-weight: bold\">]</span>\n",
       "</pre>\n"
      ],
      "text/plain": [
       "Vinallama 7B Chat precisions: \u001b[1m[\u001b[0m\u001b[1;36m0.8244996701121619\u001b[0m, \u001b[1;36m0.7529384109073813\u001b[0m, \u001b[1;36m0.7140333165068148\u001b[0m, \u001b[1;36m0.6824489795918367\u001b[0m\u001b[1m]\u001b[0m\n"
      ]
     },
     "metadata": {},
     "output_type": "display_data"
    },
    {
     "data": {
      "text/html": [
       "<pre style=\"white-space:pre;overflow-x:auto;line-height:normal;font-family:Menlo,'DejaVu Sans Mono',consolas,'Courier New',monospace\">Vinallama 7B brevity_penalty: <span style=\"color: #008080; text-decoration-color: #008080; font-weight: bold\">1.0</span>\n",
       "</pre>\n"
      ],
      "text/plain": [
       "Vinallama 7B brevity_penalty: \u001b[1;36m1.0\u001b[0m\n"
      ]
     },
     "metadata": {},
     "output_type": "display_data"
    },
    {
     "data": {
      "text/html": [
       "<pre style=\"white-space:pre;overflow-x:auto;line-height:normal;font-family:Menlo,'DejaVu Sans Mono',consolas,'Courier New',monospace\">Vinallama 7B Chat brevity_penalty: <span style=\"color: #008080; text-decoration-color: #008080; font-weight: bold\">0.9929870987531616</span>\n",
       "</pre>\n"
      ],
      "text/plain": [
       "Vinallama 7B Chat brevity_penalty: \u001b[1;36m0.9929870987531616\u001b[0m\n"
      ]
     },
     "metadata": {},
     "output_type": "display_data"
    },
    {
     "data": {
      "text/html": [
       "<pre style=\"white-space:pre;overflow-x:auto;line-height:normal;font-family:Menlo,'DejaVu Sans Mono',consolas,'Courier New',monospace\">Vinallama 7B length_ratio: <span style=\"color: #008080; text-decoration-color: #008080; font-weight: bold\">1.0735968552085609</span>\n",
       "</pre>\n"
      ],
      "text/plain": [
       "Vinallama 7B length_ratio: \u001b[1;36m1.0735968552085609\u001b[0m\n"
      ]
     },
     "metadata": {},
     "output_type": "display_data"
    },
    {
     "data": {
      "text/html": [
       "<pre style=\"white-space:pre;overflow-x:auto;line-height:normal;font-family:Menlo,'DejaVu Sans Mono',consolas,'Courier New',monospace\">Vinallama 7B Chat length_ratio: <span style=\"color: #008080; text-decoration-color: #008080; font-weight: bold\">0.9930115745796025</span>\n",
       "</pre>\n"
      ],
      "text/plain": [
       "Vinallama 7B Chat length_ratio: \u001b[1;36m0.9930115745796025\u001b[0m\n"
      ]
     },
     "metadata": {},
     "output_type": "display_data"
    },
    {
     "data": {
      "text/html": [
       "<pre style=\"white-space:pre;overflow-x:auto;line-height:normal;font-family:Menlo,'DejaVu Sans Mono',consolas,'Courier New',monospace\">Vinallama 7B translation_length: <span style=\"color: #008080; text-decoration-color: #008080; font-weight: bold\">4916</span>\n",
       "</pre>\n"
      ],
      "text/plain": [
       "Vinallama 7B translation_length: \u001b[1;36m4916\u001b[0m\n"
      ]
     },
     "metadata": {},
     "output_type": "display_data"
    },
    {
     "data": {
      "text/html": [
       "<pre style=\"white-space:pre;overflow-x:auto;line-height:normal;font-family:Menlo,'DejaVu Sans Mono',consolas,'Courier New',monospace\">Vinallama 7B Chat translation_length: <span style=\"color: #008080; text-decoration-color: #008080; font-weight: bold\">4547</span>\n",
       "</pre>\n"
      ],
      "text/plain": [
       "Vinallama 7B Chat translation_length: \u001b[1;36m4547\u001b[0m\n"
      ]
     },
     "metadata": {},
     "output_type": "display_data"
    },
    {
     "data": {
      "text/html": [
       "<pre style=\"white-space:pre;overflow-x:auto;line-height:normal;font-family:Menlo,'DejaVu Sans Mono',consolas,'Courier New',monospace\">Vinallama 7B reference_length: <span style=\"color: #008080; text-decoration-color: #008080; font-weight: bold\">4579</span>\n",
       "</pre>\n"
      ],
      "text/plain": [
       "Vinallama 7B reference_length: \u001b[1;36m4579\u001b[0m\n"
      ]
     },
     "metadata": {},
     "output_type": "display_data"
    },
    {
     "data": {
      "text/html": [
       "<pre style=\"white-space:pre;overflow-x:auto;line-height:normal;font-family:Menlo,'DejaVu Sans Mono',consolas,'Courier New',monospace\">Vinallama 7B Chat reference_length: <span style=\"color: #008080; text-decoration-color: #008080; font-weight: bold\">4579</span>\n",
       "</pre>\n"
      ],
      "text/plain": [
       "Vinallama 7B Chat reference_length: \u001b[1;36m4579\u001b[0m\n"
      ]
     },
     "metadata": {},
     "output_type": "display_data"
    }
   ],
   "source": [
    "bleu = evaluate.load(\"bleu\")\n",
    "\n",
    "results_vinallama_7b = bleu.compute(predictions=predictions_vinallama_7b, references=references)\n",
    "results_vinallama_7b_chat = bleu.compute(predictions=predictions_vinallama_7b_chat, references=references)\n",
    "\n",
    "for key, value in results_vinallama_7b.items():\n",
    "    print(f\"Vinallama 7B {key}: {value}\")\n",
    "    print(f\"Vinallama 7B Chat {key}: {results_vinallama_7b_chat[key]}\")"
   ]
  },
  {
   "cell_type": "markdown",
   "metadata": {},
   "source": [
    "## BERTSCORE"
   ]
  },
  {
   "cell_type": "code",
   "execution_count": 14,
   "metadata": {},
   "outputs": [
    {
     "name": "stderr",
     "output_type": "stream",
     "text": [
      "/home/nguyen/miniconda3/envs/nlp/lib/python3.10/site-packages/huggingface_hub/file_download.py:1132: FutureWarning: `resume_download` is deprecated and will be removed in version 1.0.0. Downloads always resume when possible. If you want to force a new download, use `force_download=True`.\n",
      "  warnings.warn(\n",
      "Some weights of RobertaModel were not initialized from the model checkpoint at roberta-large and are newly initialized: ['roberta.pooler.dense.bias', 'roberta.pooler.dense.weight']\n",
      "You should probably TRAIN this model on a down-stream task to be able to use it for predictions and inference.\n"
     ]
    },
    {
     "data": {
      "text/html": [
       "<pre style=\"white-space:pre;overflow-x:auto;line-height:normal;font-family:Menlo,'DejaVu Sans Mono',consolas,'Courier New',monospace\">Vinallama 7B precision: <span style=\"color: #008080; text-decoration-color: #008080; font-weight: bold\">0.9627518653869629</span>\n",
       "</pre>\n"
      ],
      "text/plain": [
       "Vinallama 7B precision: \u001b[1;36m0.9627518653869629\u001b[0m\n"
      ]
     },
     "metadata": {},
     "output_type": "display_data"
    },
    {
     "data": {
      "text/html": [
       "<pre style=\"white-space:pre;overflow-x:auto;line-height:normal;font-family:Menlo,'DejaVu Sans Mono',consolas,'Courier New',monospace\">Vinallama 7B Chat precision: <span style=\"color: #008080; text-decoration-color: #008080; font-weight: bold\">0.9665407538414001</span>\n",
       "</pre>\n"
      ],
      "text/plain": [
       "Vinallama 7B Chat precision: \u001b[1;36m0.9665407538414001\u001b[0m\n"
      ]
     },
     "metadata": {},
     "output_type": "display_data"
    },
    {
     "data": {
      "text/html": [
       "<pre style=\"white-space:pre;overflow-x:auto;line-height:normal;font-family:Menlo,'DejaVu Sans Mono',consolas,'Courier New',monospace\">Vinallama 7B recall: <span style=\"color: #008080; text-decoration-color: #008080; font-weight: bold\">0.9661794304847717</span>\n",
       "</pre>\n"
      ],
      "text/plain": [
       "Vinallama 7B recall: \u001b[1;36m0.9661794304847717\u001b[0m\n"
      ]
     },
     "metadata": {},
     "output_type": "display_data"
    },
    {
     "data": {
      "text/html": [
       "<pre style=\"white-space:pre;overflow-x:auto;line-height:normal;font-family:Menlo,'DejaVu Sans Mono',consolas,'Courier New',monospace\">Vinallama 7B Chat recall: <span style=\"color: #008080; text-decoration-color: #008080; font-weight: bold\">0.9666844010353088</span>\n",
       "</pre>\n"
      ],
      "text/plain": [
       "Vinallama 7B Chat recall: \u001b[1;36m0.9666844010353088\u001b[0m\n"
      ]
     },
     "metadata": {},
     "output_type": "display_data"
    },
    {
     "data": {
      "text/html": [
       "<pre style=\"white-space:pre;overflow-x:auto;line-height:normal;font-family:Menlo,'DejaVu Sans Mono',consolas,'Courier New',monospace\">Vinallama 7B f1: <span style=\"color: #008080; text-decoration-color: #008080; font-weight: bold\">0.9643222689628601</span>\n",
       "</pre>\n"
      ],
      "text/plain": [
       "Vinallama 7B f1: \u001b[1;36m0.9643222689628601\u001b[0m\n"
      ]
     },
     "metadata": {},
     "output_type": "display_data"
    },
    {
     "data": {
      "text/html": [
       "<pre style=\"white-space:pre;overflow-x:auto;line-height:normal;font-family:Menlo,'DejaVu Sans Mono',consolas,'Courier New',monospace\">Vinallama 7B Chat f1: <span style=\"color: #008080; text-decoration-color: #008080; font-weight: bold\">0.9665389657020569</span>\n",
       "</pre>\n"
      ],
      "text/plain": [
       "Vinallama 7B Chat f1: \u001b[1;36m0.9665389657020569\u001b[0m\n"
      ]
     },
     "metadata": {},
     "output_type": "display_data"
    },
    {
     "data": {
      "text/html": [
       "<pre style=\"white-space:pre;overflow-x:auto;line-height:normal;font-family:Menlo,'DejaVu Sans Mono',consolas,'Courier New',monospace\">Vinallama 7B hashcode: roberta-large_L17_no-<span style=\"color: #808000; text-decoration-color: #808000\">idf_version</span>=<span style=\"color: #800080; text-decoration-color: #800080; font-weight: bold\">0</span><span style=\"color: #800080; text-decoration-color: #800080; font-weight: bold\">.3.12</span><span style=\"font-weight: bold\">(</span><span style=\"color: #808000; text-decoration-color: #808000\">hug_trans</span>=<span style=\"color: #008080; text-decoration-color: #008080; font-weight: bold\">4.40</span>.<span style=\"color: #008080; text-decoration-color: #008080; font-weight: bold\">2</span><span style=\"font-weight: bold\">)</span>\n",
       "</pre>\n"
      ],
      "text/plain": [
       "Vinallama 7B hashcode: roberta-large_L17_no-\u001b[33midf_version\u001b[0m=\u001b[1;35m0\u001b[0m\u001b[1;35m.3.12\u001b[0m\u001b[1m(\u001b[0m\u001b[33mhug_trans\u001b[0m=\u001b[1;36m4\u001b[0m\u001b[1;36m.40\u001b[0m.\u001b[1;36m2\u001b[0m\u001b[1m)\u001b[0m\n"
      ]
     },
     "metadata": {},
     "output_type": "display_data"
    },
    {
     "data": {
      "text/html": [
       "<pre style=\"white-space:pre;overflow-x:auto;line-height:normal;font-family:Menlo,'DejaVu Sans Mono',consolas,'Courier New',monospace\">Vinallama 7B Chat hashcode: roberta-large_L17_no-<span style=\"color: #808000; text-decoration-color: #808000\">idf_version</span>=<span style=\"color: #800080; text-decoration-color: #800080; font-weight: bold\">0</span><span style=\"color: #800080; text-decoration-color: #800080; font-weight: bold\">.3.12</span><span style=\"font-weight: bold\">(</span><span style=\"color: #808000; text-decoration-color: #808000\">hug_trans</span>=<span style=\"color: #008080; text-decoration-color: #008080; font-weight: bold\">4.40</span>.<span style=\"color: #008080; text-decoration-color: #008080; font-weight: bold\">2</span><span style=\"font-weight: bold\">)</span>\n",
       "</pre>\n"
      ],
      "text/plain": [
       "Vinallama 7B Chat hashcode: roberta-large_L17_no-\u001b[33midf_version\u001b[0m=\u001b[1;35m0\u001b[0m\u001b[1;35m.3.12\u001b[0m\u001b[1m(\u001b[0m\u001b[33mhug_trans\u001b[0m=\u001b[1;36m4\u001b[0m\u001b[1;36m.40\u001b[0m.\u001b[1;36m2\u001b[0m\u001b[1m)\u001b[0m\n"
      ]
     },
     "metadata": {},
     "output_type": "display_data"
    }
   ],
   "source": [
    "bertscore = evaluate.load(\"bertscore\")\n",
    "\n",
    "results_vinallama_7b = bertscore.compute(predictions=predictions_vinallama_7b, references=references, lang=\"en\")\n",
    "results_vinallama_7b_chat = bertscore.compute(predictions=predictions_vinallama_7b_chat, references=references, lang=\"en\")\n",
    "\n",
    "for key, value in results_vinallama_7b.items():\n",
    "    \n",
    "    if isinstance(value, list):\n",
    "        vinallama_7b_tensor = torch.tensor(value, dtype=torch.float32)\n",
    "        vinallama_7b_chat_tensor = torch.tensor(results_vinallama_7b_chat[key], dtype=torch.float32)\n",
    "        \n",
    "        avg_vinallama_7b = torch.mean(vinallama_7b_tensor).item()\n",
    "        avg_vinallama_7b_chat = torch.mean(vinallama_7b_chat_tensor).item()\n",
    "        print(f\"Vinallama 7B {key}: {avg_vinallama_7b}\")\n",
    "        print(f\"Vinallama 7B Chat {key}: {avg_vinallama_7b_chat}\")\n",
    "    else:\n",
    "        print(f\"Vinallama 7B {key}: {value}\")\n",
    "        print(f\"Vinallama 7B Chat {key}: {results_vinallama_7b_chat[key]}\")"
   ]
  },
  {
   "cell_type": "markdown",
   "metadata": {},
   "source": [
    "## BLEURT"
   ]
  },
  {
   "cell_type": "code",
   "execution_count": 15,
   "metadata": {},
   "outputs": [
    {
     "name": "stderr",
     "output_type": "stream",
     "text": [
      "Using default BLEURT-Base checkpoint for sequence maximum length 128. You can use a bigger model for better results with e.g.: evaluate.load('bleurt', 'bleurt-large-512').\n"
     ]
    },
    {
     "name": "stdout",
     "output_type": "stream",
     "text": [
      "INFO:tensorflow:Reading checkpoint /home/nguyen/.cache/huggingface/metrics/bleurt/default/downloads/extracted/49ae870ec41970df36d4cb594bb8991ef69b9fe584090a8c05e6b35a23eb644e/bleurt-base-128.\n",
      "INFO:tensorflow:Config file found, reading.\n",
      "INFO:tensorflow:Will load checkpoint bert_custom\n",
      "INFO:tensorflow:Loads full paths and checks that files exists.\n",
      "INFO:tensorflow:... name:bert_custom\n",
      "INFO:tensorflow:... vocab_file:vocab.txt\n",
      "INFO:tensorflow:... bert_config_file:bert_config.json\n",
      "INFO:tensorflow:... do_lower_case:True\n",
      "INFO:tensorflow:... max_seq_length:128\n",
      "INFO:tensorflow:Creating BLEURT scorer.\n",
      "INFO:tensorflow:Creating WordPiece tokenizer.\n",
      "INFO:tensorflow:WordPiece tokenizer instantiated.\n",
      "INFO:tensorflow:Creating Eager Mode predictor.\n",
      "INFO:tensorflow:Loading model.\n"
     ]
    },
    {
     "name": "stderr",
     "output_type": "stream",
     "text": [
      "2024-05-31 23:42:50.426101: I external/local_xla/xla/stream_executor/cuda/cuda_executor.cc:984] could not open file to read NUMA node: /sys/bus/pci/devices/0000:01:00.0/numa_node\n",
      "Your kernel may have been built without NUMA support.\n",
      "2024-05-31 23:42:50.434166: I external/local_xla/xla/stream_executor/cuda/cuda_executor.cc:984] could not open file to read NUMA node: /sys/bus/pci/devices/0000:01:00.0/numa_node\n",
      "Your kernel may have been built without NUMA support.\n",
      "2024-05-31 23:42:50.434186: I external/local_xla/xla/stream_executor/cuda/cuda_executor.cc:984] could not open file to read NUMA node: /sys/bus/pci/devices/0000:01:00.0/numa_node\n",
      "Your kernel may have been built without NUMA support.\n",
      "2024-05-31 23:42:50.437790: I external/local_xla/xla/stream_executor/cuda/cuda_executor.cc:984] could not open file to read NUMA node: /sys/bus/pci/devices/0000:01:00.0/numa_node\n",
      "Your kernel may have been built without NUMA support.\n",
      "2024-05-31 23:42:50.437816: I external/local_xla/xla/stream_executor/cuda/cuda_executor.cc:984] could not open file to read NUMA node: /sys/bus/pci/devices/0000:01:00.0/numa_node\n",
      "Your kernel may have been built without NUMA support.\n",
      "2024-05-31 23:42:50.437825: I external/local_xla/xla/stream_executor/cuda/cuda_executor.cc:984] could not open file to read NUMA node: /sys/bus/pci/devices/0000:01:00.0/numa_node\n",
      "Your kernel may have been built without NUMA support.\n",
      "2024-05-31 23:42:50.438025: I external/local_xla/xla/stream_executor/cuda/cuda_executor.cc:984] could not open file to read NUMA node: /sys/bus/pci/devices/0000:01:00.0/numa_node\n",
      "Your kernel may have been built without NUMA support.\n",
      "2024-05-31 23:42:50.438038: I external/local_xla/xla/stream_executor/cuda/cuda_executor.cc:984] could not open file to read NUMA node: /sys/bus/pci/devices/0000:01:00.0/numa_node\n",
      "Your kernel may have been built without NUMA support.\n",
      "2024-05-31 23:42:50.438042: I tensorflow/core/common_runtime/gpu/gpu_device.cc:2019] Could not identify NUMA node of platform GPU id 0, defaulting to 0.  Your kernel may not have been built with NUMA support.\n",
      "2024-05-31 23:42:50.438053: I external/local_xla/xla/stream_executor/cuda/cuda_executor.cc:984] could not open file to read NUMA node: /sys/bus/pci/devices/0000:01:00.0/numa_node\n",
      "Your kernel may have been built without NUMA support.\n",
      "2024-05-31 23:42:50.438921: I tensorflow/core/common_runtime/gpu/gpu_device.cc:1928] Created device /job:localhost/replica:0/task:0/device:GPU:0 with 3994 MB memory:  -> device: 0, name: NVIDIA GeForce RTX 3070 Ti, pci bus id: 0000:01:00.0, compute capability: 8.6\n"
     ]
    },
    {
     "name": "stdout",
     "output_type": "stream",
     "text": [
      "INFO:tensorflow:BLEURT initialized.\n"
     ]
    },
    {
     "name": "stderr",
     "output_type": "stream",
     "text": [
      "INFO:tensorflow:BLEURT initialized.\n"
     ]
    },
    {
     "data": {
      "text/html": [
       "<pre style=\"white-space:pre;overflow-x:auto;line-height:normal;font-family:Menlo,'DejaVu Sans Mono',consolas,'Courier New',monospace\">Vinallama 7B scores: <span style=\"color: #008080; text-decoration-color: #008080; font-weight: bold\">0.4170148968696594</span>\n",
       "</pre>\n"
      ],
      "text/plain": [
       "Vinallama 7B scores: \u001b[1;36m0.4170148968696594\u001b[0m\n"
      ]
     },
     "metadata": {},
     "output_type": "display_data"
    },
    {
     "data": {
      "text/html": [
       "<pre style=\"white-space:pre;overflow-x:auto;line-height:normal;font-family:Menlo,'DejaVu Sans Mono',consolas,'Courier New',monospace\">Vinallama 7B Chat scores: <span style=\"color: #008080; text-decoration-color: #008080; font-weight: bold\">0.4624171853065491</span>\n",
       "</pre>\n"
      ],
      "text/plain": [
       "Vinallama 7B Chat scores: \u001b[1;36m0.4624171853065491\u001b[0m\n"
      ]
     },
     "metadata": {},
     "output_type": "display_data"
    }
   ],
   "source": [
    "bleurt = evaluate.load(\"bleurt\", module_type=\"metric\", checkpoint=\"bleurt-large-512\")\n",
    "\n",
    "results_vinallama_7b = bleurt.compute(predictions=predictions_vinallama_7b, references=references)\n",
    "results_vinallama_7b_chat = bleurt.compute(predictions=predictions_vinallama_7b_chat, references=references)\n",
    "\n",
    "for key, value in results_vinallama_7b.items():\n",
    "    \n",
    "    vinallama_7b_tensor = torch.tensor(value, dtype=torch.float32)\n",
    "    vinallama_7b_chat_tensor = torch.tensor(results_vinallama_7b_chat[key], dtype=torch.float32)\n",
    "    \n",
    "    avg_vinallama_7b = torch.mean(vinallama_7b_tensor).item()\n",
    "    avg_vinallama_7b_chat = torch.mean(vinallama_7b_chat_tensor).item()\n",
    "    \n",
    "    print(f\"Vinallama 7B {key}: {avg_vinallama_7b}\")\n",
    "    print(f\"Vinallama 7B Chat {key}: {avg_vinallama_7b_chat}\")"
   ]
  },
  {
   "cell_type": "markdown",
   "metadata": {},
   "source": [
    "## MANUAL"
   ]
  },
  {
   "cell_type": "code",
   "execution_count": 16,
   "metadata": {},
   "outputs": [
    {
     "data": {
      "text/html": [
       "<pre style=\"white-space:pre;overflow-x:auto;line-height:normal;font-family:Menlo,'DejaVu Sans Mono',consolas,'Courier New',monospace\">Vietnamese: per sao bố lại đủ bình tĩnh để xem hết cái trailer này nhỉ . sợ vãi\n",
       "</pre>\n"
      ],
      "text/plain": [
       "Vietnamese: per sao bố lại đủ bình tĩnh để xem hết cái trailer này nhỉ . sợ vãi\n"
      ]
     },
     "metadata": {},
     "output_type": "display_data"
    },
    {
     "data": {
      "text/html": [
       "<pre style=\"white-space:pre;overflow-x:auto;line-height:normal;font-family:Menlo,'DejaVu Sans Mono',consolas,'Courier New',monospace\">Reference: Per, why did Dad have enough composure to watch this entire trailer? It's scary as fuck.\n",
       "</pre>\n"
      ],
      "text/plain": [
       "Reference: Per, why did Dad have enough composure to watch this entire trailer? It's scary as fuck.\n"
      ]
     },
     "metadata": {},
     "output_type": "display_data"
    },
    {
     "data": {
      "text/html": [
       "<pre style=\"white-space:pre;overflow-x:auto;line-height:normal;font-family:Menlo,'DejaVu Sans Mono',consolas,'Courier New',monospace\">Vinallama 7B: Per, why did Dad have enough composure to watch this entire trailer? It's scary as fuck.\n",
       "\n",
       "</pre>\n"
      ],
      "text/plain": [
       "Vinallama 7B: Per, why did Dad have enough composure to watch this entire trailer? It's scary as fuck.\n",
       "\n"
      ]
     },
     "metadata": {},
     "output_type": "display_data"
    },
    {
     "data": {
      "text/html": [
       "<pre style=\"white-space:pre;overflow-x:auto;line-height:normal;font-family:Menlo,'DejaVu Sans Mono',consolas,'Courier New',monospace\">Vinallama 7B Chat: Per, why did Dad have enough composure to watch this entire trailer? It's scary as fuck.\n",
       "\n",
       "</pre>\n"
      ],
      "text/plain": [
       "Vinallama 7B Chat: Per, why did Dad have enough composure to watch this entire trailer? It's scary as fuck.\n",
       "\n"
      ]
     },
     "metadata": {},
     "output_type": "display_data"
    },
    {
     "data": {
      "text/html": [
       "<pre style=\"white-space:pre;overflow-x:auto;line-height:normal;font-family:Menlo,'DejaVu Sans Mono',consolas,'Courier New',monospace\">\n",
       "\n",
       "</pre>\n"
      ],
      "text/plain": [
       "\n",
       "\n"
      ]
     },
     "metadata": {},
     "output_type": "display_data"
    },
    {
     "data": {
      "text/html": [
       "<pre style=\"white-space:pre;overflow-x:auto;line-height:normal;font-family:Menlo,'DejaVu Sans Mono',consolas,'Courier New',monospace\">Vietnamese: chuẩn bài\n",
       "</pre>\n"
      ],
      "text/plain": [
       "Vietnamese: chuẩn bài\n"
      ]
     },
     "metadata": {},
     "output_type": "display_data"
    },
    {
     "data": {
      "text/html": [
       "<pre style=\"white-space:pre;overflow-x:auto;line-height:normal;font-family:Menlo,'DejaVu Sans Mono',consolas,'Courier New',monospace\">Reference: Spot on.\n",
       "</pre>\n"
      ],
      "text/plain": [
       "Reference: Spot on.\n"
      ]
     },
     "metadata": {},
     "output_type": "display_data"
    },
    {
     "data": {
      "text/html": [
       "<pre style=\"white-space:pre;overflow-x:auto;line-height:normal;font-family:Menlo,'DejaVu Sans Mono',consolas,'Courier New',monospace\">Vinallama 7B: Exactly on point.\n",
       "\n",
       "</pre>\n"
      ],
      "text/plain": [
       "Vinallama 7B: Exactly on point.\n",
       "\n"
      ]
     },
     "metadata": {},
     "output_type": "display_data"
    },
    {
     "data": {
      "text/html": [
       "<pre style=\"white-space:pre;overflow-x:auto;line-height:normal;font-family:Menlo,'DejaVu Sans Mono',consolas,'Courier New',monospace\">Vinallama 7B Chat: Exactly the beat\n",
       "\n",
       "</pre>\n"
      ],
      "text/plain": [
       "Vinallama 7B Chat: Exactly the beat\n",
       "\n"
      ]
     },
     "metadata": {},
     "output_type": "display_data"
    },
    {
     "data": {
      "text/html": [
       "<pre style=\"white-space:pre;overflow-x:auto;line-height:normal;font-family:Menlo,'DejaVu Sans Mono',consolas,'Courier New',monospace\">\n",
       "\n",
       "</pre>\n"
      ],
      "text/plain": [
       "\n",
       "\n"
      ]
     },
     "metadata": {},
     "output_type": "display_data"
    },
    {
     "data": {
      "text/html": [
       "<pre style=\"white-space:pre;overflow-x:auto;line-height:normal;font-family:Menlo,'DejaVu Sans Mono',consolas,'Courier New',monospace\">Vietnamese: thế con trai là của ai cho\n",
       "</pre>\n"
      ],
      "text/plain": [
       "Vietnamese: thế con trai là của ai cho\n"
      ]
     },
     "metadata": {},
     "output_type": "display_data"
    },
    {
     "data": {
      "text/html": [
       "<pre style=\"white-space:pre;overflow-x:auto;line-height:normal;font-family:Menlo,'DejaVu Sans Mono',consolas,'Courier New',monospace\">Reference: Whose son is that, though?\n",
       "</pre>\n"
      ],
      "text/plain": [
       "Reference: Whose son is that, though?\n"
      ]
     },
     "metadata": {},
     "output_type": "display_data"
    },
    {
     "data": {
      "text/html": [
       "<pre style=\"white-space:pre;overflow-x:auto;line-height:normal;font-family:Menlo,'DejaVu Sans Mono',consolas,'Courier New',monospace\">Vinallama 7B: Who's the boss of these kids?\n",
       "\n",
       "</pre>\n"
      ],
      "text/plain": [
       "Vinallama 7B: Who's the boss of these kids?\n",
       "\n"
      ]
     },
     "metadata": {},
     "output_type": "display_data"
    },
    {
     "data": {
      "text/html": [
       "<pre style=\"white-space:pre;overflow-x:auto;line-height:normal;font-family:Menlo,'DejaVu Sans Mono',consolas,'Courier New',monospace\">Vinallama 7B Chat: Who's the owner of that son?\n",
       "\n",
       "</pre>\n"
      ],
      "text/plain": [
       "Vinallama 7B Chat: Who's the owner of that son?\n",
       "\n"
      ]
     },
     "metadata": {},
     "output_type": "display_data"
    },
    {
     "data": {
      "text/html": [
       "<pre style=\"white-space:pre;overflow-x:auto;line-height:normal;font-family:Menlo,'DejaVu Sans Mono',consolas,'Courier New',monospace\">\n",
       "\n",
       "</pre>\n"
      ],
      "text/plain": [
       "\n",
       "\n"
      ]
     },
     "metadata": {},
     "output_type": "display_data"
    },
    {
     "data": {
      "text/html": [
       "<pre style=\"white-space:pre;overflow-x:auto;line-height:normal;font-family:Menlo,'DejaVu Sans Mono',consolas,'Courier New',monospace\">Vietnamese: kinh nghiệm được truyền lại là khi nào nấu xong bỏ tí <span style=\"color: #008000; text-decoration-color: #008000\">\" tro \"</span> vào lần sau không phải nấu\n",
       "</pre>\n"
      ],
      "text/plain": [
       "Vietnamese: kinh nghiệm được truyền lại là khi nào nấu xong bỏ tí \u001b[32m\" tro \"\u001b[0m vào lần sau không phải nấu\n"
      ]
     },
     "metadata": {},
     "output_type": "display_data"
    },
    {
     "data": {
      "text/html": [
       "<pre style=\"white-space:pre;overflow-x:auto;line-height:normal;font-family:Menlo,'DejaVu Sans Mono',consolas,'Courier New',monospace\">Reference: The experience passed down is when you finish cooking, add a bit of ashes for the next time, so you \n",
       "don't have to cook again\n",
       "</pre>\n"
      ],
      "text/plain": [
       "Reference: The experience passed down is when you finish cooking, add a bit of ashes for the next time, so you \n",
       "don't have to cook again\n"
      ]
     },
     "metadata": {},
     "output_type": "display_data"
    },
    {
     "data": {
      "text/html": [
       "<pre style=\"white-space:pre;overflow-x:auto;line-height:normal;font-family:Menlo,'DejaVu Sans Mono',consolas,'Courier New',monospace\">Vinallama 7B: The experience passed down is when you finish cooking, add a bit of ashes for the next time instead \n",
       "of cooking again.\n",
       "\n",
       "</pre>\n"
      ],
      "text/plain": [
       "Vinallama 7B: The experience passed down is when you finish cooking, add a bit of ashes for the next time instead \n",
       "of cooking again.\n",
       "\n"
      ]
     },
     "metadata": {},
     "output_type": "display_data"
    },
    {
     "data": {
      "text/html": [
       "<pre style=\"white-space:pre;overflow-x:auto;line-height:normal;font-family:Menlo,'DejaVu Sans Mono',consolas,'Courier New',monospace\">Vinallama 7B Chat: Experience passed down is that once you cook it, add a bit of ashes for the next time, don't \n",
       "have to cook again\n",
       "\n",
       "</pre>\n"
      ],
      "text/plain": [
       "Vinallama 7B Chat: Experience passed down is that once you cook it, add a bit of ashes for the next time, don't \n",
       "have to cook again\n",
       "\n"
      ]
     },
     "metadata": {},
     "output_type": "display_data"
    },
    {
     "data": {
      "text/html": [
       "<pre style=\"white-space:pre;overflow-x:auto;line-height:normal;font-family:Menlo,'DejaVu Sans Mono',consolas,'Courier New',monospace\">\n",
       "\n",
       "</pre>\n"
      ],
      "text/plain": [
       "\n",
       "\n"
      ]
     },
     "metadata": {},
     "output_type": "display_data"
    },
    {
     "data": {
      "text/html": [
       "<pre style=\"white-space:pre;overflow-x:auto;line-height:normal;font-family:Menlo,'DejaVu Sans Mono',consolas,'Courier New',monospace\">Vietnamese: kinh vãi \n",
       "</pre>\n"
      ],
      "text/plain": [
       "Vietnamese: kinh vãi \n"
      ]
     },
     "metadata": {},
     "output_type": "display_data"
    },
    {
     "data": {
      "text/html": [
       "<pre style=\"white-space:pre;overflow-x:auto;line-height:normal;font-family:Menlo,'DejaVu Sans Mono',consolas,'Courier New',monospace\">Reference: grossed out\n",
       "</pre>\n"
      ],
      "text/plain": [
       "Reference: grossed out\n"
      ]
     },
     "metadata": {},
     "output_type": "display_data"
    },
    {
     "data": {
      "text/html": [
       "<pre style=\"white-space:pre;overflow-x:auto;line-height:normal;font-family:Menlo,'DejaVu Sans Mono',consolas,'Courier New',monospace\">Vinallama 7B: grossed out the whole thing\n",
       "\n",
       "</pre>\n"
      ],
      "text/plain": [
       "Vinallama 7B: grossed out the whole thing\n",
       "\n"
      ]
     },
     "metadata": {},
     "output_type": "display_data"
    },
    {
     "data": {
      "text/html": [
       "<pre style=\"white-space:pre;overflow-x:auto;line-height:normal;font-family:Menlo,'DejaVu Sans Mono',consolas,'Courier New',monospace\">Vinallama 7B Chat: grossed out\n",
       "\n",
       "</pre>\n"
      ],
      "text/plain": [
       "Vinallama 7B Chat: grossed out\n",
       "\n"
      ]
     },
     "metadata": {},
     "output_type": "display_data"
    },
    {
     "data": {
      "text/html": [
       "<pre style=\"white-space:pre;overflow-x:auto;line-height:normal;font-family:Menlo,'DejaVu Sans Mono',consolas,'Courier New',monospace\">\n",
       "\n",
       "</pre>\n"
      ],
      "text/plain": [
       "\n",
       "\n"
      ]
     },
     "metadata": {},
     "output_type": "display_data"
    },
    {
     "data": {
      "text/html": [
       "<pre style=\"white-space:pre;overflow-x:auto;line-height:normal;font-family:Menlo,'DejaVu Sans Mono',consolas,'Courier New',monospace\">Vietnamese: t thích nhìn mắt của crush hơn là nhìn nó cười\n",
       "</pre>\n"
      ],
      "text/plain": [
       "Vietnamese: t thích nhìn mắt của crush hơn là nhìn nó cười\n"
      ]
     },
     "metadata": {},
     "output_type": "display_data"
    },
    {
     "data": {
      "text/html": [
       "<pre style=\"white-space:pre;overflow-x:auto;line-height:normal;font-family:Menlo,'DejaVu Sans Mono',consolas,'Courier New',monospace\">Reference: I prefer looking into my crush's eyes more than seeing them smile.\n",
       "</pre>\n"
      ],
      "text/plain": [
       "Reference: I prefer looking into my crush's eyes more than seeing them smile.\n"
      ]
     },
     "metadata": {},
     "output_type": "display_data"
    },
    {
     "data": {
      "text/html": [
       "<pre style=\"white-space:pre;overflow-x:auto;line-height:normal;font-family:Menlo,'DejaVu Sans Mono',consolas,'Courier New',monospace\">Vinallama 7B: I prefer looking into my crush's eyes more than seeing them smile.\n",
       "\n",
       "</pre>\n"
      ],
      "text/plain": [
       "Vinallama 7B: I prefer looking into my crush's eyes more than seeing them smile.\n",
       "\n"
      ]
     },
     "metadata": {},
     "output_type": "display_data"
    },
    {
     "data": {
      "text/html": [
       "<pre style=\"white-space:pre;overflow-x:auto;line-height:normal;font-family:Menlo,'DejaVu Sans Mono',consolas,'Courier New',monospace\">Vinallama 7B Chat: I prefer looking into my crush's eyes more than seeing them smile.\n",
       "\n",
       "</pre>\n"
      ],
      "text/plain": [
       "Vinallama 7B Chat: I prefer looking into my crush's eyes more than seeing them smile.\n",
       "\n"
      ]
     },
     "metadata": {},
     "output_type": "display_data"
    },
    {
     "data": {
      "text/html": [
       "<pre style=\"white-space:pre;overflow-x:auto;line-height:normal;font-family:Menlo,'DejaVu Sans Mono',consolas,'Courier New',monospace\">\n",
       "\n",
       "</pre>\n"
      ],
      "text/plain": [
       "\n",
       "\n"
      ]
     },
     "metadata": {},
     "output_type": "display_data"
    },
    {
     "data": {
      "text/html": [
       "<pre style=\"white-space:pre;overflow-x:auto;line-height:normal;font-family:Menlo,'DejaVu Sans Mono',consolas,'Courier New',monospace\">Vietnamese: chú này tội lắm á\n",
       "</pre>\n"
      ],
      "text/plain": [
       "Vietnamese: chú này tội lắm á\n"
      ]
     },
     "metadata": {},
     "output_type": "display_data"
    },
    {
     "data": {
      "text/html": [
       "<pre style=\"white-space:pre;overflow-x:auto;line-height:normal;font-family:Menlo,'DejaVu Sans Mono',consolas,'Courier New',monospace\">Reference: This guy is really pitiful.\n",
       "</pre>\n"
      ],
      "text/plain": [
       "Reference: This guy is really pitiful.\n"
      ]
     },
     "metadata": {},
     "output_type": "display_data"
    },
    {
     "data": {
      "text/html": [
       "<pre style=\"white-space:pre;overflow-x:auto;line-height:normal;font-family:Menlo,'DejaVu Sans Mono',consolas,'Courier New',monospace\">Vinallama 7B: This guy is really pitiful.\n",
       "\n",
       "</pre>\n"
      ],
      "text/plain": [
       "Vinallama 7B: This guy is really pitiful.\n",
       "\n"
      ]
     },
     "metadata": {},
     "output_type": "display_data"
    },
    {
     "data": {
      "text/html": [
       "<pre style=\"white-space:pre;overflow-x:auto;line-height:normal;font-family:Menlo,'DejaVu Sans Mono',consolas,'Courier New',monospace\">Vinallama 7B Chat: This guy is really pitiful.\n",
       "\n",
       "</pre>\n"
      ],
      "text/plain": [
       "Vinallama 7B Chat: This guy is really pitiful.\n",
       "\n"
      ]
     },
     "metadata": {},
     "output_type": "display_data"
    },
    {
     "data": {
      "text/html": [
       "<pre style=\"white-space:pre;overflow-x:auto;line-height:normal;font-family:Menlo,'DejaVu Sans Mono',consolas,'Courier New',monospace\">\n",
       "\n",
       "</pre>\n"
      ],
      "text/plain": [
       "\n",
       "\n"
      ]
     },
     "metadata": {},
     "output_type": "display_data"
    },
    {
     "data": {
      "text/html": [
       "<pre style=\"white-space:pre;overflow-x:auto;line-height:normal;font-family:Menlo,'DejaVu Sans Mono',consolas,'Courier New',monospace\">Vietnamese: thằng kia sao mày bắt vợ với bồ tao dọn thế kia . nhà mày ở đâu tao đến thịt mày chết\n",
       "</pre>\n"
      ],
      "text/plain": [
       "Vietnamese: thằng kia sao mày bắt vợ với bồ tao dọn thế kia . nhà mày ở đâu tao đến thịt mày chết\n"
      ]
     },
     "metadata": {},
     "output_type": "display_data"
    },
    {
     "data": {
      "text/html": [
       "<pre style=\"white-space:pre;overflow-x:auto;line-height:normal;font-family:Menlo,'DejaVu Sans Mono',consolas,'Courier New',monospace\">Reference: Dude, why did you force my wife and girlfriend to clean up like that? Where is your house? I will come \n",
       "and kill you\n",
       "</pre>\n"
      ],
      "text/plain": [
       "Reference: Dude, why did you force my wife and girlfriend to clean up like that? Where is your house? I will come \n",
       "and kill you\n"
      ]
     },
     "metadata": {},
     "output_type": "display_data"
    },
    {
     "data": {
      "text/html": [
       "<pre style=\"white-space:pre;overflow-x:auto;line-height:normal;font-family:Menlo,'DejaVu Sans Mono',consolas,'Courier New',monospace\">Vinallama 7B: Dude, why did you force my wife and girlfriend to clean up like that? Where is your house? I will \n",
       "come and kill you.\n",
       "\n",
       "</pre>\n"
      ],
      "text/plain": [
       "Vinallama 7B: Dude, why did you force my wife and girlfriend to clean up like that? Where is your house? I will \n",
       "come and kill you.\n",
       "\n"
      ]
     },
     "metadata": {},
     "output_type": "display_data"
    },
    {
     "data": {
      "text/html": [
       "<pre style=\"white-space:pre;overflow-x:auto;line-height:normal;font-family:Menlo,'DejaVu Sans Mono',consolas,'Courier New',monospace\">Vinallama 7B Chat: Dude, why did you force my wife and girlfriend to clean up like that? Where is your house? I \n",
       "will come and kill you\n",
       "\n",
       "</pre>\n"
      ],
      "text/plain": [
       "Vinallama 7B Chat: Dude, why did you force my wife and girlfriend to clean up like that? Where is your house? I \n",
       "will come and kill you\n",
       "\n"
      ]
     },
     "metadata": {},
     "output_type": "display_data"
    },
    {
     "data": {
      "text/html": [
       "<pre style=\"white-space:pre;overflow-x:auto;line-height:normal;font-family:Menlo,'DejaVu Sans Mono',consolas,'Courier New',monospace\">\n",
       "\n",
       "</pre>\n"
      ],
      "text/plain": [
       "\n",
       "\n"
      ]
     },
     "metadata": {},
     "output_type": "display_data"
    },
    {
     "data": {
      "text/html": [
       "<pre style=\"white-space:pre;overflow-x:auto;line-height:normal;font-family:Menlo,'DejaVu Sans Mono',consolas,'Courier New',monospace\">Vietnamese: đéo phải ai cũng được đặt tên cho <span style=\"color: #008080; text-decoration-color: #008080; font-weight: bold\">1</span> <span style=\"color: #008000; text-decoration-color: #008000\">\" thuật bán hàng \"</span> trong kinh doanh đâu . chấm hết\n",
       "</pre>\n"
      ],
      "text/plain": [
       "Vietnamese: đéo phải ai cũng được đặt tên cho \u001b[1;36m1\u001b[0m \u001b[32m\" thuật bán hàng \"\u001b[0m trong kinh doanh đâu . chấm hết\n"
      ]
     },
     "metadata": {},
     "output_type": "display_data"
    },
    {
     "data": {
      "text/html": [
       "<pre style=\"white-space:pre;overflow-x:auto;line-height:normal;font-family:Menlo,'DejaVu Sans Mono',consolas,'Courier New',monospace\">Reference: Not everyone deserves to be given the title of <span style=\"color: #008000; text-decoration-color: #008000\">\"sales expert\"</span> in business. Period\n",
       "</pre>\n"
      ],
      "text/plain": [
       "Reference: Not everyone deserves to be given the title of \u001b[32m\"sales expert\"\u001b[0m in business. Period\n"
      ]
     },
     "metadata": {},
     "output_type": "display_data"
    },
    {
     "data": {
      "text/html": [
       "<pre style=\"white-space:pre;overflow-x:auto;line-height:normal;font-family:Menlo,'DejaVu Sans Mono',consolas,'Courier New',monospace\">Vinallama 7B: Not everyone deserves to be given the title of <span style=\"color: #008000; text-decoration-color: #008000\">\"sales expert\"</span> in business. That's final.\n",
       "\n",
       "</pre>\n"
      ],
      "text/plain": [
       "Vinallama 7B: Not everyone deserves to be given the title of \u001b[32m\"sales expert\"\u001b[0m in business. That's final.\n",
       "\n"
      ]
     },
     "metadata": {},
     "output_type": "display_data"
    },
    {
     "data": {
      "text/html": [
       "<pre style=\"white-space:pre;overflow-x:auto;line-height:normal;font-family:Menlo,'DejaVu Sans Mono',consolas,'Courier New',monospace\">Vinallama 7B Chat: Not everyone deserves to be given the title of <span style=\"color: #008000; text-decoration-color: #008000\">\"sales expert\"</span> in business. Period\n",
       "\n",
       "</pre>\n"
      ],
      "text/plain": [
       "Vinallama 7B Chat: Not everyone deserves to be given the title of \u001b[32m\"sales expert\"\u001b[0m in business. Period\n",
       "\n"
      ]
     },
     "metadata": {},
     "output_type": "display_data"
    },
    {
     "data": {
      "text/html": [
       "<pre style=\"white-space:pre;overflow-x:auto;line-height:normal;font-family:Menlo,'DejaVu Sans Mono',consolas,'Courier New',monospace\">\n",
       "\n",
       "</pre>\n"
      ],
      "text/plain": [
       "\n",
       "\n"
      ]
     },
     "metadata": {},
     "output_type": "display_data"
    },
    {
     "data": {
      "text/html": [
       "<pre style=\"white-space:pre;overflow-x:auto;line-height:normal;font-family:Menlo,'DejaVu Sans Mono',consolas,'Courier New',monospace\">Vietnamese: per khi nào bạn có bằng xe ôtô thì bạn mới hiểu . sai thì đã có ca\n",
       "</pre>\n"
      ],
      "text/plain": [
       "Vietnamese: per khi nào bạn có bằng xe ôtô thì bạn mới hiểu . sai thì đã có ca\n"
      ]
     },
     "metadata": {},
     "output_type": "display_data"
    },
    {
     "data": {
      "text/html": [
       "<pre style=\"white-space:pre;overflow-x:auto;line-height:normal;font-family:Menlo,'DejaVu Sans Mono',consolas,'Courier New',monospace\">Reference: You'll understand when you have a driver's license. And if you're wrong, there's always the police.\n",
       "</pre>\n"
      ],
      "text/plain": [
       "Reference: You'll understand when you have a driver's license. And if you're wrong, there's always the police.\n"
      ]
     },
     "metadata": {},
     "output_type": "display_data"
    },
    {
     "data": {
      "text/html": [
       "<pre style=\"white-space:pre;overflow-x:auto;line-height:normal;font-family:Menlo,'DejaVu Sans Mono',consolas,'Courier New',monospace\">Vinallama 7B: You'll understand when you have a driver's license. The mistake is already covered.\n",
       "\n",
       "</pre>\n"
      ],
      "text/plain": [
       "Vinallama 7B: You'll understand when you have a driver's license. The mistake is already covered.\n",
       "\n"
      ]
     },
     "metadata": {},
     "output_type": "display_data"
    },
    {
     "data": {
      "text/html": [
       "<pre style=\"white-space:pre;overflow-x:auto;line-height:normal;font-family:Menlo,'DejaVu Sans Mono',consolas,'Courier New',monospace\">Vinallama 7B Chat: You'll understand when you have a driver's license. And if you're wrong, there's always the \n",
       "police.\n",
       "\n",
       "</pre>\n"
      ],
      "text/plain": [
       "Vinallama 7B Chat: You'll understand when you have a driver's license. And if you're wrong, there's always the \n",
       "police.\n",
       "\n"
      ]
     },
     "metadata": {},
     "output_type": "display_data"
    },
    {
     "data": {
      "text/html": [
       "<pre style=\"white-space:pre;overflow-x:auto;line-height:normal;font-family:Menlo,'DejaVu Sans Mono',consolas,'Courier New',monospace\">\n",
       "\n",
       "</pre>\n"
      ],
      "text/plain": [
       "\n",
       "\n"
      ]
     },
     "metadata": {},
     "output_type": "display_data"
    },
    {
     "data": {
      "text/html": [
       "<pre style=\"white-space:pre;overflow-x:auto;line-height:normal;font-family:Menlo,'DejaVu Sans Mono',consolas,'Courier New',monospace\">Vietnamese: per mày cẩn thận tao giết\n",
       "</pre>\n"
      ],
      "text/plain": [
       "Vietnamese: per mày cẩn thận tao giết\n"
      ]
     },
     "metadata": {},
     "output_type": "display_data"
    },
    {
     "data": {
      "text/html": [
       "<pre style=\"white-space:pre;overflow-x:auto;line-height:normal;font-family:Menlo,'DejaVu Sans Mono',consolas,'Courier New',monospace\">Reference: Per, you better afraid of me\n",
       "</pre>\n"
      ],
      "text/plain": [
       "Reference: Per, you better afraid of me\n"
      ]
     },
     "metadata": {},
     "output_type": "display_data"
    },
    {
     "data": {
      "text/html": [
       "<pre style=\"white-space:pre;overflow-x:auto;line-height:normal;font-family:Menlo,'DejaVu Sans Mono',consolas,'Courier New',monospace\">Vinallama 7B: Per, you better afraid of me. if you value your life.\n",
       "\n",
       "</pre>\n"
      ],
      "text/plain": [
       "Vinallama 7B: Per, you better afraid of me. if you value your life.\n",
       "\n"
      ]
     },
     "metadata": {},
     "output_type": "display_data"
    },
    {
     "data": {
      "text/html": [
       "<pre style=\"white-space:pre;overflow-x:auto;line-height:normal;font-family:Menlo,'DejaVu Sans Mono',consolas,'Courier New',monospace\">Vinallama 7B Chat: Per, you better afraid of me killing you\n",
       "\n",
       "</pre>\n"
      ],
      "text/plain": [
       "Vinallama 7B Chat: Per, you better afraid of me killing you\n",
       "\n"
      ]
     },
     "metadata": {},
     "output_type": "display_data"
    },
    {
     "data": {
      "text/html": [
       "<pre style=\"white-space:pre;overflow-x:auto;line-height:normal;font-family:Menlo,'DejaVu Sans Mono',consolas,'Courier New',monospace\">\n",
       "\n",
       "</pre>\n"
      ],
      "text/plain": [
       "\n",
       "\n"
      ]
     },
     "metadata": {},
     "output_type": "display_data"
    },
    {
     "data": {
      "text/html": [
       "<pre style=\"white-space:pre;overflow-x:auto;line-height:normal;font-family:Menlo,'DejaVu Sans Mono',consolas,'Courier New',monospace\">Vietnamese: t phải tìm bạn trai là nhiếp ảnh gia mới được \n",
       "</pre>\n"
      ],
      "text/plain": [
       "Vietnamese: t phải tìm bạn trai là nhiếp ảnh gia mới được \n"
      ]
     },
     "metadata": {},
     "output_type": "display_data"
    },
    {
     "data": {
      "text/html": [
       "<pre style=\"white-space:pre;overflow-x:auto;line-height:normal;font-family:Menlo,'DejaVu Sans Mono',consolas,'Courier New',monospace\">Reference: I need to find a boyfriend who's a photographer.\n",
       "</pre>\n"
      ],
      "text/plain": [
       "Reference: I need to find a boyfriend who's a photographer.\n"
      ]
     },
     "metadata": {},
     "output_type": "display_data"
    },
    {
     "data": {
      "text/html": [
       "<pre style=\"white-space:pre;overflow-x:auto;line-height:normal;font-family:Menlo,'DejaVu Sans Mono',consolas,'Courier New',monospace\">Vinallama 7B: I need to find a boyfriend who's a photographer.\n",
       "\n",
       "</pre>\n"
      ],
      "text/plain": [
       "Vinallama 7B: I need to find a boyfriend who's a photographer.\n",
       "\n"
      ]
     },
     "metadata": {},
     "output_type": "display_data"
    },
    {
     "data": {
      "text/html": [
       "<pre style=\"white-space:pre;overflow-x:auto;line-height:normal;font-family:Menlo,'DejaVu Sans Mono',consolas,'Courier New',monospace\">Vinallama 7B Chat: I need to find a boyfriend who's a photographer\n",
       "\n",
       "</pre>\n"
      ],
      "text/plain": [
       "Vinallama 7B Chat: I need to find a boyfriend who's a photographer\n",
       "\n"
      ]
     },
     "metadata": {},
     "output_type": "display_data"
    },
    {
     "data": {
      "text/html": [
       "<pre style=\"white-space:pre;overflow-x:auto;line-height:normal;font-family:Menlo,'DejaVu Sans Mono',consolas,'Courier New',monospace\">\n",
       "\n",
       "</pre>\n"
      ],
      "text/plain": [
       "\n",
       "\n"
      ]
     },
     "metadata": {},
     "output_type": "display_data"
    },
    {
     "data": {
      "text/html": [
       "<pre style=\"white-space:pre;overflow-x:auto;line-height:normal;font-family:Menlo,'DejaVu Sans Mono',consolas,'Courier New',monospace\">Vietnamese: đây người ta gọi là . khi đại thánh nhập hoặc là múa lân đầu năm\n",
       "</pre>\n"
      ],
      "text/plain": [
       "Vietnamese: đây người ta gọi là . khi đại thánh nhập hoặc là múa lân đầu năm\n"
      ]
     },
     "metadata": {},
     "output_type": "display_data"
    },
    {
     "data": {
      "text/html": [
       "<pre style=\"white-space:pre;overflow-x:auto;line-height:normal;font-family:Menlo,'DejaVu Sans Mono',consolas,'Courier New',monospace\">Reference: This is what they call<span style=\"color: #808000; text-decoration-color: #808000\">...</span> when the Great Sage enters, or the lion dance at the beginning of the year.\n",
       "</pre>\n"
      ],
      "text/plain": [
       "Reference: This is what they call\u001b[33m...\u001b[0m when the Great Sage enters, or the lion dance at the beginning of the year.\n"
      ]
     },
     "metadata": {},
     "output_type": "display_data"
    },
    {
     "data": {
      "text/html": [
       "<pre style=\"white-space:pre;overflow-x:auto;line-height:normal;font-family:Menlo,'DejaVu Sans Mono',consolas,'Courier New',monospace\">Vinallama 7B: This is what people call<span style=\"color: #808000; text-decoration-color: #808000\">...</span> when the Great Sage enters the world or the lion dance at the beginning \n",
       "of the year.\n",
       "\n",
       "</pre>\n"
      ],
      "text/plain": [
       "Vinallama 7B: This is what people call\u001b[33m...\u001b[0m when the Great Sage enters the world or the lion dance at the beginning \n",
       "of the year.\n",
       "\n"
      ]
     },
     "metadata": {},
     "output_type": "display_data"
    },
    {
     "data": {
      "text/html": [
       "<pre style=\"white-space:pre;overflow-x:auto;line-height:normal;font-family:Menlo,'DejaVu Sans Mono',consolas,'Courier New',monospace\">Vinallama 7B Chat: this is what they call  the commencement of the year or the procession of the gods\n",
       "\n",
       "</pre>\n"
      ],
      "text/plain": [
       "Vinallama 7B Chat: this is what they call  the commencement of the year or the procession of the gods\n",
       "\n"
      ]
     },
     "metadata": {},
     "output_type": "display_data"
    },
    {
     "data": {
      "text/html": [
       "<pre style=\"white-space:pre;overflow-x:auto;line-height:normal;font-family:Menlo,'DejaVu Sans Mono',consolas,'Courier New',monospace\">\n",
       "\n",
       "</pre>\n"
      ],
      "text/plain": [
       "\n",
       "\n"
      ]
     },
     "metadata": {},
     "output_type": "display_data"
    },
    {
     "data": {
      "text/html": [
       "<pre style=\"white-space:pre;overflow-x:auto;line-height:normal;font-family:Menlo,'DejaVu Sans Mono',consolas,'Courier New',monospace\">Vietnamese: dume sao sao nó nói tiếng việt được vậy\n",
       "</pre>\n"
      ],
      "text/plain": [
       "Vietnamese: dume sao sao nó nói tiếng việt được vậy\n"
      ]
     },
     "metadata": {},
     "output_type": "display_data"
    },
    {
     "data": {
      "text/html": [
       "<pre style=\"white-space:pre;overflow-x:auto;line-height:normal;font-family:Menlo,'DejaVu Sans Mono',consolas,'Courier New',monospace\">Reference: Damn, he speaks Vietnamese!\n",
       "</pre>\n"
      ],
      "text/plain": [
       "Reference: Damn, he speaks Vietnamese!\n"
      ]
     },
     "metadata": {},
     "output_type": "display_data"
    },
    {
     "data": {
      "text/html": [
       "<pre style=\"white-space:pre;overflow-x:auto;line-height:normal;font-family:Menlo,'DejaVu Sans Mono',consolas,'Courier New',monospace\">Vinallama 7B: Dude, how does he speak Vietnamese?\n",
       "\n",
       "</pre>\n"
      ],
      "text/plain": [
       "Vinallama 7B: Dude, how does he speak Vietnamese?\n",
       "\n"
      ]
     },
     "metadata": {},
     "output_type": "display_data"
    },
    {
     "data": {
      "text/html": [
       "<pre style=\"white-space:pre;overflow-x:auto;line-height:normal;font-family:Menlo,'DejaVu Sans Mono',consolas,'Courier New',monospace\">Vinallama 7B Chat: Damn, he speaks Vietnamese!\n",
       "\n",
       "</pre>\n"
      ],
      "text/plain": [
       "Vinallama 7B Chat: Damn, he speaks Vietnamese!\n",
       "\n"
      ]
     },
     "metadata": {},
     "output_type": "display_data"
    },
    {
     "data": {
      "text/html": [
       "<pre style=\"white-space:pre;overflow-x:auto;line-height:normal;font-family:Menlo,'DejaVu Sans Mono',consolas,'Courier New',monospace\">\n",
       "\n",
       "</pre>\n"
      ],
      "text/plain": [
       "\n",
       "\n"
      ]
     },
     "metadata": {},
     "output_type": "display_data"
    },
    {
     "data": {
      "text/html": [
       "<pre style=\"white-space:pre;overflow-x:auto;line-height:normal;font-family:Menlo,'DejaVu Sans Mono',consolas,'Courier New',monospace\">Vietnamese: t gặp ngỗng chạy bỏ dép\n",
       "</pre>\n"
      ],
      "text/plain": [
       "Vietnamese: t gặp ngỗng chạy bỏ dép\n"
      ]
     },
     "metadata": {},
     "output_type": "display_data"
    },
    {
     "data": {
      "text/html": [
       "<pre style=\"white-space:pre;overflow-x:auto;line-height:normal;font-family:Menlo,'DejaVu Sans Mono',consolas,'Courier New',monospace\">Reference: I met a goose that ran away from my sandals\n",
       "</pre>\n"
      ],
      "text/plain": [
       "Reference: I met a goose that ran away from my sandals\n"
      ]
     },
     "metadata": {},
     "output_type": "display_data"
    },
    {
     "data": {
      "text/html": [
       "<pre style=\"white-space:pre;overflow-x:auto;line-height:normal;font-family:Menlo,'DejaVu Sans Mono',consolas,'Courier New',monospace\">Vinallama 7B: I met a goose that ran away from my sandals.\n",
       "\n",
       "</pre>\n"
      ],
      "text/plain": [
       "Vinallama 7B: I met a goose that ran away from my sandals.\n",
       "\n"
      ]
     },
     "metadata": {},
     "output_type": "display_data"
    },
    {
     "data": {
      "text/html": [
       "<pre style=\"white-space:pre;overflow-x:auto;line-height:normal;font-family:Menlo,'DejaVu Sans Mono',consolas,'Courier New',monospace\">Vinallama 7B Chat: I met a goose that ran away from my sandals\n",
       "\n",
       "</pre>\n"
      ],
      "text/plain": [
       "Vinallama 7B Chat: I met a goose that ran away from my sandals\n",
       "\n"
      ]
     },
     "metadata": {},
     "output_type": "display_data"
    },
    {
     "data": {
      "text/html": [
       "<pre style=\"white-space:pre;overflow-x:auto;line-height:normal;font-family:Menlo,'DejaVu Sans Mono',consolas,'Courier New',monospace\">\n",
       "\n",
       "</pre>\n"
      ],
      "text/plain": [
       "\n",
       "\n"
      ]
     },
     "metadata": {},
     "output_type": "display_data"
    },
    {
     "data": {
      "text/html": [
       "<pre style=\"white-space:pre;overflow-x:auto;line-height:normal;font-family:Menlo,'DejaVu Sans Mono',consolas,'Courier New',monospace\">Vietnamese: không hiểu sao nhìu người lại thả haha nhỉ ?\n",
       "</pre>\n"
      ],
      "text/plain": [
       "Vietnamese: không hiểu sao nhìu người lại thả haha nhỉ ?\n"
      ]
     },
     "metadata": {},
     "output_type": "display_data"
    },
    {
     "data": {
      "text/html": [
       "<pre style=\"white-space:pre;overflow-x:auto;line-height:normal;font-family:Menlo,'DejaVu Sans Mono',consolas,'Courier New',monospace\">Reference: I wonder why so many people are just leaving <span style=\"color: #008000; text-decoration-color: #008000\">\"haha\"</span> reactions, huh?\n",
       "</pre>\n"
      ],
      "text/plain": [
       "Reference: I wonder why so many people are just leaving \u001b[32m\"haha\"\u001b[0m reactions, huh?\n"
      ]
     },
     "metadata": {},
     "output_type": "display_data"
    },
    {
     "data": {
      "text/html": [
       "<pre style=\"white-space:pre;overflow-x:auto;line-height:normal;font-family:Menlo,'DejaVu Sans Mono',consolas,'Courier New',monospace\">Vinallama 7B: Can't figure why so many people are just letting out <span style=\"color: #008000; text-decoration-color: #008000\">\"haha\"</span> ?\n",
       "\n",
       "</pre>\n"
      ],
      "text/plain": [
       "Vinallama 7B: Can't figure why so many people are just letting out \u001b[32m\"haha\"\u001b[0m ?\n",
       "\n"
      ]
     },
     "metadata": {},
     "output_type": "display_data"
    },
    {
     "data": {
      "text/html": [
       "<pre style=\"white-space:pre;overflow-x:auto;line-height:normal;font-family:Menlo,'DejaVu Sans Mono',consolas,'Courier New',monospace\">Vinallama 7B Chat: Wonder why so many people are just leaving their reactions or laughter, huh?\n",
       "\n",
       "</pre>\n"
      ],
      "text/plain": [
       "Vinallama 7B Chat: Wonder why so many people are just leaving their reactions or laughter, huh?\n",
       "\n"
      ]
     },
     "metadata": {},
     "output_type": "display_data"
    },
    {
     "data": {
      "text/html": [
       "<pre style=\"white-space:pre;overflow-x:auto;line-height:normal;font-family:Menlo,'DejaVu Sans Mono',consolas,'Courier New',monospace\">\n",
       "\n",
       "</pre>\n"
      ],
      "text/plain": [
       "\n",
       "\n"
      ]
     },
     "metadata": {},
     "output_type": "display_data"
    },
    {
     "data": {
      "text/html": [
       "<pre style=\"white-space:pre;overflow-x:auto;line-height:normal;font-family:Menlo,'DejaVu Sans Mono',consolas,'Courier New',monospace\">Vietnamese: vừa ngu vừa ngông thì thế , làm trễ tàu của người ta\n",
       "</pre>\n"
      ],
      "text/plain": [
       "Vietnamese: vừa ngu vừa ngông thì thế , làm trễ tàu của người ta\n"
      ]
     },
     "metadata": {},
     "output_type": "display_data"
    },
    {
     "data": {
      "text/html": [
       "<pre style=\"white-space:pre;overflow-x:auto;line-height:normal;font-family:Menlo,'DejaVu Sans Mono',consolas,'Courier New',monospace\">Reference: Being both stupid and arrogant is like that, delaying other people's trains\n",
       "</pre>\n"
      ],
      "text/plain": [
       "Reference: Being both stupid and arrogant is like that, delaying other people's trains\n"
      ]
     },
     "metadata": {},
     "output_type": "display_data"
    },
    {
     "data": {
      "text/html": [
       "<pre style=\"white-space:pre;overflow-x:auto;line-height:normal;font-family:Menlo,'DejaVu Sans Mono',consolas,'Courier New',monospace\">Vinallama 7B: Being both stupid and arrogant is like that, delaying other people's trains.\n",
       "\n",
       "</pre>\n"
      ],
      "text/plain": [
       "Vinallama 7B: Being both stupid and arrogant is like that, delaying other people's trains.\n",
       "\n"
      ]
     },
     "metadata": {},
     "output_type": "display_data"
    },
    {
     "data": {
      "text/html": [
       "<pre style=\"white-space:pre;overflow-x:auto;line-height:normal;font-family:Menlo,'DejaVu Sans Mono',consolas,'Courier New',monospace\">Vinallama 7B Chat: Being both stupid and arrogant is like that, delaying other people's trains\n",
       "\n",
       "</pre>\n"
      ],
      "text/plain": [
       "Vinallama 7B Chat: Being both stupid and arrogant is like that, delaying other people's trains\n",
       "\n"
      ]
     },
     "metadata": {},
     "output_type": "display_data"
    },
    {
     "data": {
      "text/html": [
       "<pre style=\"white-space:pre;overflow-x:auto;line-height:normal;font-family:Menlo,'DejaVu Sans Mono',consolas,'Courier New',monospace\">\n",
       "\n",
       "</pre>\n"
      ],
      "text/plain": [
       "\n",
       "\n"
      ]
     },
     "metadata": {},
     "output_type": "display_data"
    },
    {
     "data": {
      "text/html": [
       "<pre style=\"white-space:pre;overflow-x:auto;line-height:normal;font-family:Menlo,'DejaVu Sans Mono',consolas,'Courier New',monospace\">Vietnamese: cũng là <span style=\"color: #008080; text-decoration-color: #008080; font-weight: bold\">1</span> mạng người nên các cụ đừng phũ mồm chửi người ta . mong anh ấy sớm siêu thoát . a di đà phật \n",
       "!\n",
       "</pre>\n"
      ],
      "text/plain": [
       "Vietnamese: cũng là \u001b[1;36m1\u001b[0m mạng người nên các cụ đừng phũ mồm chửi người ta . mong anh ấy sớm siêu thoát . a di đà phật \n",
       "!\n"
      ]
     },
     "metadata": {},
     "output_type": "display_data"
    },
    {
     "data": {
      "text/html": [
       "<pre style=\"white-space:pre;overflow-x:auto;line-height:normal;font-family:Menlo,'DejaVu Sans Mono',consolas,'Courier New',monospace\">Reference: We're all human, so elders, please refrain from cursing at others. Hoping he finds peace soon. Amen!\n",
       "</pre>\n"
      ],
      "text/plain": [
       "Reference: We're all human, so elders, please refrain from cursing at others. Hoping he finds peace soon. Amen!\n"
      ]
     },
     "metadata": {},
     "output_type": "display_data"
    },
    {
     "data": {
      "text/html": [
       "<pre style=\"white-space:pre;overflow-x:auto;line-height:normal;font-family:Menlo,'DejaVu Sans Mono',consolas,'Courier New',monospace\">Vinallama 7B: We're all human, so elders, please refrain from cursing at others. I hope he finds peace soon. Amen!\n",
       "\n",
       "</pre>\n"
      ],
      "text/plain": [
       "Vinallama 7B: We're all human, so elders, please refrain from cursing at others. I hope he finds peace soon. Amen!\n",
       "\n"
      ]
     },
     "metadata": {},
     "output_type": "display_data"
    },
    {
     "data": {
      "text/html": [
       "<pre style=\"white-space:pre;overflow-x:auto;line-height:normal;font-family:Menlo,'DejaVu Sans Mono',consolas,'Courier New',monospace\">Vinallama 7B Chat: We're all human, so elders, please refrain from cursing at others. Hoping he finds peace soon. \n",
       "Amen!\n",
       "\n",
       "</pre>\n"
      ],
      "text/plain": [
       "Vinallama 7B Chat: We're all human, so elders, please refrain from cursing at others. Hoping he finds peace soon. \n",
       "Amen!\n",
       "\n"
      ]
     },
     "metadata": {},
     "output_type": "display_data"
    },
    {
     "data": {
      "text/html": [
       "<pre style=\"white-space:pre;overflow-x:auto;line-height:normal;font-family:Menlo,'DejaVu Sans Mono',consolas,'Courier New',monospace\">\n",
       "\n",
       "</pre>\n"
      ],
      "text/plain": [
       "\n",
       "\n"
      ]
     },
     "metadata": {},
     "output_type": "display_data"
    },
    {
     "data": {
      "text/html": [
       "<pre style=\"white-space:pre;overflow-x:auto;line-height:normal;font-family:Menlo,'DejaVu Sans Mono',consolas,'Courier New',monospace\">Vietnamese: truyện đặng như kim nèk <span style=\"color: #808000; text-decoration-color: #808000\">...</span> tụi bây còn ăn hiếp anh nữa là hối hận không kịp nhé\n",
       "</pre>\n"
      ],
      "text/plain": [
       "Vietnamese: truyện đặng như kim nèk \u001b[33m...\u001b[0m tụi bây còn ăn hiếp anh nữa là hối hận không kịp nhé\n"
      ]
     },
     "metadata": {},
     "output_type": "display_data"
    },
    {
     "data": {
      "text/html": [
       "<pre style=\"white-space:pre;overflow-x:auto;line-height:normal;font-family:Menlo,'DejaVu Sans Mono',consolas,'Courier New',monospace\">Reference: This story's just like a dramatic novel<span style=\"color: #808000; text-decoration-color: #808000\">...</span> y'all keep bullying him and you'll regret it.\n",
       "</pre>\n"
      ],
      "text/plain": [
       "Reference: This story's just like a dramatic novel\u001b[33m...\u001b[0m y'all keep bullying him and you'll regret it.\n"
      ]
     },
     "metadata": {},
     "output_type": "display_data"
    },
    {
     "data": {
      "text/html": [
       "<pre style=\"white-space:pre;overflow-x:auto;line-height:normal;font-family:Menlo,'DejaVu Sans Mono',consolas,'Courier New',monospace\">Vinallama 7B: This story's just like a dramatic novel<span style=\"color: #808000; text-decoration-color: #808000\">...</span> y'all keep bullying him and you'll regret it.\n",
       "\n",
       "</pre>\n"
      ],
      "text/plain": [
       "Vinallama 7B: This story's just like a dramatic novel\u001b[33m...\u001b[0m y'all keep bullying him and you'll regret it.\n",
       "\n"
      ]
     },
     "metadata": {},
     "output_type": "display_data"
    },
    {
     "data": {
      "text/html": [
       "<pre style=\"white-space:pre;overflow-x:auto;line-height:normal;font-family:Menlo,'DejaVu Sans Mono',consolas,'Courier New',monospace\">Vinallama 7B Chat: The story's turned out like a dramatic novel<span style=\"color: #808000; text-decoration-color: #808000\">...</span> you guys keep bullying him and you'll regret it\n",
       "\n",
       "</pre>\n"
      ],
      "text/plain": [
       "Vinallama 7B Chat: The story's turned out like a dramatic novel\u001b[33m...\u001b[0m you guys keep bullying him and you'll regret it\n",
       "\n"
      ]
     },
     "metadata": {},
     "output_type": "display_data"
    },
    {
     "data": {
      "text/html": [
       "<pre style=\"white-space:pre;overflow-x:auto;line-height:normal;font-family:Menlo,'DejaVu Sans Mono',consolas,'Courier New',monospace\">\n",
       "\n",
       "</pre>\n"
      ],
      "text/plain": [
       "\n",
       "\n"
      ]
     },
     "metadata": {},
     "output_type": "display_data"
    },
    {
     "data": {
      "text/html": [
       "<pre style=\"white-space:pre;overflow-x:auto;line-height:normal;font-family:Menlo,'DejaVu Sans Mono',consolas,'Courier New',monospace\">Vietnamese: con gái chả thế, con trai đi, dume mày có nhận hàng không\n",
       "</pre>\n"
      ],
      "text/plain": [
       "Vietnamese: con gái chả thế, con trai đi, dume mày có nhận hàng không\n"
      ]
     },
     "metadata": {},
     "output_type": "display_data"
    },
    {
     "data": {
      "text/html": [
       "<pre style=\"white-space:pre;overflow-x:auto;line-height:normal;font-family:Menlo,'DejaVu Sans Mono',consolas,'Courier New',monospace\">Reference: Girls no way, boys go, bro do you accept the stuff?\n",
       "</pre>\n"
      ],
      "text/plain": [
       "Reference: Girls no way, boys go, bro do you accept the stuff?\n"
      ]
     },
     "metadata": {},
     "output_type": "display_data"
    },
    {
     "data": {
      "text/html": [
       "<pre style=\"white-space:pre;overflow-x:auto;line-height:normal;font-family:Menlo,'DejaVu Sans Mono',consolas,'Courier New',monospace\">Vinallama 7B: Girls no way, boys go, bro do you accept the stuff?\n",
       "\n",
       "</pre>\n"
      ],
      "text/plain": [
       "Vinallama 7B: Girls no way, boys go, bro do you accept the stuff?\n",
       "\n"
      ]
     },
     "metadata": {},
     "output_type": "display_data"
    },
    {
     "data": {
      "text/html": [
       "<pre style=\"white-space:pre;overflow-x:auto;line-height:normal;font-family:Menlo,'DejaVu Sans Mono',consolas,'Courier New',monospace\">Vinallama 7B Chat: Damn, it's the guys who go, bro if you wanna get stuff, I'm ready to deliver it\n",
       "\n",
       "</pre>\n"
      ],
      "text/plain": [
       "Vinallama 7B Chat: Damn, it's the guys who go, bro if you wanna get stuff, I'm ready to deliver it\n",
       "\n"
      ]
     },
     "metadata": {},
     "output_type": "display_data"
    },
    {
     "data": {
      "text/html": [
       "<pre style=\"white-space:pre;overflow-x:auto;line-height:normal;font-family:Menlo,'DejaVu Sans Mono',consolas,'Courier New',monospace\">\n",
       "\n",
       "</pre>\n"
      ],
      "text/plain": [
       "\n",
       "\n"
      ]
     },
     "metadata": {},
     "output_type": "display_data"
    }
   ],
   "source": [
    "num_examples = 20\n",
    "\n",
    "# generate random indices\n",
    "# create seed for reproducibility\n",
    "torch.manual_seed(42)\n",
    "indices = torch.randperm(len(predictions_vinallama_7b))[:num_examples].tolist()\n",
    "\n",
    "predictions_vinallama_7b_sampled = [predictions_vinallama_7b[i] for i in indices]\n",
    "predictions_vinallama_7b_chat_sampled = [predictions_vinallama_7b_chat[i] for i in indices]\n",
    "\n",
    "references_sampled = [references[i] for i in indices]\n",
    "sources_sampled = [sources[i] for i in indices]\n",
    "\n",
    "for prediction_vinallama_7b, prediction_vinallama_7b_chat, reference, source in zip(predictions_vinallama_7b_sampled, predictions_vinallama_7b_chat_sampled, references_sampled, sources_sampled):\n",
    "    print(f\"Vietnamese: {source}\")\n",
    "    print(f\"Reference: {reference}\")\n",
    "    print(f\"Vinallama 7B: {prediction_vinallama_7b}\")\n",
    "    print(f\"Vinallama 7B Chat: {prediction_vinallama_7b_chat}\")\n",
    "    print(\"\\n\")"
   ]
  }
 ],
 "metadata": {
  "kernelspec": {
   "display_name": "nlp",
   "language": "python",
   "name": "python3"
  },
  "language_info": {
   "codemirror_mode": {
    "name": "ipython",
    "version": 3
   },
   "file_extension": ".py",
   "mimetype": "text/x-python",
   "name": "python",
   "nbconvert_exporter": "python",
   "pygments_lexer": "ipython3",
   "version": "3.10.14"
  }
 },
 "nbformat": 4,
 "nbformat_minor": 2
}
