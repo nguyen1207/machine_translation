{
 "cells": [
  {
   "cell_type": "code",
   "execution_count": 1,
   "metadata": {},
   "outputs": [
    {
     "name": "stderr",
     "output_type": "stream",
     "text": [
      "2024-05-26 15:37:59.011418: I tensorflow/core/util/port.cc:113] oneDNN custom operations are on. You may see slightly different numerical results due to floating-point round-off errors from different computation orders. To turn them off, set the environment variable `TF_ENABLE_ONEDNN_OPTS=0`.\n",
      "2024-05-26 15:37:59.036243: I tensorflow/core/platform/cpu_feature_guard.cc:210] This TensorFlow binary is optimized to use available CPU instructions in performance-critical operations.\n",
      "To enable the following instructions: AVX2 AVX_VNNI FMA, in other operations, rebuild TensorFlow with the appropriate compiler flags.\n",
      "2024-05-26 15:37:59.433060: W tensorflow/compiler/tf2tensorrt/utils/py_utils.cc:38] TF-TRT Warning: Could not find TensorRT\n"
     ]
    }
   ],
   "source": [
    "from unsloth import FastLanguageModel\n",
    "from trl import SFTTrainer\n",
    "import torch\n",
    "from transformers import TrainingArguments, TextStreamer\n",
    "from datasets import DatasetDict, load_dataset\n",
    "from rich import print\n",
    "from rich.progress import track\n",
    "import evaluate"
   ]
  },
  {
   "cell_type": "markdown",
   "metadata": {},
   "source": [
    "# Base"
   ]
  },
  {
   "cell_type": "code",
   "execution_count": 4,
   "metadata": {},
   "outputs": [
    {
     "name": "stderr",
     "output_type": "stream",
     "text": [
      "/home/nguyen/miniconda3/envs/nlp/lib/python3.10/site-packages/huggingface_hub/file_download.py:1132: FutureWarning: `resume_download` is deprecated and will be removed in version 1.0.0. Downloads always resume when possible. If you want to force a new download, use `force_download=True`.\n",
      "  warnings.warn(\n"
     ]
    },
    {
     "name": "stdout",
     "output_type": "stream",
     "text": [
      "==((====))==  Unsloth: Fast Llama patching release 2024.4\n",
      "   \\\\   /|    GPU: NVIDIA GeForce RTX 3070 Ti. Max memory: 8.0 GB. Platform = Linux.\n",
      "O^O/ \\_/ \\    Pytorch: 2.3.0. CUDA = 8.6. CUDA Toolkit = 12.1.\n",
      "\\        /    Bfloat16 = TRUE. Xformers = 0.0.26.post1. FA = False.\n",
      " \"-____-\"     Free Apache license: http://github.com/unslothai/unsloth\n"
     ]
    },
    {
     "data": {
      "application/vnd.jupyter.widget-view+json": {
       "model_id": "19c15c0f69f34f79bb84429a458f1c3a",
       "version_major": 2,
       "version_minor": 0
      },
      "text/plain": [
       "Loading checkpoint shards:   0%|          | 0/2 [00:00<?, ?it/s]"
      ]
     },
     "metadata": {},
     "output_type": "display_data"
    },
    {
     "name": "stdout",
     "output_type": "stream",
     "text": [
      "Unsloth: ../models/vinallama-7b/checkpoint-2961 has no tokenizer.model file.\n",
      "Just informing you about this - this is not a critical error.\n"
     ]
    },
    {
     "name": "stderr",
     "output_type": "stream",
     "text": [
      "Unsloth 2024.4 patched 32 layers with 32 QKV layers, 32 O layers and 32 MLP layers.\n"
     ]
    }
   ],
   "source": [
    "max_seq_length = 4096  # Supports RoPE Scaling interally, so choose any!\n",
    "# get instruction dataset from ../data/instructions\n",
    "dataset = DatasetDict.load_from_disk('../data/instructions')\n",
    "dataset_train = dataset[\"train\"]\n",
    "dataset_test = dataset[\"test\"]\n",
    "\n",
    "model, tokenizer = FastLanguageModel.from_pretrained(\n",
    "    model_name=\"../models/vinallama-7b/checkpoint-2961\",\n",
    "    max_seq_length=max_seq_length,\n",
    "    dtype=None,\n",
    "    load_in_4bit=True,\n",
    ")\n",
    "\n",
    "FastLanguageModel.for_inference(model)"
   ]
  },
  {
   "cell_type": "code",
   "execution_count": 5,
   "metadata": {},
   "outputs": [
    {
     "name": "stderr",
     "output_type": "stream",
     "text": [
      "/home/nguyen/miniconda3/envs/nlp/lib/python3.10/site-packages/trl/trainer/sft_trainer.py:318: UserWarning: You passed a tokenizer with `padding_side` not equal to `right` to the SFTTrainer. This might lead to some unexpected behaviour due to overflow issues when training a model in half-precision. You might consider adding `tokenizer.padding_side = 'right'` to your code.\n",
      "  warnings.warn(\n"
     ]
    }
   ],
   "source": [
    "def format_prompt_func(example):\n",
    "    if isinstance(example['instruction'], str):\n",
    "        return f\"### Instruction:\\n{example['instruction']}\\n\\n### Response:\\n{example['response']}\"\n",
    "    \n",
    "    output_texts = []\n",
    "    for i in range(len(example['instruction'])):\n",
    "        text = f\"### Instruction:\\n{example['instruction'][i]}\\n\\n### Response:\\n{example['response'][i]}\"\n",
    "        output_texts.append(text)\n",
    "    return output_texts\n",
    "\n",
    "trainer = SFTTrainer(\n",
    "    model=model,\n",
    "    train_dataset=dataset_train,\n",
    "    eval_dataset=dataset_test,\n",
    "    formatting_func=format_prompt_func,\n",
    "    max_seq_length=max_seq_length,\n",
    "    tokenizer=tokenizer,\n",
    "    args = TrainingArguments(\n",
    "        output_dir=\"../models/vinallama-7b/eval\",\n",
    "        fp16_full_eval = True,\n",
    "        per_device_eval_batch_size = 1,\n",
    "        eval_accumulation_steps = 4,\n",
    "        evaluation_strategy = \"steps\",\n",
    "        eval_steps = 1,\n",
    "    ),\n",
    ")"
   ]
  },
  {
   "cell_type": "code",
   "execution_count": 3,
   "metadata": {},
   "outputs": [
    {
     "data": {
      "application/vnd.jupyter.widget-view+json": {
       "model_id": "66c5ac274e0c434dbe95f59ca35f7c87",
       "version_major": 2,
       "version_minor": 0
      },
      "text/plain": [
       "Generating benchmark split: 0 examples [00:00, ? examples/s]"
      ]
     },
     "metadata": {},
     "output_type": "display_data"
    }
   ],
   "source": [
    "benchmark_dataset = load_dataset(\"csv\", data_files={\"benchmark\": \"../data/VLSP2020_benchmark_sampled.csv\"})\n",
    "num_examples = len(benchmark_dataset[\"benchmark\"])\n",
    "predictions = []\n",
    "references = benchmark_dataset[\"benchmark\"]['english'][:num_examples]"
   ]
  },
  {
   "cell_type": "code",
   "execution_count": 5,
   "metadata": {},
   "outputs": [],
   "source": [
    "# text_streamer = TextStreamer(tokenizer)\n",
    "\n",
    "def format_inference_prompt(example):\n",
    "    return f\"\"\"\n",
    "### Instruction:\n",
    "Dịch câu sau từ tiếng Việt sang tiếng Anh: \n",
    "Tiếng Việt: {example}\n",
    "Tiếng Anh:\n",
    "\n",
    "### Response:\n",
    "\"\"\"\n",
    "\n",
    "def generate_predictions(model, tokenizer, dataset, num_examples, save_path):\n",
    "    for example in track(dataset[\"benchmark\"]['vietnamese'][:num_examples], total=num_examples):\n",
    "        inputs = tokenizer(\n",
    "            [\n",
    "                format_inference_prompt(example),\n",
    "            ],\n",
    "            return_tensors=\"pt\",\n",
    "        ).to(\"cuda\")\n",
    "\n",
    "        outputs = model.generate(\n",
    "            **inputs, max_new_tokens=128\n",
    "        )\n",
    "        \n",
    "        response = tokenizer.batch_decode(outputs)\n",
    "        response_split = response[0].split(\"\\n\")\n",
    "        \n",
    "        response_token_index = response_split.index(\"### Response:\")\n",
    "        translation = response_split[response_token_index + 1]\n",
    "\n",
    "        predictions.append(translation)\n",
    "\n",
    "    with open(save_path, \"w\", encoding='utf8') as f:\n",
    "        for prediction in predictions:\n",
    "            f.write(prediction + \"\\n\")    \n"
   ]
  },
  {
   "cell_type": "code",
   "execution_count": 6,
   "metadata": {},
   "outputs": [
    {
     "data": {
      "application/vnd.jupyter.widget-view+json": {
       "model_id": "e865a7179ebb44ecb26cb1b7a89523c4",
       "version_major": 2,
       "version_minor": 0
      },
      "text/plain": [
       "Output()"
      ]
     },
     "metadata": {},
     "output_type": "display_data"
    },
    {
     "data": {
      "text/html": [
       "<pre style=\"white-space:pre;overflow-x:auto;line-height:normal;font-family:Menlo,'DejaVu Sans Mono',consolas,'Courier New',monospace\"></pre>\n"
      ],
      "text/plain": []
     },
     "metadata": {},
     "output_type": "display_data"
    },
    {
     "data": {
      "text/html": [
       "<pre style=\"white-space:pre;overflow-x:auto;line-height:normal;font-family:Menlo,'DejaVu Sans Mono',consolas,'Courier New',monospace\">\n",
       "</pre>\n"
      ],
      "text/plain": [
       "\n"
      ]
     },
     "metadata": {},
     "output_type": "display_data"
    }
   ],
   "source": [
    "path = \"../data/predictions_vinallama_7b.txt\"\n",
    "generate_predictions(model, tokenizer, benchmark_dataset, num_examples, path)"
   ]
  },
  {
   "cell_type": "markdown",
   "metadata": {},
   "source": [
    "# Chat"
   ]
  },
  {
   "cell_type": "code",
   "execution_count": 2,
   "metadata": {},
   "outputs": [
    {
     "name": "stderr",
     "output_type": "stream",
     "text": [
      "/home/nguyen/miniconda3/envs/nlp/lib/python3.10/site-packages/huggingface_hub/file_download.py:1132: FutureWarning: `resume_download` is deprecated and will be removed in version 1.0.0. Downloads always resume when possible. If you want to force a new download, use `force_download=True`.\n",
      "  warnings.warn(\n"
     ]
    },
    {
     "name": "stdout",
     "output_type": "stream",
     "text": [
      "==((====))==  Unsloth: Fast Llama patching release 2024.4\n",
      "   \\\\   /|    GPU: NVIDIA GeForce RTX 3070 Ti. Max memory: 8.0 GB. Platform = Linux.\n",
      "O^O/ \\_/ \\    Pytorch: 2.3.0. CUDA = 8.6. CUDA Toolkit = 12.1.\n",
      "\\        /    Bfloat16 = TRUE. Xformers = 0.0.26.post1. FA = False.\n",
      " \"-____-\"     Free Apache license: http://github.com/unslothai/unsloth\n"
     ]
    },
    {
     "data": {
      "application/vnd.jupyter.widget-view+json": {
       "model_id": "7944b17613da4dcfbd4d5238fe07619a",
       "version_major": 2,
       "version_minor": 0
      },
      "text/plain": [
       "Loading checkpoint shards:   0%|          | 0/3 [00:00<?, ?it/s]"
      ]
     },
     "metadata": {},
     "output_type": "display_data"
    },
    {
     "name": "stderr",
     "output_type": "stream",
     "text": [
      "You are using the default legacy behaviour of the <class 'transformers.models.llama.tokenization_llama.LlamaTokenizer'>. This is expected, and simply means that the `legacy` (previous) behavior will be used so nothing changes for you. If you want to use the new behaviour, set `legacy=False`. This should only be set if you understand what it means, and thoroughly read the reason why this was added as explained in https://github.com/huggingface/transformers/pull/24565\n",
      "Special tokens have been added in the vocabulary, make sure the associated word embeddings are fine-tuned or trained.\n"
     ]
    },
    {
     "name": "stdout",
     "output_type": "stream",
     "text": [
      "Unsloth: ../models/vinallama-7b-chat/checkpoint-2961 has no tokenizer.model file.\n",
      "Just informing you about this - this is not a critical error.\n"
     ]
    },
    {
     "name": "stderr",
     "output_type": "stream",
     "text": [
      "Unsloth 2024.4 patched 32 layers with 32 QKV layers, 32 O layers and 32 MLP layers.\n"
     ]
    }
   ],
   "source": [
    "max_seq_length = 4096\n",
    "model, tokenizer = FastLanguageModel.from_pretrained(\n",
    "    model_name=\"../models/vinallama-7b-chat/checkpoint-2961\",\n",
    "    max_seq_length=max_seq_length,\n",
    "    dtype=None,\n",
    "    load_in_4bit=True,\n",
    ")\n",
    "FastLanguageModel.for_inference(model)"
   ]
  },
  {
   "cell_type": "code",
   "execution_count": 3,
   "metadata": {},
   "outputs": [],
   "source": [
    "text_streamer = TextStreamer(tokenizer)\n",
    "\n",
    "def format_inference_prompt(example):\n",
    "    return f\"\"\"Dịch câu sau từ tiếng Việt sang tiếng Anh: \n",
    "Tiếng Việt: {example}\n",
    "Tiếng Anh:\n",
    "\"\"\"\n",
    "\n",
    "predictions = []\n",
    "\n",
    "def generate_predictions_chat(model, tokenizer, dataset, num_examples, save_path):\n",
    "    for example in track(dataset[\"benchmark\"]['vietnamese'][:num_examples], total=num_examples):\n",
    "        messages = [\n",
    "            {\"role\": \"system\", \"content\": \"Bạn là một trợ lí AI hữu ích trong việc dịch thuật tiếng Việt sang Tiếng Anh. Hãy trả lời người dùng một cách chính xác.\"},\n",
    "            {\"role\": \"user\", \"content\": format_inference_prompt(example)},\n",
    "        ]\n",
    "        \n",
    "        inputs = tokenizer.apply_chat_template(\n",
    "            messages,\n",
    "            tokenize=True,\n",
    "            add_generation_prompt=True,\n",
    "            return_tensors=\"pt\",\n",
    "        ).to(\"cuda\")\n",
    "        \n",
    "\n",
    "        outputs = model.generate(\n",
    "            inputs, max_new_tokens=128\n",
    "        )\n",
    "        \n",
    "        response = tokenizer.batch_decode(outputs[:, inputs.shape[1]:])[0]\n",
    "        \n",
    "        if \"<|im_end|>\" in response:\n",
    "            translation = response.split(\"<|im_end|>\")[0].strip()\n",
    "        else:\n",
    "            translation = response.strip()\n",
    "            \n",
    "        \n",
    "        # response_token_index = response_split.index(\"### Response:\")\n",
    "        # translation = response_split[response_token_index + 1]\n",
    "\n",
    "        predictions.append(translation)\n",
    "\n",
    "    with open(save_path, \"w\", encoding='utf8') as f:\n",
    "        for prediction in predictions:\n",
    "            f.write(prediction + \"\\n\")    \n"
   ]
  },
  {
   "cell_type": "code",
   "execution_count": 4,
   "metadata": {},
   "outputs": [
    {
     "data": {
      "application/vnd.jupyter.widget-view+json": {
       "model_id": "a6c7413cb6554959827b47296988c07c",
       "version_major": 2,
       "version_minor": 0
      },
      "text/plain": [
       "Output()"
      ]
     },
     "metadata": {},
     "output_type": "display_data"
    },
    {
     "data": {
      "text/html": [
       "<pre style=\"white-space:pre;overflow-x:auto;line-height:normal;font-family:Menlo,'DejaVu Sans Mono',consolas,'Courier New',monospace\"></pre>\n"
      ],
      "text/plain": []
     },
     "metadata": {},
     "output_type": "display_data"
    },
    {
     "data": {
      "text/html": [
       "<pre style=\"white-space:pre;overflow-x:auto;line-height:normal;font-family:Menlo,'DejaVu Sans Mono',consolas,'Courier New',monospace\">\n",
       "</pre>\n"
      ],
      "text/plain": [
       "\n"
      ]
     },
     "metadata": {},
     "output_type": "display_data"
    }
   ],
   "source": [
    "benchmark_dataset = load_dataset(\"csv\", data_files={\"benchmark\": \"../data/VLSP2020_benchmark_sampled.csv\"})\n",
    "num_examples = len(benchmark_dataset)\n",
    "predictions = []\n",
    "references = benchmark_dataset[\"benchmark\"]['english'][:num_examples]\n",
    "\n",
    "generate_predictions_chat(model, tokenizer, benchmark_dataset, num_examples, \"../data/predictions_vinallama_7b_chat.txt\")"
   ]
  },
  {
   "cell_type": "markdown",
   "metadata": {},
   "source": [
    "# Evaluate"
   ]
  },
  {
   "cell_type": "code",
   "execution_count": 17,
   "metadata": {},
   "outputs": [],
   "source": [
    "with open(\"../data/predictions_vinallama_7b.txt\", \"r\", encoding='utf8') as f:\n",
    "    predictions_vinallama_7b = f.readlines()\n",
    "\n",
    "with open(\"../data/predictions_vinallama_7b_chat.txt\", \"r\", encoding='utf8') as f:\n",
    "    predictions_vinallama_7b_chat = f.readlines()\n",
    "\n",
    "assert len(predictions_vinallama_7b) == len(predictions_vinallama_7b_chat)\n",
    "num_examples = len(predictions_vinallama_7b)\n",
    "benchmark_dataset = load_dataset(\"csv\", data_files={\"benchmark\": \"../data/VLSP2020_benchmark_sampled.csv\"})\n",
    "references = benchmark_dataset[\"benchmark\"]['english']\n",
    "sources = benchmark_dataset[\"benchmark\"]['vietnamese']"
   ]
  },
  {
   "cell_type": "markdown",
   "metadata": {},
   "source": [
    "## BLEU"
   ]
  },
  {
   "cell_type": "code",
   "execution_count": 5,
   "metadata": {},
   "outputs": [
    {
     "data": {
      "text/html": [
       "<pre style=\"white-space:pre;overflow-x:auto;line-height:normal;font-family:Menlo,'DejaVu Sans Mono',consolas,'Courier New',monospace\">Vinallama 7B bleu: <span style=\"color: #008080; text-decoration-color: #008080; font-weight: bold\">0.0</span>\n",
       "</pre>\n"
      ],
      "text/plain": [
       "Vinallama 7B bleu: \u001b[1;36m0.0\u001b[0m\n"
      ]
     },
     "metadata": {},
     "output_type": "display_data"
    },
    {
     "data": {
      "text/html": [
       "<pre style=\"white-space:pre;overflow-x:auto;line-height:normal;font-family:Menlo,'DejaVu Sans Mono',consolas,'Courier New',monospace\">Vinallama 7B Chat bleu: <span style=\"color: #008080; text-decoration-color: #008080; font-weight: bold\">0.0</span>\n",
       "</pre>\n"
      ],
      "text/plain": [
       "Vinallama 7B Chat bleu: \u001b[1;36m0.0\u001b[0m\n"
      ]
     },
     "metadata": {},
     "output_type": "display_data"
    },
    {
     "data": {
      "text/html": [
       "<pre style=\"white-space:pre;overflow-x:auto;line-height:normal;font-family:Menlo,'DejaVu Sans Mono',consolas,'Courier New',monospace\">Vinallama 7B precisions: <span style=\"font-weight: bold\">[</span><span style=\"color: #008080; text-decoration-color: #008080; font-weight: bold\">0.07344690400897684</span>, <span style=\"color: #008080; text-decoration-color: #008080; font-weight: bold\">0.0009779419754427903</span>, <span style=\"color: #008080; text-decoration-color: #008080; font-weight: bold\">0.0001162385214460072</span>, <span style=\"color: #008080; text-decoration-color: #008080; font-weight: bold\">0.0</span><span style=\"font-weight: bold\">]</span>\n",
       "</pre>\n"
      ],
      "text/plain": [
       "Vinallama 7B precisions: \u001b[1m[\u001b[0m\u001b[1;36m0.07344690400897684\u001b[0m, \u001b[1;36m0.0009779419754427903\u001b[0m, \u001b[1;36m0.0001162385214460072\u001b[0m, \u001b[1;36m0.0\u001b[0m\u001b[1m]\u001b[0m\n"
      ]
     },
     "metadata": {},
     "output_type": "display_data"
    },
    {
     "data": {
      "text/html": [
       "<pre style=\"white-space:pre;overflow-x:auto;line-height:normal;font-family:Menlo,'DejaVu Sans Mono',consolas,'Courier New',monospace\">Vinallama 7B Chat precisions: <span style=\"font-weight: bold\">[</span><span style=\"color: #008080; text-decoration-color: #008080; font-weight: bold\">0.07012797835813131</span>, <span style=\"color: #008080; text-decoration-color: #008080; font-weight: bold\">0.0011097547442015315</span>, <span style=\"color: #008080; text-decoration-color: #008080; font-weight: bold\">0.0</span>, <span style=\"color: #008080; text-decoration-color: #008080; font-weight: bold\">0.0</span><span style=\"font-weight: bold\">]</span>\n",
       "</pre>\n"
      ],
      "text/plain": [
       "Vinallama 7B Chat precisions: \u001b[1m[\u001b[0m\u001b[1;36m0.07012797835813131\u001b[0m, \u001b[1;36m0.0011097547442015315\u001b[0m, \u001b[1;36m0.0\u001b[0m, \u001b[1;36m0.0\u001b[0m\u001b[1m]\u001b[0m\n"
      ]
     },
     "metadata": {},
     "output_type": "display_data"
    },
    {
     "data": {
      "text/html": [
       "<pre style=\"white-space:pre;overflow-x:auto;line-height:normal;font-family:Menlo,'DejaVu Sans Mono',consolas,'Courier New',monospace\">Vinallama 7B brevity_penalty: <span style=\"color: #008080; text-decoration-color: #008080; font-weight: bold\">1.0</span>\n",
       "</pre>\n"
      ],
      "text/plain": [
       "Vinallama 7B brevity_penalty: \u001b[1;36m1.0\u001b[0m\n"
      ]
     },
     "metadata": {},
     "output_type": "display_data"
    },
    {
     "data": {
      "text/html": [
       "<pre style=\"white-space:pre;overflow-x:auto;line-height:normal;font-family:Menlo,'DejaVu Sans Mono',consolas,'Courier New',monospace\">Vinallama 7B Chat brevity_penalty: <span style=\"color: #008080; text-decoration-color: #008080; font-weight: bold\">1.0</span>\n",
       "</pre>\n"
      ],
      "text/plain": [
       "Vinallama 7B Chat brevity_penalty: \u001b[1;36m1.0\u001b[0m\n"
      ]
     },
     "metadata": {},
     "output_type": "display_data"
    },
    {
     "data": {
      "text/html": [
       "<pre style=\"white-space:pre;overflow-x:auto;line-height:normal;font-family:Menlo,'DejaVu Sans Mono',consolas,'Courier New',monospace\">Vinallama 7B length_ratio: <span style=\"color: #008080; text-decoration-color: #008080; font-weight: bold\">1.9016488845780795</span>\n",
       "</pre>\n"
      ],
      "text/plain": [
       "Vinallama 7B length_ratio: \u001b[1;36m1.9016488845780795\u001b[0m\n"
      ]
     },
     "metadata": {},
     "output_type": "display_data"
    },
    {
     "data": {
      "text/html": [
       "<pre style=\"white-space:pre;overflow-x:auto;line-height:normal;font-family:Menlo,'DejaVu Sans Mono',consolas,'Courier New',monospace\">Vinallama 7B Chat length_ratio: <span style=\"color: #008080; text-decoration-color: #008080; font-weight: bold\">1.8644034917555772</span>\n",
       "</pre>\n"
      ],
      "text/plain": [
       "Vinallama 7B Chat length_ratio: \u001b[1;36m1.8644034917555772\u001b[0m\n"
      ]
     },
     "metadata": {},
     "output_type": "display_data"
    },
    {
     "data": {
      "text/html": [
       "<pre style=\"white-space:pre;overflow-x:auto;line-height:normal;font-family:Menlo,'DejaVu Sans Mono',consolas,'Courier New',monospace\">Vinallama 7B translation_length: <span style=\"color: #008080; text-decoration-color: #008080; font-weight: bold\">9803</span>\n",
       "</pre>\n"
      ],
      "text/plain": [
       "Vinallama 7B translation_length: \u001b[1;36m9803\u001b[0m\n"
      ]
     },
     "metadata": {},
     "output_type": "display_data"
    },
    {
     "data": {
      "text/html": [
       "<pre style=\"white-space:pre;overflow-x:auto;line-height:normal;font-family:Menlo,'DejaVu Sans Mono',consolas,'Courier New',monospace\">Vinallama 7B Chat translation_length: <span style=\"color: #008080; text-decoration-color: #008080; font-weight: bold\">9611</span>\n",
       "</pre>\n"
      ],
      "text/plain": [
       "Vinallama 7B Chat translation_length: \u001b[1;36m9611\u001b[0m\n"
      ]
     },
     "metadata": {},
     "output_type": "display_data"
    },
    {
     "data": {
      "text/html": [
       "<pre style=\"white-space:pre;overflow-x:auto;line-height:normal;font-family:Menlo,'DejaVu Sans Mono',consolas,'Courier New',monospace\">Vinallama 7B reference_length: <span style=\"color: #008080; text-decoration-color: #008080; font-weight: bold\">5155</span>\n",
       "</pre>\n"
      ],
      "text/plain": [
       "Vinallama 7B reference_length: \u001b[1;36m5155\u001b[0m\n"
      ]
     },
     "metadata": {},
     "output_type": "display_data"
    },
    {
     "data": {
      "text/html": [
       "<pre style=\"white-space:pre;overflow-x:auto;line-height:normal;font-family:Menlo,'DejaVu Sans Mono',consolas,'Courier New',monospace\">Vinallama 7B Chat reference_length: <span style=\"color: #008080; text-decoration-color: #008080; font-weight: bold\">5155</span>\n",
       "</pre>\n"
      ],
      "text/plain": [
       "Vinallama 7B Chat reference_length: \u001b[1;36m5155\u001b[0m\n"
      ]
     },
     "metadata": {},
     "output_type": "display_data"
    }
   ],
   "source": [
    "bleu = evaluate.load(\"bleu\")\n",
    "\n",
    "results_vinallama_7b = bleu.compute(predictions=predictions_vinallama_7b, references=references)\n",
    "results_vinallama_7b_chat = bleu.compute(predictions=predictions_vinallama_7b_chat, references=references)\n",
    "\n",
    "for key, value in results_vinallama_7b.items():\n",
    "    print(f\"Vinallama 7B {key}: {value}\")\n",
    "    print(f\"Vinallama 7B Chat {key}: {results_vinallama_7b_chat[key]}\")"
   ]
  },
  {
   "cell_type": "markdown",
   "metadata": {},
   "source": [
    "## BERTSCORE"
   ]
  },
  {
   "cell_type": "code",
   "execution_count": 15,
   "metadata": {},
   "outputs": [
    {
     "name": "stderr",
     "output_type": "stream",
     "text": [
      "/home/nguyen/miniconda3/envs/nlp/lib/python3.10/site-packages/huggingface_hub/file_download.py:1132: FutureWarning: `resume_download` is deprecated and will be removed in version 1.0.0. Downloads always resume when possible. If you want to force a new download, use `force_download=True`.\n",
      "  warnings.warn(\n",
      "Some weights of RobertaModel were not initialized from the model checkpoint at roberta-large and are newly initialized: ['roberta.pooler.dense.bias', 'roberta.pooler.dense.weight']\n",
      "You should probably TRAIN this model on a down-stream task to be able to use it for predictions and inference.\n"
     ]
    },
    {
     "data": {
      "text/html": [
       "<pre style=\"white-space:pre;overflow-x:auto;line-height:normal;font-family:Menlo,'DejaVu Sans Mono',consolas,'Courier New',monospace\">Vinallama 7B precision: <span style=\"color: #008080; text-decoration-color: #008080; font-weight: bold\">0.8391292691230774</span>\n",
       "</pre>\n"
      ],
      "text/plain": [
       "Vinallama 7B precision: \u001b[1;36m0.8391292691230774\u001b[0m\n"
      ]
     },
     "metadata": {},
     "output_type": "display_data"
    },
    {
     "data": {
      "text/html": [
       "<pre style=\"white-space:pre;overflow-x:auto;line-height:normal;font-family:Menlo,'DejaVu Sans Mono',consolas,'Courier New',monospace\">Vinallama 7B Chat precision: <span style=\"color: #008080; text-decoration-color: #008080; font-weight: bold\">0.8388028740882874</span>\n",
       "</pre>\n"
      ],
      "text/plain": [
       "Vinallama 7B Chat precision: \u001b[1;36m0.8388028740882874\u001b[0m\n"
      ]
     },
     "metadata": {},
     "output_type": "display_data"
    },
    {
     "data": {
      "text/html": [
       "<pre style=\"white-space:pre;overflow-x:auto;line-height:normal;font-family:Menlo,'DejaVu Sans Mono',consolas,'Courier New',monospace\">Vinallama 7B recall: <span style=\"color: #008080; text-decoration-color: #008080; font-weight: bold\">0.8537200093269348</span>\n",
       "</pre>\n"
      ],
      "text/plain": [
       "Vinallama 7B recall: \u001b[1;36m0.8537200093269348\u001b[0m\n"
      ]
     },
     "metadata": {},
     "output_type": "display_data"
    },
    {
     "data": {
      "text/html": [
       "<pre style=\"white-space:pre;overflow-x:auto;line-height:normal;font-family:Menlo,'DejaVu Sans Mono',consolas,'Courier New',monospace\">Vinallama 7B Chat recall: <span style=\"color: #008080; text-decoration-color: #008080; font-weight: bold\">0.8534901738166809</span>\n",
       "</pre>\n"
      ],
      "text/plain": [
       "Vinallama 7B Chat recall: \u001b[1;36m0.8534901738166809\u001b[0m\n"
      ]
     },
     "metadata": {},
     "output_type": "display_data"
    },
    {
     "data": {
      "text/html": [
       "<pre style=\"white-space:pre;overflow-x:auto;line-height:normal;font-family:Menlo,'DejaVu Sans Mono',consolas,'Courier New',monospace\">Vinallama 7B f1: <span style=\"color: #008080; text-decoration-color: #008080; font-weight: bold\">0.8460212349891663</span>\n",
       "</pre>\n"
      ],
      "text/plain": [
       "Vinallama 7B f1: \u001b[1;36m0.8460212349891663\u001b[0m\n"
      ]
     },
     "metadata": {},
     "output_type": "display_data"
    },
    {
     "data": {
      "text/html": [
       "<pre style=\"white-space:pre;overflow-x:auto;line-height:normal;font-family:Menlo,'DejaVu Sans Mono',consolas,'Courier New',monospace\">Vinallama 7B Chat f1: <span style=\"color: #008080; text-decoration-color: #008080; font-weight: bold\">0.8457127213478088</span>\n",
       "</pre>\n"
      ],
      "text/plain": [
       "Vinallama 7B Chat f1: \u001b[1;36m0.8457127213478088\u001b[0m\n"
      ]
     },
     "metadata": {},
     "output_type": "display_data"
    },
    {
     "data": {
      "text/html": [
       "<pre style=\"white-space:pre;overflow-x:auto;line-height:normal;font-family:Menlo,'DejaVu Sans Mono',consolas,'Courier New',monospace\">Vinallama 7B hashcode: roberta-large_L17_no-<span style=\"color: #808000; text-decoration-color: #808000\">idf_version</span>=<span style=\"color: #800080; text-decoration-color: #800080; font-weight: bold\">0</span><span style=\"color: #800080; text-decoration-color: #800080; font-weight: bold\">.3.12</span><span style=\"font-weight: bold\">(</span><span style=\"color: #808000; text-decoration-color: #808000\">hug_trans</span>=<span style=\"color: #008080; text-decoration-color: #008080; font-weight: bold\">4.40</span>.<span style=\"color: #008080; text-decoration-color: #008080; font-weight: bold\">2</span><span style=\"font-weight: bold\">)</span>\n",
       "</pre>\n"
      ],
      "text/plain": [
       "Vinallama 7B hashcode: roberta-large_L17_no-\u001b[33midf_version\u001b[0m=\u001b[1;35m0\u001b[0m\u001b[1;35m.3.12\u001b[0m\u001b[1m(\u001b[0m\u001b[33mhug_trans\u001b[0m=\u001b[1;36m4\u001b[0m\u001b[1;36m.40\u001b[0m.\u001b[1;36m2\u001b[0m\u001b[1m)\u001b[0m\n"
      ]
     },
     "metadata": {},
     "output_type": "display_data"
    },
    {
     "data": {
      "text/html": [
       "<pre style=\"white-space:pre;overflow-x:auto;line-height:normal;font-family:Menlo,'DejaVu Sans Mono',consolas,'Courier New',monospace\">Vinallama 7B Chat hashcode: roberta-large_L17_no-<span style=\"color: #808000; text-decoration-color: #808000\">idf_version</span>=<span style=\"color: #800080; text-decoration-color: #800080; font-weight: bold\">0</span><span style=\"color: #800080; text-decoration-color: #800080; font-weight: bold\">.3.12</span><span style=\"font-weight: bold\">(</span><span style=\"color: #808000; text-decoration-color: #808000\">hug_trans</span>=<span style=\"color: #008080; text-decoration-color: #008080; font-weight: bold\">4.40</span>.<span style=\"color: #008080; text-decoration-color: #008080; font-weight: bold\">2</span><span style=\"font-weight: bold\">)</span>\n",
       "</pre>\n"
      ],
      "text/plain": [
       "Vinallama 7B Chat hashcode: roberta-large_L17_no-\u001b[33midf_version\u001b[0m=\u001b[1;35m0\u001b[0m\u001b[1;35m.3.12\u001b[0m\u001b[1m(\u001b[0m\u001b[33mhug_trans\u001b[0m=\u001b[1;36m4\u001b[0m\u001b[1;36m.40\u001b[0m.\u001b[1;36m2\u001b[0m\u001b[1m)\u001b[0m\n"
      ]
     },
     "metadata": {},
     "output_type": "display_data"
    }
   ],
   "source": [
    "bertscore = evaluate.load(\"bertscore\")\n",
    "\n",
    "results_vinallama_7b = bertscore.compute(predictions=predictions_vinallama_7b, references=references, lang=\"en\")\n",
    "results_vinallama_7b_chat = bertscore.compute(predictions=predictions_vinallama_7b_chat, references=references, lang=\"en\")\n",
    "\n",
    "for key, value in results_vinallama_7b.items():\n",
    "    \n",
    "    if isinstance(value, list):\n",
    "        vinallama_7b_tensor = torch.tensor(value, dtype=torch.float32)\n",
    "        vinallama_7b_chat_tensor = torch.tensor(results_vinallama_7b_chat[key], dtype=torch.float32)\n",
    "        \n",
    "        avg_vinallama_7b = torch.mean(vinallama_7b_tensor).item()\n",
    "        avg_vinallama_7b_chat = torch.mean(vinallama_7b_chat_tensor).item()\n",
    "        print(f\"Vinallama 7B {key}: {avg_vinallama_7b}\")\n",
    "        print(f\"Vinallama 7B Chat {key}: {avg_vinallama_7b_chat}\")\n",
    "    else:\n",
    "        print(f\"Vinallama 7B {key}: {value}\")\n",
    "        print(f\"Vinallama 7B Chat {key}: {results_vinallama_7b_chat[key]}\")"
   ]
  },
  {
   "cell_type": "markdown",
   "metadata": {},
   "source": [
    "## BLEURT"
   ]
  },
  {
   "cell_type": "code",
   "execution_count": 3,
   "metadata": {},
   "outputs": [
    {
     "name": "stderr",
     "output_type": "stream",
     "text": [
      "Using default BLEURT-Base checkpoint for sequence maximum length 128. You can use a bigger model for better results with e.g.: evaluate.load('bleurt', 'bleurt-large-512').\n"
     ]
    },
    {
     "name": "stdout",
     "output_type": "stream",
     "text": [
      "INFO:tensorflow:Reading checkpoint /home/nguyen/.cache/huggingface/metrics/bleurt/default/downloads/extracted/49ae870ec41970df36d4cb594bb8991ef69b9fe584090a8c05e6b35a23eb644e/bleurt-base-128.\n",
      "INFO:tensorflow:Config file found, reading.\n",
      "INFO:tensorflow:Will load checkpoint bert_custom\n",
      "INFO:tensorflow:Loads full paths and checks that files exists.\n",
      "INFO:tensorflow:... name:bert_custom\n",
      "INFO:tensorflow:... vocab_file:vocab.txt\n",
      "INFO:tensorflow:... bert_config_file:bert_config.json\n",
      "INFO:tensorflow:... do_lower_case:True\n",
      "INFO:tensorflow:... max_seq_length:128\n",
      "INFO:tensorflow:Creating BLEURT scorer.\n",
      "INFO:tensorflow:Creating WordPiece tokenizer.\n",
      "INFO:tensorflow:WordPiece tokenizer instantiated.\n",
      "INFO:tensorflow:Creating Eager Mode predictor.\n",
      "INFO:tensorflow:Loading model.\n"
     ]
    },
    {
     "name": "stderr",
     "output_type": "stream",
     "text": [
      "2024-05-26 15:38:13.304878: I external/local_xla/xla/stream_executor/cuda/cuda_executor.cc:984] could not open file to read NUMA node: /sys/bus/pci/devices/0000:01:00.0/numa_node\n",
      "Your kernel may have been built without NUMA support.\n",
      "2024-05-26 15:38:13.305546: I external/local_xla/xla/stream_executor/cuda/cuda_executor.cc:984] could not open file to read NUMA node: /sys/bus/pci/devices/0000:01:00.0/numa_node\n",
      "Your kernel may have been built without NUMA support.\n",
      "2024-05-26 15:38:13.305565: I external/local_xla/xla/stream_executor/cuda/cuda_executor.cc:984] could not open file to read NUMA node: /sys/bus/pci/devices/0000:01:00.0/numa_node\n",
      "Your kernel may have been built without NUMA support.\n",
      "2024-05-26 15:38:13.307250: I external/local_xla/xla/stream_executor/cuda/cuda_executor.cc:984] could not open file to read NUMA node: /sys/bus/pci/devices/0000:01:00.0/numa_node\n",
      "Your kernel may have been built without NUMA support.\n",
      "2024-05-26 15:38:13.307268: I external/local_xla/xla/stream_executor/cuda/cuda_executor.cc:984] could not open file to read NUMA node: /sys/bus/pci/devices/0000:01:00.0/numa_node\n",
      "Your kernel may have been built without NUMA support.\n",
      "2024-05-26 15:38:13.307274: I external/local_xla/xla/stream_executor/cuda/cuda_executor.cc:984] could not open file to read NUMA node: /sys/bus/pci/devices/0000:01:00.0/numa_node\n",
      "Your kernel may have been built without NUMA support.\n",
      "2024-05-26 15:38:13.412498: I external/local_xla/xla/stream_executor/cuda/cuda_executor.cc:984] could not open file to read NUMA node: /sys/bus/pci/devices/0000:01:00.0/numa_node\n",
      "Your kernel may have been built without NUMA support.\n",
      "2024-05-26 15:38:13.412525: I external/local_xla/xla/stream_executor/cuda/cuda_executor.cc:984] could not open file to read NUMA node: /sys/bus/pci/devices/0000:01:00.0/numa_node\n",
      "Your kernel may have been built without NUMA support.\n",
      "2024-05-26 15:38:13.412529: I tensorflow/core/common_runtime/gpu/gpu_device.cc:2019] Could not identify NUMA node of platform GPU id 0, defaulting to 0.  Your kernel may not have been built with NUMA support.\n",
      "2024-05-26 15:38:13.412543: I external/local_xla/xla/stream_executor/cuda/cuda_executor.cc:984] could not open file to read NUMA node: /sys/bus/pci/devices/0000:01:00.0/numa_node\n",
      "Your kernel may have been built without NUMA support.\n",
      "2024-05-26 15:38:13.412568: I tensorflow/core/common_runtime/gpu/gpu_device.cc:1928] Created device /job:localhost/replica:0/task:0/device:GPU:0 with 5558 MB memory:  -> device: 0, name: NVIDIA GeForce RTX 3070 Ti, pci bus id: 0000:01:00.0, compute capability: 8.6\n"
     ]
    },
    {
     "name": "stdout",
     "output_type": "stream",
     "text": [
      "INFO:tensorflow:BLEURT initialized.\n"
     ]
    },
    {
     "name": "stderr",
     "output_type": "stream",
     "text": [
      "INFO:tensorflow:BLEURT initialized.\n"
     ]
    },
    {
     "data": {
      "text/html": [
       "<pre style=\"white-space:pre;overflow-x:auto;line-height:normal;font-family:Menlo,'DejaVu Sans Mono',consolas,'Courier New',monospace\">Vinallama 7B scores: <span style=\"color: #008080; text-decoration-color: #008080; font-weight: bold\">-1.5591011047363281</span>\n",
       "</pre>\n"
      ],
      "text/plain": [
       "Vinallama 7B scores: \u001b[1;36m-1.5591011047363281\u001b[0m\n"
      ]
     },
     "metadata": {},
     "output_type": "display_data"
    },
    {
     "data": {
      "text/html": [
       "<pre style=\"white-space:pre;overflow-x:auto;line-height:normal;font-family:Menlo,'DejaVu Sans Mono',consolas,'Courier New',monospace\">Vinallama 7B Chat scores: <span style=\"color: #008080; text-decoration-color: #008080; font-weight: bold\">-1.5376622676849365</span>\n",
       "</pre>\n"
      ],
      "text/plain": [
       "Vinallama 7B Chat scores: \u001b[1;36m-1.5376622676849365\u001b[0m\n"
      ]
     },
     "metadata": {},
     "output_type": "display_data"
    }
   ],
   "source": [
    "bleurt = evaluate.load(\"bleurt\", module_type=\"metric\", checkpoint=\"bleurt-large-512\")\n",
    "\n",
    "results_vinallama_7b = bleurt.compute(predictions=predictions_vinallama_7b, references=references)\n",
    "results_vinallama_7b_chat = bleurt.compute(predictions=predictions_vinallama_7b_chat, references=references)\n",
    "\n",
    "for key, value in results_vinallama_7b.items():\n",
    "    \n",
    "    vinallama_7b_tensor = torch.tensor(value, dtype=torch.float32)\n",
    "    vinallama_7b_chat_tensor = torch.tensor(results_vinallama_7b_chat[key], dtype=torch.float32)\n",
    "    \n",
    "    avg_vinallama_7b = torch.mean(vinallama_7b_tensor).item()\n",
    "    avg_vinallama_7b_chat = torch.mean(vinallama_7b_chat_tensor).item()\n",
    "    \n",
    "    print(f\"Vinallama 7B {key}: {avg_vinallama_7b}\")\n",
    "    print(f\"Vinallama 7B Chat {key}: {avg_vinallama_7b_chat}\")"
   ]
  },
  {
   "cell_type": "markdown",
   "metadata": {},
   "source": [
    "## MANUAL"
   ]
  },
  {
   "cell_type": "code",
   "execution_count": 22,
   "metadata": {},
   "outputs": [
    {
     "data": {
      "text/html": [
       "<pre style=\"white-space:pre;overflow-x:auto;line-height:normal;font-family:Menlo,'DejaVu Sans Mono',consolas,'Courier New',monospace\">Vietnamese: - David!\n",
       "</pre>\n"
      ],
      "text/plain": [
       "Vietnamese: - David!\n"
      ]
     },
     "metadata": {},
     "output_type": "display_data"
    },
    {
     "data": {
      "text/html": [
       "<pre style=\"white-space:pre;overflow-x:auto;line-height:normal;font-family:Menlo,'DejaVu Sans Mono',consolas,'Courier New',monospace\">Reference: - David!\n",
       "</pre>\n"
      ],
      "text/plain": [
       "Reference: - David!\n"
      ]
     },
     "metadata": {},
     "output_type": "display_data"
    },
    {
     "data": {
      "text/html": [
       "<pre style=\"white-space:pre;overflow-x:auto;line-height:normal;font-family:Menlo,'DejaVu Sans Mono',consolas,'Courier New',monospace\">Vinallama 7B: David!\n",
       "\n",
       "</pre>\n"
      ],
      "text/plain": [
       "Vinallama 7B: David!\n",
       "\n"
      ]
     },
     "metadata": {},
     "output_type": "display_data"
    },
    {
     "data": {
      "text/html": [
       "<pre style=\"white-space:pre;overflow-x:auto;line-height:normal;font-family:Menlo,'DejaVu Sans Mono',consolas,'Courier New',monospace\">Vinallama 7B Chat: - David!\n",
       "\n",
       "</pre>\n"
      ],
      "text/plain": [
       "Vinallama 7B Chat: - David!\n",
       "\n"
      ]
     },
     "metadata": {},
     "output_type": "display_data"
    },
    {
     "data": {
      "text/html": [
       "<pre style=\"white-space:pre;overflow-x:auto;line-height:normal;font-family:Menlo,'DejaVu Sans Mono',consolas,'Courier New',monospace\">\n",
       "\n",
       "</pre>\n"
      ],
      "text/plain": [
       "\n",
       "\n"
      ]
     },
     "metadata": {},
     "output_type": "display_data"
    },
    {
     "data": {
      "text/html": [
       "<pre style=\"white-space:pre;overflow-x:auto;line-height:normal;font-family:Menlo,'DejaVu Sans Mono',consolas,'Courier New',monospace\">Vietnamese: Nhiều người lắc đầu hơn rồi.\n",
       "</pre>\n"
      ],
      "text/plain": [
       "Vietnamese: Nhiều người lắc đầu hơn rồi.\n"
      ]
     },
     "metadata": {},
     "output_type": "display_data"
    },
    {
     "data": {
      "text/html": [
       "<pre style=\"white-space:pre;overflow-x:auto;line-height:normal;font-family:Menlo,'DejaVu Sans Mono',consolas,'Courier New',monospace\">Reference: I see more shakes.\n",
       "</pre>\n"
      ],
      "text/plain": [
       "Reference: I see more shakes.\n"
      ]
     },
     "metadata": {},
     "output_type": "display_data"
    },
    {
     "data": {
      "text/html": [
       "<pre style=\"white-space:pre;overflow-x:auto;line-height:normal;font-family:Menlo,'DejaVu Sans Mono',consolas,'Courier New',monospace\">Vinallama 7B: A lot of people shake their heads more than that.\n",
       "\n",
       "</pre>\n"
      ],
      "text/plain": [
       "Vinallama 7B: A lot of people shake their heads more than that.\n",
       "\n"
      ]
     },
     "metadata": {},
     "output_type": "display_data"
    },
    {
     "data": {
      "text/html": [
       "<pre style=\"white-space:pre;overflow-x:auto;line-height:normal;font-family:Menlo,'DejaVu Sans Mono',consolas,'Courier New',monospace\">Vinallama 7B Chat: More people are shaking their heads, right.\n",
       "\n",
       "</pre>\n"
      ],
      "text/plain": [
       "Vinallama 7B Chat: More people are shaking their heads, right.\n",
       "\n"
      ]
     },
     "metadata": {},
     "output_type": "display_data"
    },
    {
     "data": {
      "text/html": [
       "<pre style=\"white-space:pre;overflow-x:auto;line-height:normal;font-family:Menlo,'DejaVu Sans Mono',consolas,'Courier New',monospace\">\n",
       "\n",
       "</pre>\n"
      ],
      "text/plain": [
       "\n",
       "\n"
      ]
     },
     "metadata": {},
     "output_type": "display_data"
    },
    {
     "data": {
      "text/html": [
       "<pre style=\"white-space:pre;overflow-x:auto;line-height:normal;font-family:Menlo,'DejaVu Sans Mono',consolas,'Courier New',monospace\">Vietnamese: Canon Inc. đã công bố sáng kiến bắt đầu sản xuất ti vi màn hình phẳng thế hệ mới của riêng mình.\n",
       "</pre>\n"
      ],
      "text/plain": [
       "Vietnamese: Canon Inc. đã công bố sáng kiến bắt đầu sản xuất ti vi màn hình phẳng thế hệ mới của riêng mình.\n"
      ]
     },
     "metadata": {},
     "output_type": "display_data"
    },
    {
     "data": {
      "text/html": [
       "<pre style=\"white-space:pre;overflow-x:auto;line-height:normal;font-family:Menlo,'DejaVu Sans Mono',consolas,'Courier New',monospace\">Reference: Canon Inc. announced the initiative to start production of new generation flat-panel television on its \n",
       "own.\n",
       "</pre>\n"
      ],
      "text/plain": [
       "Reference: Canon Inc. announced the initiative to start production of new generation flat-panel television on its \n",
       "own.\n"
      ]
     },
     "metadata": {},
     "output_type": "display_data"
    },
    {
     "data": {
      "text/html": [
       "<pre style=\"white-space:pre;overflow-x:auto;line-height:normal;font-family:Menlo,'DejaVu Sans Mono',consolas,'Courier New',monospace\">Vinallama 7B: Canon Inc. has just announced its new generation of flat-panel LCD TVs for home manufacturing.\n",
       "\n",
       "</pre>\n"
      ],
      "text/plain": [
       "Vinallama 7B: Canon Inc. has just announced its new generation of flat-panel LCD TVs for home manufacturing.\n",
       "\n"
      ]
     },
     "metadata": {},
     "output_type": "display_data"
    },
    {
     "data": {
      "text/html": [
       "<pre style=\"white-space:pre;overflow-x:auto;line-height:normal;font-family:Menlo,'DejaVu Sans Mono',consolas,'Courier New',monospace\">Vinallama 7B Chat: Canon Inc. has unveiled its new generation of flat-screen TVs for production.\n",
       "\n",
       "</pre>\n"
      ],
      "text/plain": [
       "Vinallama 7B Chat: Canon Inc. has unveiled its new generation of flat-screen TVs for production.\n",
       "\n"
      ]
     },
     "metadata": {},
     "output_type": "display_data"
    },
    {
     "data": {
      "text/html": [
       "<pre style=\"white-space:pre;overflow-x:auto;line-height:normal;font-family:Menlo,'DejaVu Sans Mono',consolas,'Courier New',monospace\">\n",
       "\n",
       "</pre>\n"
      ],
      "text/plain": [
       "\n",
       "\n"
      ]
     },
     "metadata": {},
     "output_type": "display_data"
    },
    {
     "data": {
      "text/html": [
       "<pre style=\"white-space:pre;overflow-x:auto;line-height:normal;font-family:Menlo,'DejaVu Sans Mono',consolas,'Courier New',monospace\">Vietnamese: Đa-vít nói, <span style=\"color: #008000; text-decoration-color: #008000\">\"Tôi muốn chiến đấu với Gô-li-át!\"</span>\n",
       "</pre>\n"
      ],
      "text/plain": [
       "Vietnamese: Đa-vít nói, \u001b[32m\"Tôi muốn chiến đấu với Gô-li-át!\"\u001b[0m\n"
      ]
     },
     "metadata": {},
     "output_type": "display_data"
    },
    {
     "data": {
      "text/html": [
       "<pre style=\"white-space:pre;overflow-x:auto;line-height:normal;font-family:Menlo,'DejaVu Sans Mono',consolas,'Courier New',monospace\">Reference: David says, <span style=\"color: #008000; text-decoration-color: #008000\">\"I want to fight Goliath,\"</span>\n",
       "</pre>\n"
      ],
      "text/plain": [
       "Reference: David says, \u001b[32m\"I want to fight Goliath,\"\u001b[0m\n"
      ]
     },
     "metadata": {},
     "output_type": "display_data"
    },
    {
     "data": {
      "text/html": [
       "<pre style=\"white-space:pre;overflow-x:auto;line-height:normal;font-family:Menlo,'DejaVu Sans Mono',consolas,'Courier New',monospace\">Vinallama 7B: David said, <span style=\"color: #008000; text-decoration-color: #008000\">\"I want to go head to head with Golias!\"</span>\n",
       "\n",
       "</pre>\n"
      ],
      "text/plain": [
       "Vinallama 7B: David said, \u001b[32m\"I want to go head to head with Golias!\"\u001b[0m\n",
       "\n"
      ]
     },
     "metadata": {},
     "output_type": "display_data"
    },
    {
     "data": {
      "text/html": [
       "<pre style=\"white-space:pre;overflow-x:auto;line-height:normal;font-family:Menlo,'DejaVu Sans Mono',consolas,'Courier New',monospace\">Vinallama 7B Chat: David said, <span style=\"color: #008000; text-decoration-color: #008000\">\"I want to fight Goliath!\"</span>\n",
       "\n",
       "</pre>\n"
      ],
      "text/plain": [
       "Vinallama 7B Chat: David said, \u001b[32m\"I want to fight Goliath!\"\u001b[0m\n",
       "\n"
      ]
     },
     "metadata": {},
     "output_type": "display_data"
    },
    {
     "data": {
      "text/html": [
       "<pre style=\"white-space:pre;overflow-x:auto;line-height:normal;font-family:Menlo,'DejaVu Sans Mono',consolas,'Courier New',monospace\">\n",
       "\n",
       "</pre>\n"
      ],
      "text/plain": [
       "\n",
       "\n"
      ]
     },
     "metadata": {},
     "output_type": "display_data"
    },
    {
     "data": {
      "text/html": [
       "<pre style=\"white-space:pre;overflow-x:auto;line-height:normal;font-family:Menlo,'DejaVu Sans Mono',consolas,'Courier New',monospace\">Vietnamese: Bối rối là tín hiệu giúp mọi người dễ được xã hội ủng hộ , Feinberg nói :\n",
       "</pre>\n"
      ],
      "text/plain": [
       "Vietnamese: Bối rối là tín hiệu giúp mọi người dễ được xã hội ủng hộ , Feinberg nói :\n"
      ]
     },
     "metadata": {},
     "output_type": "display_data"
    },
    {
     "data": {
      "text/html": [
       "<pre style=\"white-space:pre;overflow-x:auto;line-height:normal;font-family:Menlo,'DejaVu Sans Mono',consolas,'Courier New',monospace\">Reference: Embarrassment signals people 's tendency to be pro-social , said Feinberg :\n",
       "</pre>\n"
      ],
      "text/plain": [
       "Reference: Embarrassment signals people 's tendency to be pro-social , said Feinberg :\n"
      ]
     },
     "metadata": {},
     "output_type": "display_data"
    },
    {
     "data": {
      "text/html": [
       "<pre style=\"white-space:pre;overflow-x:auto;line-height:normal;font-family:Menlo,'DejaVu Sans Mono',consolas,'Courier New',monospace\">Vinallama 7B: Distraction is a sign of social support, Feinberg says:\n",
       "\n",
       "</pre>\n"
      ],
      "text/plain": [
       "Vinallama 7B: Distraction is a sign of social support, Feinberg says:\n",
       "\n"
      ]
     },
     "metadata": {},
     "output_type": "display_data"
    },
    {
     "data": {
      "text/html": [
       "<pre style=\"white-space:pre;overflow-x:auto;line-height:normal;font-family:Menlo,'DejaVu Sans Mono',consolas,'Courier New',monospace\">Vinallama 7B Chat: Confusion is a signal that helps people get socially supported, Feinberg said.\n",
       "\n",
       "</pre>\n"
      ],
      "text/plain": [
       "Vinallama 7B Chat: Confusion is a signal that helps people get socially supported, Feinberg said.\n",
       "\n"
      ]
     },
     "metadata": {},
     "output_type": "display_data"
    },
    {
     "data": {
      "text/html": [
       "<pre style=\"white-space:pre;overflow-x:auto;line-height:normal;font-family:Menlo,'DejaVu Sans Mono',consolas,'Courier New',monospace\">\n",
       "\n",
       "</pre>\n"
      ],
      "text/plain": [
       "\n",
       "\n"
      ]
     },
     "metadata": {},
     "output_type": "display_data"
    },
    {
     "data": {
      "text/html": [
       "<pre style=\"white-space:pre;overflow-x:auto;line-height:normal;font-family:Menlo,'DejaVu Sans Mono',consolas,'Courier New',monospace\">Vietnamese: trên một mét khối.\n",
       "</pre>\n"
      ],
      "text/plain": [
       "Vietnamese: trên một mét khối.\n"
      ]
     },
     "metadata": {},
     "output_type": "display_data"
    },
    {
     "data": {
      "text/html": [
       "<pre style=\"white-space:pre;overflow-x:auto;line-height:normal;font-family:Menlo,'DejaVu Sans Mono',consolas,'Courier New',monospace\">Reference: there were per cubic meter.\n",
       "</pre>\n"
      ],
      "text/plain": [
       "Reference: there were per cubic meter.\n"
      ]
     },
     "metadata": {},
     "output_type": "display_data"
    },
    {
     "data": {
      "text/html": [
       "<pre style=\"white-space:pre;overflow-x:auto;line-height:normal;font-family:Menlo,'DejaVu Sans Mono',consolas,'Courier New',monospace\">Vinallama 7B: on one cubic meter.\n",
       "\n",
       "</pre>\n"
      ],
      "text/plain": [
       "Vinallama 7B: on one cubic meter.\n",
       "\n"
      ]
     },
     "metadata": {},
     "output_type": "display_data"
    },
    {
     "data": {
      "text/html": [
       "<pre style=\"white-space:pre;overflow-x:auto;line-height:normal;font-family:Menlo,'DejaVu Sans Mono',consolas,'Courier New',monospace\">Vinallama 7B Chat: it's per square meter\n",
       "\n",
       "</pre>\n"
      ],
      "text/plain": [
       "Vinallama 7B Chat: it's per square meter\n",
       "\n"
      ]
     },
     "metadata": {},
     "output_type": "display_data"
    },
    {
     "data": {
      "text/html": [
       "<pre style=\"white-space:pre;overflow-x:auto;line-height:normal;font-family:Menlo,'DejaVu Sans Mono',consolas,'Courier New',monospace\">\n",
       "\n",
       "</pre>\n"
      ],
      "text/plain": [
       "\n",
       "\n"
      ]
     },
     "metadata": {},
     "output_type": "display_data"
    },
    {
     "data": {
      "text/html": [
       "<pre style=\"white-space:pre;overflow-x:auto;line-height:normal;font-family:Menlo,'DejaVu Sans Mono',consolas,'Courier New',monospace\">Vietnamese: Tổng thống Venezuela Hugo Chavez tuyên bố rằng chính phủ Hoa Kỳ có thể đã lập kế hoạch cho loạt tấn \n",
       "công vào ngày <span style=\"color: #008080; text-decoration-color: #008080; font-weight: bold\">11</span> tháng Chín, <span style=\"color: #008080; text-decoration-color: #008080; font-weight: bold\">2001</span>.\n",
       "</pre>\n"
      ],
      "text/plain": [
       "Vietnamese: Tổng thống Venezuela Hugo Chavez tuyên bố rằng chính phủ Hoa Kỳ có thể đã lập kế hoạch cho loạt tấn \n",
       "công vào ngày \u001b[1;36m11\u001b[0m tháng Chín, \u001b[1;36m2001\u001b[0m.\n"
      ]
     },
     "metadata": {},
     "output_type": "display_data"
    },
    {
     "data": {
      "text/html": [
       "<pre style=\"white-space:pre;overflow-x:auto;line-height:normal;font-family:Menlo,'DejaVu Sans Mono',consolas,'Courier New',monospace\">Reference: Venezuelan President Hugo Chavez stated the U.S. government may have planned the September <span style=\"color: #008080; text-decoration-color: #008080; font-weight: bold\">11</span>, <span style=\"color: #008080; text-decoration-color: #008080; font-weight: bold\">2001</span> \n",
       "attacks.\n",
       "</pre>\n"
      ],
      "text/plain": [
       "Reference: Venezuelan President Hugo Chavez stated the U.S. government may have planned the September \u001b[1;36m11\u001b[0m, \u001b[1;36m2001\u001b[0m \n",
       "attacks.\n"
      ]
     },
     "metadata": {},
     "output_type": "display_data"
    },
    {
     "data": {
      "text/html": [
       "<pre style=\"white-space:pre;overflow-x:auto;line-height:normal;font-family:Menlo,'DejaVu Sans Mono',consolas,'Courier New',monospace\">Vinallama 7B: Hugo Chavez, the Venezuelan president, said that the US government had plans for an <span style=\"color: #008080; text-decoration-color: #008080; font-weight: bold\">11</span>-<span style=\"color: #008080; text-decoration-color: #008080; font-weight: bold\">9</span> attack.\n",
       "\n",
       "</pre>\n"
      ],
      "text/plain": [
       "Vinallama 7B: Hugo Chavez, the Venezuelan president, said that the US government had plans for an \u001b[1;36m11\u001b[0m-\u001b[1;36m9\u001b[0m attack.\n",
       "\n"
      ]
     },
     "metadata": {},
     "output_type": "display_data"
    },
    {
     "data": {
      "text/html": [
       "<pre style=\"white-space:pre;overflow-x:auto;line-height:normal;font-family:Menlo,'DejaVu Sans Mono',consolas,'Courier New',monospace\">Vinallama 7B Chat: Vienezuelan President Hugo Chavez claimed that the US government might have planned the <span style=\"color: #008080; text-decoration-color: #008080; font-weight: bold\">11</span> \n",
       "September <span style=\"color: #008080; text-decoration-color: #008080; font-weight: bold\">2001</span> attack.\n",
       "\n",
       "</pre>\n"
      ],
      "text/plain": [
       "Vinallama 7B Chat: Vienezuelan President Hugo Chavez claimed that the US government might have planned the \u001b[1;36m11\u001b[0m \n",
       "September \u001b[1;36m2001\u001b[0m attack.\n",
       "\n"
      ]
     },
     "metadata": {},
     "output_type": "display_data"
    },
    {
     "data": {
      "text/html": [
       "<pre style=\"white-space:pre;overflow-x:auto;line-height:normal;font-family:Menlo,'DejaVu Sans Mono',consolas,'Courier New',monospace\">\n",
       "\n",
       "</pre>\n"
      ],
      "text/plain": [
       "\n",
       "\n"
      ]
     },
     "metadata": {},
     "output_type": "display_data"
    },
    {
     "data": {
      "text/html": [
       "<pre style=\"white-space:pre;overflow-x:auto;line-height:normal;font-family:Menlo,'DejaVu Sans Mono',consolas,'Courier New',monospace\">Vietnamese: Hôm thứ Năm , Christine Lagarde , lãnh đạo của Quỹ Tiền Tệ Quốc Tế <span style=\"font-weight: bold\">(</span> IMF <span style=\"font-weight: bold\">)</span> , phát biểu rằng tình hình \n",
       "kinh tế đang bước vào <span style=\"color: #008000; text-decoration-color: #008000\">\" tình trạng nguy hiểm \"</span> .\n",
       "</pre>\n"
      ],
      "text/plain": [
       "Vietnamese: Hôm thứ Năm , Christine Lagarde , lãnh đạo của Quỹ Tiền Tệ Quốc Tế \u001b[1m(\u001b[0m IMF \u001b[1m)\u001b[0m , phát biểu rằng tình hình \n",
       "kinh tế đang bước vào \u001b[32m\" tình trạng nguy hiểm \"\u001b[0m .\n"
      ]
     },
     "metadata": {},
     "output_type": "display_data"
    },
    {
     "data": {
      "text/html": [
       "<pre style=\"white-space:pre;overflow-x:auto;line-height:normal;font-family:Menlo,'DejaVu Sans Mono',consolas,'Courier New',monospace\">Reference: On Thursday , Christine Lagarde , head of the International Monetary Fund <span style=\"font-weight: bold\">(</span> IMF <span style=\"font-weight: bold\">)</span> , said that the \n",
       "economic situation was entering a <span style=\"color: #008000; text-decoration-color: #008000\">\" dangerous place \"</span> .\n",
       "</pre>\n"
      ],
      "text/plain": [
       "Reference: On Thursday , Christine Lagarde , head of the International Monetary Fund \u001b[1m(\u001b[0m IMF \u001b[1m)\u001b[0m , said that the \n",
       "economic situation was entering a \u001b[32m\" dangerous place \"\u001b[0m .\n"
      ]
     },
     "metadata": {},
     "output_type": "display_data"
    },
    {
     "data": {
      "text/html": [
       "<pre style=\"white-space:pre;overflow-x:auto;line-height:normal;font-family:Menlo,'DejaVu Sans Mono',consolas,'Courier New',monospace\">Vinallama 7B: On Tuesday, Christine Lagarde, the IMF's managing director, said that the economy is now in <span style=\"color: #008000; text-decoration-color: #008000\">\" a </span>\n",
       "<span style=\"color: #008000; text-decoration-color: #008000\">dangerous situation \"</span> .\n",
       "\n",
       "</pre>\n"
      ],
      "text/plain": [
       "Vinallama 7B: On Tuesday, Christine Lagarde, the IMF's managing director, said that the economy is now in \u001b[32m\" a \u001b[0m\n",
       "\u001b[32mdangerous situation \"\u001b[0m .\n",
       "\n"
      ]
     },
     "metadata": {},
     "output_type": "display_data"
    },
    {
     "data": {
      "text/html": [
       "<pre style=\"white-space:pre;overflow-x:auto;line-height:normal;font-family:Menlo,'DejaVu Sans Mono',consolas,'Courier New',monospace\">Vinallama 7B Chat: On Thursday, Christine Lagarde, the head of the International Monetary Fund <span style=\"font-weight: bold\">(</span>IMF<span style=\"font-weight: bold\">)</span>, said the \n",
       "economy was entering a <span style=\"color: #008000; text-decoration-color: #008000\">\"perilous\"</span> phase.\n",
       "\n",
       "</pre>\n"
      ],
      "text/plain": [
       "Vinallama 7B Chat: On Thursday, Christine Lagarde, the head of the International Monetary Fund \u001b[1m(\u001b[0mIMF\u001b[1m)\u001b[0m, said the \n",
       "economy was entering a \u001b[32m\"perilous\"\u001b[0m phase.\n",
       "\n"
      ]
     },
     "metadata": {},
     "output_type": "display_data"
    },
    {
     "data": {
      "text/html": [
       "<pre style=\"white-space:pre;overflow-x:auto;line-height:normal;font-family:Menlo,'DejaVu Sans Mono',consolas,'Courier New',monospace\">\n",
       "\n",
       "</pre>\n"
      ],
      "text/plain": [
       "\n",
       "\n"
      ]
     },
     "metadata": {},
     "output_type": "display_data"
    },
    {
     "data": {
      "text/html": [
       "<pre style=\"white-space:pre;overflow-x:auto;line-height:normal;font-family:Menlo,'DejaVu Sans Mono',consolas,'Courier New',monospace\">Vietnamese: cô ấy đã viết hơn mười hai tập thơ.\n",
       "</pre>\n"
      ],
      "text/plain": [
       "Vietnamese: cô ấy đã viết hơn mười hai tập thơ.\n"
      ]
     },
     "metadata": {},
     "output_type": "display_data"
    },
    {
     "data": {
      "text/html": [
       "<pre style=\"white-space:pre;overflow-x:auto;line-height:normal;font-family:Menlo,'DejaVu Sans Mono',consolas,'Courier New',monospace\">Reference: she has written over twelve books of poetry.\n",
       "</pre>\n"
      ],
      "text/plain": [
       "Reference: she has written over twelve books of poetry.\n"
      ]
     },
     "metadata": {},
     "output_type": "display_data"
    },
    {
     "data": {
      "text/html": [
       "<pre style=\"white-space:pre;overflow-x:auto;line-height:normal;font-family:Menlo,'DejaVu Sans Mono',consolas,'Courier New',monospace\">Vinallama 7B: she's written more than twelve poetry books.\n",
       "\n",
       "</pre>\n"
      ],
      "text/plain": [
       "Vinallama 7B: she's written more than twelve poetry books.\n",
       "\n"
      ]
     },
     "metadata": {},
     "output_type": "display_data"
    },
    {
     "data": {
      "text/html": [
       "<pre style=\"white-space:pre;overflow-x:auto;line-height:normal;font-family:Menlo,'DejaVu Sans Mono',consolas,'Courier New',monospace\">Vinallama 7B Chat: she's written over twelve episodes of poetry.\n",
       "\n",
       "</pre>\n"
      ],
      "text/plain": [
       "Vinallama 7B Chat: she's written over twelve episodes of poetry.\n",
       "\n"
      ]
     },
     "metadata": {},
     "output_type": "display_data"
    },
    {
     "data": {
      "text/html": [
       "<pre style=\"white-space:pre;overflow-x:auto;line-height:normal;font-family:Menlo,'DejaVu Sans Mono',consolas,'Courier New',monospace\">\n",
       "\n",
       "</pre>\n"
      ],
      "text/plain": [
       "\n",
       "\n"
      ]
     },
     "metadata": {},
     "output_type": "display_data"
    },
    {
     "data": {
      "text/html": [
       "<pre style=\"white-space:pre;overflow-x:auto;line-height:normal;font-family:Menlo,'DejaVu Sans Mono',consolas,'Courier New',monospace\">Vietnamese: tôi có một cái ghế bành.\n",
       "</pre>\n"
      ],
      "text/plain": [
       "Vietnamese: tôi có một cái ghế bành.\n"
      ]
     },
     "metadata": {},
     "output_type": "display_data"
    },
    {
     "data": {
      "text/html": [
       "<pre style=\"white-space:pre;overflow-x:auto;line-height:normal;font-family:Menlo,'DejaVu Sans Mono',consolas,'Courier New',monospace\">Reference: i have a sofa.\n",
       "</pre>\n"
      ],
      "text/plain": [
       "Reference: i have a sofa.\n"
      ]
     },
     "metadata": {},
     "output_type": "display_data"
    },
    {
     "data": {
      "text/html": [
       "<pre style=\"white-space:pre;overflow-x:auto;line-height:normal;font-family:Menlo,'DejaVu Sans Mono',consolas,'Courier New',monospace\">Vinallama 7B: i have a chair.\n",
       "\n",
       "</pre>\n"
      ],
      "text/plain": [
       "Vinallama 7B: i have a chair.\n",
       "\n"
      ]
     },
     "metadata": {},
     "output_type": "display_data"
    },
    {
     "data": {
      "text/html": [
       "<pre style=\"white-space:pre;overflow-x:auto;line-height:normal;font-family:Menlo,'DejaVu Sans Mono',consolas,'Courier New',monospace\">Vinallama 7B Chat: i have a fucking couch.\n",
       "\n",
       "</pre>\n"
      ],
      "text/plain": [
       "Vinallama 7B Chat: i have a fucking couch.\n",
       "\n"
      ]
     },
     "metadata": {},
     "output_type": "display_data"
    },
    {
     "data": {
      "text/html": [
       "<pre style=\"white-space:pre;overflow-x:auto;line-height:normal;font-family:Menlo,'DejaVu Sans Mono',consolas,'Courier New',monospace\">\n",
       "\n",
       "</pre>\n"
      ],
      "text/plain": [
       "\n",
       "\n"
      ]
     },
     "metadata": {},
     "output_type": "display_data"
    },
    {
     "data": {
      "text/html": [
       "<pre style=\"white-space:pre;overflow-x:auto;line-height:normal;font-family:Menlo,'DejaVu Sans Mono',consolas,'Courier New',monospace\">Vietnamese: - Chúng tôi đã đề nghị Không lực<span style=\"color: #808000; text-decoration-color: #808000\">...</span>\"\n",
       "</pre>\n"
      ],
      "text/plain": [
       "Vietnamese: - Chúng tôi đã đề nghị Không lực\u001b[33m...\u001b[0m\"\n"
      ]
     },
     "metadata": {},
     "output_type": "display_data"
    },
    {
     "data": {
      "text/html": [
       "<pre style=\"white-space:pre;overflow-x:auto;line-height:normal;font-family:Menlo,'DejaVu Sans Mono',consolas,'Courier New',monospace\">Reference: - We recommend that the Air Corps<span style=\"color: #808000; text-decoration-color: #808000\">...</span>\"\n",
       "</pre>\n"
      ],
      "text/plain": [
       "Reference: - We recommend that the Air Corps\u001b[33m...\u001b[0m\"\n"
      ]
     },
     "metadata": {},
     "output_type": "display_data"
    },
    {
     "data": {
      "text/html": [
       "<pre style=\"white-space:pre;overflow-x:auto;line-height:normal;font-family:Menlo,'DejaVu Sans Mono',consolas,'Courier New',monospace\">Vinallama 7B: We've suggested a Gravity<span style=\"color: #808000; text-decoration-color: #808000\">...</span>\n",
       "\n",
       "</pre>\n"
      ],
      "text/plain": [
       "Vinallama 7B: We've suggested a Gravity\u001b[33m...\u001b[0m\n",
       "\n"
      ]
     },
     "metadata": {},
     "output_type": "display_data"
    },
    {
     "data": {
      "text/html": [
       "<pre style=\"white-space:pre;overflow-x:auto;line-height:normal;font-family:Menlo,'DejaVu Sans Mono',consolas,'Courier New',monospace\">Vinallama 7B Chat: We recommended a flight<span style=\"color: #808000; text-decoration-color: #808000\">...</span>\n",
       "\n",
       "</pre>\n"
      ],
      "text/plain": [
       "Vinallama 7B Chat: We recommended a flight\u001b[33m...\u001b[0m\n",
       "\n"
      ]
     },
     "metadata": {},
     "output_type": "display_data"
    },
    {
     "data": {
      "text/html": [
       "<pre style=\"white-space:pre;overflow-x:auto;line-height:normal;font-family:Menlo,'DejaVu Sans Mono',consolas,'Courier New',monospace\">\n",
       "\n",
       "</pre>\n"
      ],
      "text/plain": [
       "\n",
       "\n"
      ]
     },
     "metadata": {},
     "output_type": "display_data"
    },
    {
     "data": {
      "text/html": [
       "<pre style=\"white-space:pre;overflow-x:auto;line-height:normal;font-family:Menlo,'DejaVu Sans Mono',consolas,'Courier New',monospace\">Vietnamese: Cô ấy thấy vài cuốn sách nằm trên cây đàn dương cầm.\n",
       "</pre>\n"
      ],
      "text/plain": [
       "Vietnamese: Cô ấy thấy vài cuốn sách nằm trên cây đàn dương cầm.\n"
      ]
     },
     "metadata": {},
     "output_type": "display_data"
    },
    {
     "data": {
      "text/html": [
       "<pre style=\"white-space:pre;overflow-x:auto;line-height:normal;font-family:Menlo,'DejaVu Sans Mono',consolas,'Courier New',monospace\">Reference: She saw some books lying on the piano.\n",
       "</pre>\n"
      ],
      "text/plain": [
       "Reference: She saw some books lying on the piano.\n"
      ]
     },
     "metadata": {},
     "output_type": "display_data"
    },
    {
     "data": {
      "text/html": [
       "<pre style=\"white-space:pre;overflow-x:auto;line-height:normal;font-family:Menlo,'DejaVu Sans Mono',consolas,'Courier New',monospace\">Vinallama 7B: She saw a few books on the organ.\n",
       "\n",
       "</pre>\n"
      ],
      "text/plain": [
       "Vinallama 7B: She saw a few books on the organ.\n",
       "\n"
      ]
     },
     "metadata": {},
     "output_type": "display_data"
    },
    {
     "data": {
      "text/html": [
       "<pre style=\"white-space:pre;overflow-x:auto;line-height:normal;font-family:Menlo,'DejaVu Sans Mono',consolas,'Courier New',monospace\">Vinallama 7B Chat: She saw a few books lying on the piano.\n",
       "\n",
       "</pre>\n"
      ],
      "text/plain": [
       "Vinallama 7B Chat: She saw a few books lying on the piano.\n",
       "\n"
      ]
     },
     "metadata": {},
     "output_type": "display_data"
    },
    {
     "data": {
      "text/html": [
       "<pre style=\"white-space:pre;overflow-x:auto;line-height:normal;font-family:Menlo,'DejaVu Sans Mono',consolas,'Courier New',monospace\">\n",
       "\n",
       "</pre>\n"
      ],
      "text/plain": [
       "\n",
       "\n"
      ]
     },
     "metadata": {},
     "output_type": "display_data"
    },
    {
     "data": {
      "text/html": [
       "<pre style=\"white-space:pre;overflow-x:auto;line-height:normal;font-family:Menlo,'DejaVu Sans Mono',consolas,'Courier New',monospace\">Vietnamese: <span style=\"color: #008000; text-decoration-color: #008000\">\"RWE's Npower đã tăng thuế nhập khẩu lên 132% từ năm 2003, nhưng đã giảm hóa đơn 2,7% trong năm 2009.\"</span>\n",
       "</pre>\n"
      ],
      "text/plain": [
       "Vietnamese: \u001b[32m\"RWE's Npower đã tăng thuế nhập khẩu lên 132% từ năm 2003, nhưng đã giảm hóa đơn 2,7% trong năm 2009.\"\u001b[0m\n"
      ]
     },
     "metadata": {},
     "output_type": "display_data"
    },
    {
     "data": {
      "text/html": [
       "<pre style=\"white-space:pre;overflow-x:auto;line-height:normal;font-family:Menlo,'DejaVu Sans Mono',consolas,'Courier New',monospace\">Reference: <span style=\"color: #008000; text-decoration-color: #008000\">\"RWE's Npower has increased tariffs by 132% since 2003, but has reduced bills by 2.7% in 2009.\"</span>\n",
       "</pre>\n"
      ],
      "text/plain": [
       "Reference: \u001b[32m\"RWE's Npower has increased tariffs by 132% since 2003, but has reduced bills by 2.7% in 2009.\"\u001b[0m\n"
      ]
     },
     "metadata": {},
     "output_type": "display_data"
    },
    {
     "data": {
      "text/html": [
       "<pre style=\"white-space:pre;overflow-x:auto;line-height:normal;font-family:Menlo,'DejaVu Sans Mono',consolas,'Courier New',monospace\">Vinallama 7B: RWE's Npower has increased the import tax by <span style=\"color: #008080; text-decoration-color: #008080; font-weight: bold\">132</span>% since <span style=\"color: #008080; text-decoration-color: #008080; font-weight: bold\">2003</span>, but had lower bills by <span style=\"color: #008080; text-decoration-color: #008080; font-weight: bold\">27</span>% in <span style=\"color: #008080; text-decoration-color: #008080; font-weight: bold\">2009</span>.\n",
       "\n",
       "</pre>\n"
      ],
      "text/plain": [
       "Vinallama 7B: RWE's Npower has increased the import tax by \u001b[1;36m132\u001b[0m% since \u001b[1;36m2003\u001b[0m, but had lower bills by \u001b[1;36m27\u001b[0m% in \u001b[1;36m2009\u001b[0m.\n",
       "\n"
      ]
     },
     "metadata": {},
     "output_type": "display_data"
    },
    {
     "data": {
      "text/html": [
       "<pre style=\"white-space:pre;overflow-x:auto;line-height:normal;font-family:Menlo,'DejaVu Sans Mono',consolas,'Courier New',monospace\">Vinallama 7B Chat: RWE's Npower has increased taxes on imports by <span style=\"color: #008080; text-decoration-color: #008080; font-weight: bold\">132</span>% since <span style=\"color: #008080; text-decoration-color: #008080; font-weight: bold\">2003</span>, but reduced bills by <span style=\"color: #008080; text-decoration-color: #008080; font-weight: bold\">2.7</span>% in \n",
       "<span style=\"color: #008080; text-decoration-color: #008080; font-weight: bold\">2009</span>.\n",
       "\n",
       "</pre>\n"
      ],
      "text/plain": [
       "Vinallama 7B Chat: RWE's Npower has increased taxes on imports by \u001b[1;36m132\u001b[0m% since \u001b[1;36m2003\u001b[0m, but reduced bills by \u001b[1;36m2.7\u001b[0m% in \n",
       "\u001b[1;36m2009\u001b[0m.\n",
       "\n"
      ]
     },
     "metadata": {},
     "output_type": "display_data"
    },
    {
     "data": {
      "text/html": [
       "<pre style=\"white-space:pre;overflow-x:auto;line-height:normal;font-family:Menlo,'DejaVu Sans Mono',consolas,'Courier New',monospace\">\n",
       "\n",
       "</pre>\n"
      ],
      "text/plain": [
       "\n",
       "\n"
      ]
     },
     "metadata": {},
     "output_type": "display_data"
    },
    {
     "data": {
      "text/html": [
       "<pre style=\"white-space:pre;overflow-x:auto;line-height:normal;font-family:Menlo,'DejaVu Sans Mono',consolas,'Courier New',monospace\">Vietnamese: Trong khi cô giáo đã bảo con bé tránh xa khỏi phòng dành cho nam.\n",
       "</pre>\n"
      ],
      "text/plain": [
       "Vietnamese: Trong khi cô giáo đã bảo con bé tránh xa khỏi phòng dành cho nam.\n"
      ]
     },
     "metadata": {},
     "output_type": "display_data"
    },
    {
     "data": {
      "text/html": [
       "<pre style=\"white-space:pre;overflow-x:auto;line-height:normal;font-family:Menlo,'DejaVu Sans Mono',consolas,'Courier New',monospace\">Reference: And the teacher had already instructed her to stay out of the boys' bathroom.\n",
       "</pre>\n"
      ],
      "text/plain": [
       "Reference: And the teacher had already instructed her to stay out of the boys' bathroom.\n"
      ]
     },
     "metadata": {},
     "output_type": "display_data"
    },
    {
     "data": {
      "text/html": [
       "<pre style=\"white-space:pre;overflow-x:auto;line-height:normal;font-family:Menlo,'DejaVu Sans Mono',consolas,'Courier New',monospace\">Vinallama 7B: While the teacher told her to avoid the guys' room, she's been hanging out in the girl's room.\n",
       "\n",
       "</pre>\n"
      ],
      "text/plain": [
       "Vinallama 7B: While the teacher told her to avoid the guys' room, she's been hanging out in the girl's room.\n",
       "\n"
      ]
     },
     "metadata": {},
     "output_type": "display_data"
    },
    {
     "data": {
      "text/html": [
       "<pre style=\"white-space:pre;overflow-x:auto;line-height:normal;font-family:Menlo,'DejaVu Sans Mono',consolas,'Courier New',monospace\">Vinallama 7B Chat: While the teacher told her to stay away from the guys' room.\n",
       "\n",
       "</pre>\n"
      ],
      "text/plain": [
       "Vinallama 7B Chat: While the teacher told her to stay away from the guys' room.\n",
       "\n"
      ]
     },
     "metadata": {},
     "output_type": "display_data"
    },
    {
     "data": {
      "text/html": [
       "<pre style=\"white-space:pre;overflow-x:auto;line-height:normal;font-family:Menlo,'DejaVu Sans Mono',consolas,'Courier New',monospace\">\n",
       "\n",
       "</pre>\n"
      ],
      "text/plain": [
       "\n",
       "\n"
      ]
     },
     "metadata": {},
     "output_type": "display_data"
    },
    {
     "data": {
      "text/html": [
       "<pre style=\"white-space:pre;overflow-x:auto;line-height:normal;font-family:Menlo,'DejaVu Sans Mono',consolas,'Courier New',monospace\">Vietnamese: tại sao điều này đã phải xảy ra?\n",
       "</pre>\n"
      ],
      "text/plain": [
       "Vietnamese: tại sao điều này đã phải xảy ra?\n"
      ]
     },
     "metadata": {},
     "output_type": "display_data"
    },
    {
     "data": {
      "text/html": [
       "<pre style=\"white-space:pre;overflow-x:auto;line-height:normal;font-family:Menlo,'DejaVu Sans Mono',consolas,'Courier New',monospace\">Reference: why did this have to happen?\n",
       "</pre>\n"
      ],
      "text/plain": [
       "Reference: why did this have to happen?\n"
      ]
     },
     "metadata": {},
     "output_type": "display_data"
    },
    {
     "data": {
      "text/html": [
       "<pre style=\"white-space:pre;overflow-x:auto;line-height:normal;font-family:Menlo,'DejaVu Sans Mono',consolas,'Courier New',monospace\">Vinallama 7B: Why did this have to happen?\n",
       "\n",
       "</pre>\n"
      ],
      "text/plain": [
       "Vinallama 7B: Why did this have to happen?\n",
       "\n"
      ]
     },
     "metadata": {},
     "output_type": "display_data"
    },
    {
     "data": {
      "text/html": [
       "<pre style=\"white-space:pre;overflow-x:auto;line-height:normal;font-family:Menlo,'DejaVu Sans Mono',consolas,'Courier New',monospace\">Vinallama 7B Chat: Why all this had to happen?\n",
       "\n",
       "</pre>\n"
      ],
      "text/plain": [
       "Vinallama 7B Chat: Why all this had to happen?\n",
       "\n"
      ]
     },
     "metadata": {},
     "output_type": "display_data"
    },
    {
     "data": {
      "text/html": [
       "<pre style=\"white-space:pre;overflow-x:auto;line-height:normal;font-family:Menlo,'DejaVu Sans Mono',consolas,'Courier New',monospace\">\n",
       "\n",
       "</pre>\n"
      ],
      "text/plain": [
       "\n",
       "\n"
      ]
     },
     "metadata": {},
     "output_type": "display_data"
    },
    {
     "data": {
      "text/html": [
       "<pre style=\"white-space:pre;overflow-x:auto;line-height:normal;font-family:Menlo,'DejaVu Sans Mono',consolas,'Courier New',monospace\">Vietnamese: Nó trừng phạt con của nó.\n",
       "</pre>\n"
      ],
      "text/plain": [
       "Vietnamese: Nó trừng phạt con của nó.\n"
      ]
     },
     "metadata": {},
     "output_type": "display_data"
    },
    {
     "data": {
      "text/html": [
       "<pre style=\"white-space:pre;overflow-x:auto;line-height:normal;font-family:Menlo,'DejaVu Sans Mono',consolas,'Courier New',monospace\">Reference: She punished her children.\n",
       "</pre>\n"
      ],
      "text/plain": [
       "Reference: She punished her children.\n"
      ]
     },
     "metadata": {},
     "output_type": "display_data"
    },
    {
     "data": {
      "text/html": [
       "<pre style=\"white-space:pre;overflow-x:auto;line-height:normal;font-family:Menlo,'DejaVu Sans Mono',consolas,'Courier New',monospace\">Vinallama 7B: He's punishing his own kid.\n",
       "\n",
       "</pre>\n"
      ],
      "text/plain": [
       "Vinallama 7B: He's punishing his own kid.\n",
       "\n"
      ]
     },
     "metadata": {},
     "output_type": "display_data"
    },
    {
     "data": {
      "text/html": [
       "<pre style=\"white-space:pre;overflow-x:auto;line-height:normal;font-family:Menlo,'DejaVu Sans Mono',consolas,'Courier New',monospace\">Vinallama 7B Chat: He punishes his own child.\n",
       "\n",
       "</pre>\n"
      ],
      "text/plain": [
       "Vinallama 7B Chat: He punishes his own child.\n",
       "\n"
      ]
     },
     "metadata": {},
     "output_type": "display_data"
    },
    {
     "data": {
      "text/html": [
       "<pre style=\"white-space:pre;overflow-x:auto;line-height:normal;font-family:Menlo,'DejaVu Sans Mono',consolas,'Courier New',monospace\">\n",
       "\n",
       "</pre>\n"
      ],
      "text/plain": [
       "\n",
       "\n"
      ]
     },
     "metadata": {},
     "output_type": "display_data"
    },
    {
     "data": {
      "text/html": [
       "<pre style=\"white-space:pre;overflow-x:auto;line-height:normal;font-family:Menlo,'DejaVu Sans Mono',consolas,'Courier New',monospace\">Vietnamese: Đức đã phải vật lộn với tỉ lệ thất nghiệp cao trong vài năm và các cải cách Schröder đưa ra đã bị trỉ \n",
       "trích vì tính tân tự do của các liên minh cũng như các thành viên trong chính đảng của ông.\n",
       "</pre>\n"
      ],
      "text/plain": [
       "Vietnamese: Đức đã phải vật lộn với tỉ lệ thất nghiệp cao trong vài năm và các cải cách Schröder đưa ra đã bị trỉ \n",
       "trích vì tính tân tự do của các liên minh cũng như các thành viên trong chính đảng của ông.\n"
      ]
     },
     "metadata": {},
     "output_type": "display_data"
    },
    {
     "data": {
      "text/html": [
       "<pre style=\"white-space:pre;overflow-x:auto;line-height:normal;font-family:Menlo,'DejaVu Sans Mono',consolas,'Courier New',monospace\">Reference: Germany has been struggling with high unemployment for several years and the reforms Schröder introduced\n",
       "were criticized as being neo-liberalistic by unions and also by members of his own party.\n",
       "</pre>\n"
      ],
      "text/plain": [
       "Reference: Germany has been struggling with high unemployment for several years and the reforms Schröder introduced\n",
       "were criticized as being neo-liberalistic by unions and also by members of his own party.\n"
      ]
     },
     "metadata": {},
     "output_type": "display_data"
    },
    {
     "data": {
      "text/html": [
       "<pre style=\"white-space:pre;overflow-x:auto;line-height:normal;font-family:Menlo,'DejaVu Sans Mono',consolas,'Courier New',monospace\">Vinallama 7B: Germany had to wrestle with a high unemployment rate for a few years and the Schroder reforms were \n",
       "criticized for their modernizing aspects, as well as for the liberalization of coalitions and party members within \n",
       "the party itself.\n",
       "\n",
       "</pre>\n"
      ],
      "text/plain": [
       "Vinallama 7B: Germany had to wrestle with a high unemployment rate for a few years and the Schroder reforms were \n",
       "criticized for their modernizing aspects, as well as for the liberalization of coalitions and party members within \n",
       "the party itself.\n",
       "\n"
      ]
     },
     "metadata": {},
     "output_type": "display_data"
    },
    {
     "data": {
      "text/html": [
       "<pre style=\"white-space:pre;overflow-x:auto;line-height:normal;font-family:Menlo,'DejaVu Sans Mono',consolas,'Courier New',monospace\">Vinallama 7B Chat: Germany has struggled with high unemployment for several years and the Schröder reforms, which \n",
       "were criticized for the self-centeredness of the coalitions and the parties themselves.\n",
       "\n",
       "</pre>\n"
      ],
      "text/plain": [
       "Vinallama 7B Chat: Germany has struggled with high unemployment for several years and the Schröder reforms, which \n",
       "were criticized for the self-centeredness of the coalitions and the parties themselves.\n",
       "\n"
      ]
     },
     "metadata": {},
     "output_type": "display_data"
    },
    {
     "data": {
      "text/html": [
       "<pre style=\"white-space:pre;overflow-x:auto;line-height:normal;font-family:Menlo,'DejaVu Sans Mono',consolas,'Courier New',monospace\">\n",
       "\n",
       "</pre>\n"
      ],
      "text/plain": [
       "\n",
       "\n"
      ]
     },
     "metadata": {},
     "output_type": "display_data"
    },
    {
     "data": {
      "text/html": [
       "<pre style=\"white-space:pre;overflow-x:auto;line-height:normal;font-family:Menlo,'DejaVu Sans Mono',consolas,'Courier New',monospace\">Vietnamese: Minister for Health: <span style=\"color: #008080; text-decoration-color: #008080; font-weight: bold\">2014</span>–<span style=\"color: #008080; text-decoration-color: #008080; font-weight: bold\">2016</span>\n",
       "</pre>\n"
      ],
      "text/plain": [
       "Vietnamese: Minister for Health: \u001b[1;36m2014\u001b[0m–\u001b[1;36m2016\u001b[0m\n"
      ]
     },
     "metadata": {},
     "output_type": "display_data"
    },
    {
     "data": {
      "text/html": [
       "<pre style=\"white-space:pre;overflow-x:auto;line-height:normal;font-family:Menlo,'DejaVu Sans Mono',consolas,'Courier New',monospace\">Reference: Minister for Health <span style=\"font-weight: bold\">(</span><span style=\"color: #008080; text-decoration-color: #008080; font-weight: bold\">2014</span>–<span style=\"color: #008080; text-decoration-color: #008080; font-weight: bold\">2016</span><span style=\"font-weight: bold\">)</span>\n",
       "</pre>\n"
      ],
      "text/plain": [
       "Reference: Minister for Health \u001b[1m(\u001b[0m\u001b[1;36m2014\u001b[0m–\u001b[1;36m2016\u001b[0m\u001b[1m)\u001b[0m\n"
      ]
     },
     "metadata": {},
     "output_type": "display_data"
    },
    {
     "data": {
      "text/html": [
       "<pre style=\"white-space:pre;overflow-x:auto;line-height:normal;font-family:Menlo,'DejaVu Sans Mono',consolas,'Courier New',monospace\">Vinallama 7B: Minister for Health: <span style=\"color: #008080; text-decoration-color: #008080; font-weight: bold\">2014</span>–<span style=\"color: #008080; text-decoration-color: #008080; font-weight: bold\">2016</span>\n",
       "\n",
       "</pre>\n"
      ],
      "text/plain": [
       "Vinallama 7B: Minister for Health: \u001b[1;36m2014\u001b[0m–\u001b[1;36m2016\u001b[0m\n",
       "\n"
      ]
     },
     "metadata": {},
     "output_type": "display_data"
    },
    {
     "data": {
      "text/html": [
       "<pre style=\"white-space:pre;overflow-x:auto;line-height:normal;font-family:Menlo,'DejaVu Sans Mono',consolas,'Courier New',monospace\">Vinallama 7B Chat: Minister of Health: <span style=\"color: #008080; text-decoration-color: #008080; font-weight: bold\">2014</span>-<span style=\"color: #008080; text-decoration-color: #008080; font-weight: bold\">2016</span>\n",
       "\n",
       "</pre>\n"
      ],
      "text/plain": [
       "Vinallama 7B Chat: Minister of Health: \u001b[1;36m2014\u001b[0m-\u001b[1;36m2016\u001b[0m\n",
       "\n"
      ]
     },
     "metadata": {},
     "output_type": "display_data"
    },
    {
     "data": {
      "text/html": [
       "<pre style=\"white-space:pre;overflow-x:auto;line-height:normal;font-family:Menlo,'DejaVu Sans Mono',consolas,'Courier New',monospace\">\n",
       "\n",
       "</pre>\n"
      ],
      "text/plain": [
       "\n",
       "\n"
      ]
     },
     "metadata": {},
     "output_type": "display_data"
    },
    {
     "data": {
      "text/html": [
       "<pre style=\"white-space:pre;overflow-x:auto;line-height:normal;font-family:Menlo,'DejaVu Sans Mono',consolas,'Courier New',monospace\">Vietnamese: Một khía cạnh tích cực của việc chỉ kết hôn một lần là tránh được các khoản phí ly hôn và chi phí tái \n",
       "hôn .\n",
       "</pre>\n"
      ],
      "text/plain": [
       "Vietnamese: Một khía cạnh tích cực của việc chỉ kết hôn một lần là tránh được các khoản phí ly hôn và chi phí tái \n",
       "hôn .\n"
      ]
     },
     "metadata": {},
     "output_type": "display_data"
    },
    {
     "data": {
      "text/html": [
       "<pre style=\"white-space:pre;overflow-x:auto;line-height:normal;font-family:Menlo,'DejaVu Sans Mono',consolas,'Courier New',monospace\">Reference: One upside of only marrying once is avoiding the costs of divorce and of subsequent weddings .\n",
       "</pre>\n"
      ],
      "text/plain": [
       "Reference: One upside of only marrying once is avoiding the costs of divorce and of subsequent weddings .\n"
      ]
     },
     "metadata": {},
     "output_type": "display_data"
    },
    {
     "data": {
      "text/html": [
       "<pre style=\"white-space:pre;overflow-x:auto;line-height:normal;font-family:Menlo,'DejaVu Sans Mono',consolas,'Courier New',monospace\">Vinallama 7B: A positive aspect of getting married only once is avoiding divorce charges and the costs of \n",
       "remarrying.\n",
       "\n",
       "</pre>\n"
      ],
      "text/plain": [
       "Vinallama 7B: A positive aspect of getting married only once is avoiding divorce charges and the costs of \n",
       "remarrying.\n",
       "\n"
      ]
     },
     "metadata": {},
     "output_type": "display_data"
    },
    {
     "data": {
      "text/html": [
       "<pre style=\"white-space:pre;overflow-x:auto;line-height:normal;font-family:Menlo,'DejaVu Sans Mono',consolas,'Courier New',monospace\">Vinallama 7B Chat: One positive aspect of only getting married once is avoiding divorce fees and remarriage costs.\n",
       "\n",
       "</pre>\n"
      ],
      "text/plain": [
       "Vinallama 7B Chat: One positive aspect of only getting married once is avoiding divorce fees and remarriage costs.\n",
       "\n"
      ]
     },
     "metadata": {},
     "output_type": "display_data"
    },
    {
     "data": {
      "text/html": [
       "<pre style=\"white-space:pre;overflow-x:auto;line-height:normal;font-family:Menlo,'DejaVu Sans Mono',consolas,'Courier New',monospace\">\n",
       "\n",
       "</pre>\n"
      ],
      "text/plain": [
       "\n",
       "\n"
      ]
     },
     "metadata": {},
     "output_type": "display_data"
    },
    {
     "data": {
      "text/html": [
       "<pre style=\"white-space:pre;overflow-x:auto;line-height:normal;font-family:Menlo,'DejaVu Sans Mono',consolas,'Courier New',monospace\">Vietnamese: và tôi cố gắng không nhìn vào mắt ai.\n",
       "</pre>\n"
      ],
      "text/plain": [
       "Vietnamese: và tôi cố gắng không nhìn vào mắt ai.\n"
      ]
     },
     "metadata": {},
     "output_type": "display_data"
    },
    {
     "data": {
      "text/html": [
       "<pre style=\"white-space:pre;overflow-x:auto;line-height:normal;font-family:Menlo,'DejaVu Sans Mono',consolas,'Courier New',monospace\">Reference: and I'd try not to make eye contact with anyone.\n",
       "</pre>\n"
      ],
      "text/plain": [
       "Reference: and I'd try not to make eye contact with anyone.\n"
      ]
     },
     "metadata": {},
     "output_type": "display_data"
    },
    {
     "data": {
      "text/html": [
       "<pre style=\"white-space:pre;overflow-x:auto;line-height:normal;font-family:Menlo,'DejaVu Sans Mono',consolas,'Courier New',monospace\">Vinallama 7B: and i tried not to look into anybody's eyes.\n",
       "\n",
       "</pre>\n"
      ],
      "text/plain": [
       "Vinallama 7B: and i tried not to look into anybody's eyes.\n",
       "\n"
      ]
     },
     "metadata": {},
     "output_type": "display_data"
    },
    {
     "data": {
      "text/html": [
       "<pre style=\"white-space:pre;overflow-x:auto;line-height:normal;font-family:Menlo,'DejaVu Sans Mono',consolas,'Courier New',monospace\">Vinallama 7B Chat: and i try not to look into peoples eyes.\n",
       "\n",
       "</pre>\n"
      ],
      "text/plain": [
       "Vinallama 7B Chat: and i try not to look into peoples eyes.\n",
       "\n"
      ]
     },
     "metadata": {},
     "output_type": "display_data"
    },
    {
     "data": {
      "text/html": [
       "<pre style=\"white-space:pre;overflow-x:auto;line-height:normal;font-family:Menlo,'DejaVu Sans Mono',consolas,'Courier New',monospace\">\n",
       "\n",
       "</pre>\n"
      ],
      "text/plain": [
       "\n",
       "\n"
      ]
     },
     "metadata": {},
     "output_type": "display_data"
    }
   ],
   "source": [
    "num_examples = 20\n",
    "\n",
    "# generate random indices\n",
    "# create seed for reproducibility\n",
    "torch.manual_seed(42)\n",
    "indices = torch.randperm(len(predictions_vinallama_7b))[:num_examples].tolist()\n",
    "\n",
    "predictions_vinallama_7b_sampled = [predictions_vinallama_7b[i] for i in indices]\n",
    "predictions_vinallama_7b_chat_sampled = [predictions_vinallama_7b_chat[i] for i in indices]\n",
    "\n",
    "references_sampled = [references[i] for i in indices]\n",
    "sources_sampled = [sources[i] for i in indices]\n",
    "\n",
    "for prediction_vinallama_7b, prediction_vinallama_7b_chat, reference, source in zip(predictions_vinallama_7b_sampled, predictions_vinallama_7b_chat_sampled, references_sampled, sources_sampled):\n",
    "    print(f\"Vietnamese: {source}\")\n",
    "    print(f\"Reference: {reference}\")\n",
    "    print(f\"Vinallama 7B: {prediction_vinallama_7b}\")\n",
    "    print(f\"Vinallama 7B Chat: {prediction_vinallama_7b_chat}\")\n",
    "    print(\"\\n\")"
   ]
  },
  {
   "cell_type": "code",
   "execution_count": 5,
   "metadata": {},
   "outputs": [
    {
     "name": "stderr",
     "output_type": "stream",
     "text": [
      "WARNING:evaluate_modules.metrics.evaluate-metric--bleurt.98e148b2f8c4a88aba5037e4e0e90c9fd9ec35dc37a054ded8cfef0fa801ffab.bleurt:Using default BLEURT-Base checkpoint for sequence maximum length 128. You can use a bigger model for better results with e.g.: evaluate.load('bleurt', 'bleurt-large-512').\n"
     ]
    },
    {
     "name": "stdout",
     "output_type": "stream",
     "text": [
      "INFO:tensorflow:Reading checkpoint /home/nguyen/.cache/huggingface/metrics/bleurt/default/downloads/extracted/49ae870ec41970df36d4cb594bb8991ef69b9fe584090a8c05e6b35a23eb644e/bleurt-base-128.\n"
     ]
    },
    {
     "name": "stderr",
     "output_type": "stream",
     "text": [
      "INFO:tensorflow:Reading checkpoint /home/nguyen/.cache/huggingface/metrics/bleurt/default/downloads/extracted/49ae870ec41970df36d4cb594bb8991ef69b9fe584090a8c05e6b35a23eb644e/bleurt-base-128.\n"
     ]
    },
    {
     "name": "stdout",
     "output_type": "stream",
     "text": [
      "INFO:tensorflow:Config file found, reading.\n"
     ]
    },
    {
     "name": "stderr",
     "output_type": "stream",
     "text": [
      "INFO:tensorflow:Config file found, reading.\n"
     ]
    },
    {
     "name": "stdout",
     "output_type": "stream",
     "text": [
      "INFO:tensorflow:Will load checkpoint bert_custom\n"
     ]
    },
    {
     "name": "stderr",
     "output_type": "stream",
     "text": [
      "INFO:tensorflow:Will load checkpoint bert_custom\n"
     ]
    },
    {
     "name": "stdout",
     "output_type": "stream",
     "text": [
      "INFO:tensorflow:Loads full paths and checks that files exists.\n"
     ]
    },
    {
     "name": "stderr",
     "output_type": "stream",
     "text": [
      "INFO:tensorflow:Loads full paths and checks that files exists.\n"
     ]
    },
    {
     "name": "stdout",
     "output_type": "stream",
     "text": [
      "INFO:tensorflow:... name:bert_custom\n"
     ]
    },
    {
     "name": "stderr",
     "output_type": "stream",
     "text": [
      "INFO:tensorflow:... name:bert_custom\n"
     ]
    },
    {
     "name": "stdout",
     "output_type": "stream",
     "text": [
      "INFO:tensorflow:... vocab_file:vocab.txt\n"
     ]
    },
    {
     "name": "stderr",
     "output_type": "stream",
     "text": [
      "INFO:tensorflow:... vocab_file:vocab.txt\n"
     ]
    },
    {
     "name": "stdout",
     "output_type": "stream",
     "text": [
      "INFO:tensorflow:... bert_config_file:bert_config.json\n"
     ]
    },
    {
     "name": "stderr",
     "output_type": "stream",
     "text": [
      "INFO:tensorflow:... bert_config_file:bert_config.json\n"
     ]
    },
    {
     "name": "stdout",
     "output_type": "stream",
     "text": [
      "INFO:tensorflow:... do_lower_case:True\n"
     ]
    },
    {
     "name": "stderr",
     "output_type": "stream",
     "text": [
      "INFO:tensorflow:... do_lower_case:True\n"
     ]
    },
    {
     "name": "stdout",
     "output_type": "stream",
     "text": [
      "INFO:tensorflow:... max_seq_length:128\n"
     ]
    },
    {
     "name": "stderr",
     "output_type": "stream",
     "text": [
      "INFO:tensorflow:... max_seq_length:128\n"
     ]
    },
    {
     "name": "stdout",
     "output_type": "stream",
     "text": [
      "INFO:tensorflow:Creating BLEURT scorer.\n"
     ]
    },
    {
     "name": "stderr",
     "output_type": "stream",
     "text": [
      "INFO:tensorflow:Creating BLEURT scorer.\n"
     ]
    },
    {
     "name": "stdout",
     "output_type": "stream",
     "text": [
      "INFO:tensorflow:Creating WordPiece tokenizer.\n"
     ]
    },
    {
     "name": "stderr",
     "output_type": "stream",
     "text": [
      "INFO:tensorflow:Creating WordPiece tokenizer.\n"
     ]
    },
    {
     "name": "stdout",
     "output_type": "stream",
     "text": [
      "INFO:tensorflow:WordPiece tokenizer instantiated.\n"
     ]
    },
    {
     "name": "stderr",
     "output_type": "stream",
     "text": [
      "INFO:tensorflow:WordPiece tokenizer instantiated.\n"
     ]
    },
    {
     "name": "stdout",
     "output_type": "stream",
     "text": [
      "INFO:tensorflow:Creating Eager Mode predictor.\n"
     ]
    },
    {
     "name": "stderr",
     "output_type": "stream",
     "text": [
      "INFO:tensorflow:Creating Eager Mode predictor.\n"
     ]
    },
    {
     "name": "stdout",
     "output_type": "stream",
     "text": [
      "INFO:tensorflow:Loading model.\n"
     ]
    },
    {
     "name": "stderr",
     "output_type": "stream",
     "text": [
      "INFO:tensorflow:Loading model.\n"
     ]
    },
    {
     "name": "stdout",
     "output_type": "stream",
     "text": [
      "INFO:tensorflow:BLEURT initialized.\n"
     ]
    },
    {
     "name": "stderr",
     "output_type": "stream",
     "text": [
      "INFO:tensorflow:BLEURT initialized.\n"
     ]
    },
    {
     "data": {
      "text/html": [
       "<pre style=\"white-space:pre;overflow-x:auto;line-height:normal;font-family:Menlo,'DejaVu Sans Mono',consolas,'Courier New',monospace\"><span style=\"font-weight: bold\">{</span><span style=\"color: #008000; text-decoration-color: #008000\">'scores'</span>: <span style=\"font-weight: bold\">[</span><span style=\"color: #008080; text-decoration-color: #008080; font-weight: bold\">-1.3848589658737183</span>, <span style=\"color: #008080; text-decoration-color: #008080; font-weight: bold\">0.6810484528541565</span>, <span style=\"color: #008080; text-decoration-color: #008080; font-weight: bold\">-0.9352391362190247</span>, <span style=\"color: #008080; text-decoration-color: #008080; font-weight: bold\">-1.1501691341400146</span><span style=\"font-weight: bold\">]}</span>\n",
       "</pre>\n"
      ],
      "text/plain": [
       "\u001b[1m{\u001b[0m\u001b[32m'scores'\u001b[0m: \u001b[1m[\u001b[0m\u001b[1;36m-1.3848589658737183\u001b[0m, \u001b[1;36m0.6810484528541565\u001b[0m, \u001b[1;36m-0.9352391362190247\u001b[0m, \u001b[1;36m-1.1501691341400146\u001b[0m\u001b[1m]\u001b[0m\u001b[1m}\u001b[0m\n"
      ]
     },
     "metadata": {},
     "output_type": "display_data"
    }
   ],
   "source": [
    "bleurt = evaluate.load(\"bleurt\", module_type=\"metric\", checkpoint=\"bleurt-large-512\")\n",
    "results = bleurt.compute(predictions=predictions, references=references)\n",
    "print(results)"
   ]
  }
 ],
 "metadata": {
  "kernelspec": {
   "display_name": "nlp",
   "language": "python",
   "name": "python3"
  },
  "language_info": {
   "codemirror_mode": {
    "name": "ipython",
    "version": 3
   },
   "file_extension": ".py",
   "mimetype": "text/x-python",
   "name": "python",
   "nbconvert_exporter": "python",
   "pygments_lexer": "ipython3",
   "version": "3.1.undefined"
  }
 },
 "nbformat": 4,
 "nbformat_minor": 2
}
