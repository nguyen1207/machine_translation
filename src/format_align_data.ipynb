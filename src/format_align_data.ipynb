{
 "cells": [
  {
   "cell_type": "code",
   "execution_count": 1,
   "metadata": {},
   "outputs": [],
   "source": [
    "import pandas as pd\n",
    "from underthesea import word_tokenize\n",
    "from wordsegment import load, segment\n",
    "import random\n",
    "import html\n",
    "import numpy as np\n",
    "import re\n",
    "from tqdm import tqdm\n",
    "\n",
    "np.random.seed(42)\n",
    "load()"
   ]
  },
  {
   "cell_type": "code",
   "execution_count": 4,
   "metadata": {},
   "outputs": [
    {
     "data": {
      "text/html": [
       "<div>\n",
       "<style scoped>\n",
       "    .dataframe tbody tr th:only-of-type {\n",
       "        vertical-align: middle;\n",
       "    }\n",
       "\n",
       "    .dataframe tbody tr th {\n",
       "        vertical-align: top;\n",
       "    }\n",
       "\n",
       "    .dataframe thead th {\n",
       "        text-align: right;\n",
       "    }\n",
       "</style>\n",
       "<table border=\"1\" class=\"dataframe\">\n",
       "  <thead>\n",
       "    <tr style=\"text-align: right;\">\n",
       "      <th></th>\n",
       "      <th>vietnamese</th>\n",
       "      <th>english</th>\n",
       "      <th>teencode_slang</th>\n",
       "      <th>explain</th>\n",
       "    </tr>\n",
       "  </thead>\n",
       "  <tbody>\n",
       "    <tr>\n",
       "      <th>0</th>\n",
       "      <td>Tính tao tao biết, chẳng có chuyện gì có thể l...</td>\n",
       "      <td>I know how I tick, nothing can drive me nuts</td>\n",
       "      <td>NaN</td>\n",
       "      <td>NaN</td>\n",
       "    </tr>\n",
       "    <tr>\n",
       "      <th>1</th>\n",
       "      <td>Yêu em mọa mọa</td>\n",
       "      <td>love you so much</td>\n",
       "      <td>moạ moạ</td>\n",
       "      <td>sound of kissing</td>\n",
       "    </tr>\n",
       "    <tr>\n",
       "      <th>2</th>\n",
       "      <td>có ai như tao không đọc đề thì quen nhưng lại ...</td>\n",
       "      <td>Is anyone like me? I remember the problems but...</td>\n",
       "      <td>mất gốc</td>\n",
       "      <td>forget all the basic knowledge</td>\n",
       "    </tr>\n",
       "    <tr>\n",
       "      <th>3</th>\n",
       "      <td>Đôi khi cũng muốn dỗi lắm, nhưng nghĩ lại đéo ...</td>\n",
       "      <td>Sometimes I really want to sulk, but then I re...</td>\n",
       "      <td>đéo</td>\n",
       "      <td>do not</td>\n",
       "    </tr>\n",
       "    <tr>\n",
       "      <th>4</th>\n",
       "      <td>làm ăn nhố nhăng</td>\n",
       "      <td>Doing business in a sloppy or messy way.</td>\n",
       "      <td>nhố nhăng</td>\n",
       "      <td>ridiculus</td>\n",
       "    </tr>\n",
       "    <tr>\n",
       "      <th>...</th>\n",
       "      <td>...</td>\n",
       "      <td>...</td>\n",
       "      <td>...</td>\n",
       "      <td>...</td>\n",
       "    </tr>\n",
       "    <tr>\n",
       "      <th>96</th>\n",
       "      <td>t không phàn nàn . t sẽ cố gắng giúp bố mẹ có ...</td>\n",
       "      <td>I'm not complaining. I’ll try to do more to he...</td>\n",
       "      <td>t</td>\n",
       "      <td>I</td>\n",
       "    </tr>\n",
       "    <tr>\n",
       "      <th>97</th>\n",
       "      <td>hí . dễ thương quá</td>\n",
       "      <td>Hehe, too cute.</td>\n",
       "      <td>hí</td>\n",
       "      <td>smiling</td>\n",
       "    </tr>\n",
       "    <tr>\n",
       "      <th>98</th>\n",
       "      <td>thế đéo nào cái hộp bé tý lại đựng được ba cái...</td>\n",
       "      <td>How the hell does this tiny box fit three hats?</td>\n",
       "      <td>thế đéo nào</td>\n",
       "      <td>why the hell</td>\n",
       "    </tr>\n",
       "    <tr>\n",
       "      <th>99</th>\n",
       "      <td>ăn cái này là nghiệp quật dữ lắm à nghen</td>\n",
       "      <td>Taking this is really bad karma, you know.</td>\n",
       "      <td>ăn cái này | nghiệp quật</td>\n",
       "      <td>taking this thing | karma</td>\n",
       "    </tr>\n",
       "    <tr>\n",
       "      <th>100</th>\n",
       "      <td>s tao lại muốn ăn cái này quá làm cho cay vào ...</td>\n",
       "      <td>Why do I suddenly want to eat this so badly? M...</td>\n",
       "      <td>s</td>\n",
       "      <td>why</td>\n",
       "    </tr>\n",
       "  </tbody>\n",
       "</table>\n",
       "<p>101 rows × 4 columns</p>\n",
       "</div>"
      ],
      "text/plain": [
       "                                            vietnamese  \\\n",
       "0    Tính tao tao biết, chẳng có chuyện gì có thể l...   \n",
       "1                                       Yêu em mọa mọa   \n",
       "2    có ai như tao không đọc đề thì quen nhưng lại ...   \n",
       "3    Đôi khi cũng muốn dỗi lắm, nhưng nghĩ lại đéo ...   \n",
       "4                                     làm ăn nhố nhăng   \n",
       "..                                                 ...   \n",
       "96   t không phàn nàn . t sẽ cố gắng giúp bố mẹ có ...   \n",
       "97                                  hí . dễ thương quá   \n",
       "98   thế đéo nào cái hộp bé tý lại đựng được ba cái...   \n",
       "99            ăn cái này là nghiệp quật dữ lắm à nghen   \n",
       "100  s tao lại muốn ăn cái này quá làm cho cay vào ...   \n",
       "\n",
       "                                               english  \\\n",
       "0         I know how I tick, nothing can drive me nuts   \n",
       "1                                     love you so much   \n",
       "2    Is anyone like me? I remember the problems but...   \n",
       "3    Sometimes I really want to sulk, but then I re...   \n",
       "4             Doing business in a sloppy or messy way.   \n",
       "..                                                 ...   \n",
       "96   I'm not complaining. I’ll try to do more to he...   \n",
       "97                                     Hehe, too cute.   \n",
       "98     How the hell does this tiny box fit three hats?   \n",
       "99          Taking this is really bad karma, you know.   \n",
       "100  Why do I suddenly want to eat this so badly? M...   \n",
       "\n",
       "               teencode_slang                         explain  \n",
       "0                         NaN                             NaN  \n",
       "1                     moạ moạ                sound of kissing  \n",
       "2                     mất gốc  forget all the basic knowledge  \n",
       "3                         đéo                          do not  \n",
       "4                   nhố nhăng                       ridiculus  \n",
       "..                        ...                             ...  \n",
       "96                          t                               I  \n",
       "97                         hí                         smiling  \n",
       "98                thế đéo nào                    why the hell  \n",
       "99   ăn cái này | nghiệp quật       taking this thing | karma  \n",
       "100                         s                             why  \n",
       "\n",
       "[101 rows x 4 columns]"
      ]
     },
     "execution_count": 4,
     "metadata": {},
     "output_type": "execute_result"
    }
   ],
   "source": [
    "seed_df = pd.read_csv(\"../data/seed_dataset_0.csv\")\n",
    "seed_df"
   ]
  },
  {
   "cell_type": "code",
   "execution_count": 2,
   "metadata": {},
   "outputs": [],
   "source": [
    "from datasets import load_dataset\n",
    "\n",
    "non_teeencode_seed = load_dataset(\"mt_eng_vietnamese\", \"iwslt2015-vi-en\")"
   ]
  },
  {
   "cell_type": "code",
   "execution_count": 6,
   "metadata": {},
   "outputs": [
    {
     "data": {
      "text/plain": [
       "133318"
      ]
     },
     "execution_count": 6,
     "metadata": {},
     "output_type": "execute_result"
    }
   ],
   "source": [
    "len(non_teeencode_seed[\"train\"][\"translation\"])"
   ]
  },
  {
   "cell_type": "code",
   "execution_count": 3,
   "metadata": {},
   "outputs": [
    {
     "name": "stderr",
     "output_type": "stream",
     "text": [
      "100%|██████████| 133318/133318 [1:15:02<00:00, 29.61it/s]\n"
     ]
    }
   ],
   "source": [
    "html_escape_table = {\n",
    "    \" &amp;\": \"&\",\n",
    "    \" &quot;\": '\"',\n",
    "    \" &apos;\": \"'\",\n",
    "    \" &gt;\": \">\",\n",
    "    \" &lt;\": \"<\",\n",
    "}\n",
    "\n",
    "def html_escape(text):\n",
    "    \"\"\"Produce entities within text.\"\"\"\n",
    "    for k, v in html_escape_table.items():\n",
    "        text = re.sub(k, v, text)\n",
    "    return text\n",
    "\n",
    "\n",
    "\n",
    "num_samples = 1000\n",
    "rng = np.random.default_rng()\n",
    "dataset_size = len(non_teeencode_seed[\"train\"][\"translation\"])\n",
    "sample_indices = rng.choice(dataset_size, size=num_samples, replace=False)\n",
    "sample_indices\n",
    "with open(\"text.vi-en\", \"w\", encoding=\"utf8\") as f:\n",
    "    for p in tqdm(non_teeencode_seed[\"train\"][\"translation\"]):\n",
    "        if len(p['vi']) == 0 or len(p['en']) == 0:\n",
    "            continue\n",
    "        \n",
    "        line = f\"{word_tokenize(html.unescape(p['vi']), format='text')} ||| {' '.join(segment(html_escape(p['en'])))}\\n\"\n",
    "        \n",
    "        if line.strip() == \"|||\":\n",
    "            print(p)\n",
    "        f.write(\n",
    "            line\n",
    "        )"
   ]
  },
  {
   "cell_type": "code",
   "execution_count": 35,
   "metadata": {},
   "outputs": [
    {
     "data": {
      "text/plain": [
       "(1000, 1000)"
      ]
     },
     "execution_count": 35,
     "metadata": {},
     "output_type": "execute_result"
    }
   ],
   "source": [
    "len(sample_indices), len(set(sample_indices))"
   ]
  }
 ],
 "metadata": {
  "kernelspec": {
   "display_name": "py311",
   "language": "python",
   "name": "python3"
  },
  "language_info": {
   "codemirror_mode": {
    "name": "ipython",
    "version": 3
   },
   "file_extension": ".py",
   "mimetype": "text/x-python",
   "name": "python",
   "nbconvert_exporter": "python",
   "pygments_lexer": "ipython3",
   "version": "3.10.14"
  }
 },
 "nbformat": 4,
 "nbformat_minor": 2
}
