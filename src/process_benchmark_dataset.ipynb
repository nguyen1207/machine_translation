{
 "cells": [
  {
   "cell_type": "code",
   "execution_count": 1,
   "metadata": {},
   "outputs": [],
   "source": [
    "import pandas as pd\n",
    "import os\n",
    "import glob"
   ]
  },
  {
   "cell_type": "code",
   "execution_count": 2,
   "metadata": {},
   "outputs": [],
   "source": [
    "paths = glob.glob(\"../data/MT-EV-VLSP2020/**\", recursive=True)\n",
    "\n",
    "data = {\"vietnamese\": [], \"english\": [], \"metadata\": [], \"source\": []}\n",
    "\n",
    "for path in paths:\n",
    "    if os.path.isdir(path):\n",
    "        continue\n",
    "    \n",
    "    metadata = path.split(\"/\")[-2]\n",
    "    \n",
    "    \n",
    "    with open(path, \"r\", encoding=\"utf-8\") as f:\n",
    "        lines = f.readlines()\n",
    "        \n",
    "        lines = list(map(lambda x: x.strip(), lines))\n",
    "        \n",
    "        if \"vi\" in path:\n",
    "            data['vietnamese'].extend(lines)\n",
    "        else:\n",
    "            data['english'].extend(lines)\n",
    "\n",
    "            data['metadata'].extend([metadata] * len(lines))\n",
    "            data['source'].extend([\"VLSP2020\"] * len(lines))\n",
    "        "
   ]
  },
  {
   "cell_type": "code",
   "execution_count": 3,
   "metadata": {},
   "outputs": [
    {
     "data": {
      "text/plain": [
       "(4147925, 4147925, 4147925, 4147925)"
      ]
     },
     "execution_count": 3,
     "metadata": {},
     "output_type": "execute_result"
    }
   ],
   "source": [
    "len(data['vietnamese']), len(data['english']), len(data['metadata']), len(data['source'])"
   ]
  },
  {
   "cell_type": "code",
   "execution_count": 4,
   "metadata": {},
   "outputs": [
    {
     "data": {
      "text/html": [
       "<div>\n",
       "<style scoped>\n",
       "    .dataframe tbody tr th:only-of-type {\n",
       "        vertical-align: middle;\n",
       "    }\n",
       "\n",
       "    .dataframe tbody tr th {\n",
       "        vertical-align: top;\n",
       "    }\n",
       "\n",
       "    .dataframe thead th {\n",
       "        text-align: right;\n",
       "    }\n",
       "</style>\n",
       "<table border=\"1\" class=\"dataframe\">\n",
       "  <thead>\n",
       "    <tr style=\"text-align: right;\">\n",
       "      <th></th>\n",
       "      <th>vietnamese</th>\n",
       "      <th>english</th>\n",
       "      <th>metadata</th>\n",
       "      <th>source</th>\n",
       "    </tr>\n",
       "  </thead>\n",
       "  <tbody>\n",
       "    <tr>\n",
       "      <th>0</th>\n",
       "      <td>Tôi phải đi ngủ.</td>\n",
       "      <td>I have to go to sleep.</td>\n",
       "      <td>basic</td>\n",
       "      <td>VLSP2020</td>\n",
       "    </tr>\n",
       "    <tr>\n",
       "      <th>1</th>\n",
       "      <td>Hôm nay là ngày 18 tháng sáu, và cũng là ngày ...</td>\n",
       "      <td>Today is June 18th and it is Muiriel's birthday!</td>\n",
       "      <td>basic</td>\n",
       "      <td>VLSP2020</td>\n",
       "    </tr>\n",
       "    <tr>\n",
       "      <th>2</th>\n",
       "      <td>Bây giờ Muiriel được 20 tuổi.</td>\n",
       "      <td>Muiriel is 20 now.</td>\n",
       "      <td>basic</td>\n",
       "      <td>VLSP2020</td>\n",
       "    </tr>\n",
       "    <tr>\n",
       "      <th>3</th>\n",
       "      <td>Mật mã là \"Muiriel\".</td>\n",
       "      <td>The password is \"Muiriel\".</td>\n",
       "      <td>basic</td>\n",
       "      <td>VLSP2020</td>\n",
       "    </tr>\n",
       "    <tr>\n",
       "      <th>4</th>\n",
       "      <td>Tôi trở lại mau.</td>\n",
       "      <td>I will be back soon.</td>\n",
       "      <td>basic</td>\n",
       "      <td>VLSP2020</td>\n",
       "    </tr>\n",
       "  </tbody>\n",
       "</table>\n",
       "</div>"
      ],
      "text/plain": [
       "                                          vietnamese  \\\n",
       "0                                   Tôi phải đi ngủ.   \n",
       "1  Hôm nay là ngày 18 tháng sáu, và cũng là ngày ...   \n",
       "2                      Bây giờ Muiriel được 20 tuổi.   \n",
       "3                               Mật mã là \"Muiriel\".   \n",
       "4                                   Tôi trở lại mau.   \n",
       "\n",
       "                                            english metadata    source  \n",
       "0                            I have to go to sleep.    basic  VLSP2020  \n",
       "1  Today is June 18th and it is Muiriel's birthday!    basic  VLSP2020  \n",
       "2                                Muiriel is 20 now.    basic  VLSP2020  \n",
       "3                        The password is \"Muiriel\".    basic  VLSP2020  \n",
       "4                              I will be back soon.    basic  VLSP2020  "
      ]
     },
     "execution_count": 4,
     "metadata": {},
     "output_type": "execute_result"
    }
   ],
   "source": [
    "df = pd.DataFrame(data)\n",
    "df.to_csv(\"../data/VLSP2020_benchmark.csv\", index=False)\n",
    "df.head()"
   ]
  },
  {
   "cell_type": "code",
   "execution_count": 5,
   "metadata": {},
   "outputs": [
    {
     "name": "stderr",
     "output_type": "stream",
     "text": [
      "/tmp/ipykernel_139517/267622928.py:6: DeprecationWarning: DataFrameGroupBy.apply operated on the grouping columns. This behavior is deprecated, and in a future version of pandas the grouping columns will be excluded from the operation. Either pass `include_groups=False` to exclude the groupings or explicitly select the grouping columns after groupby to silence this warning.\n",
      "  df.groupby(\"metadata\").apply(lambda x: x.sample(num_samples, random_state=42)).reset_index(drop=True).to_csv(\"../data/VLSP2020_benchmark_sampled.csv\", index=False)\n"
     ]
    }
   ],
   "source": [
    "# sample from each group grouped by metadata\n",
    "num_samples = 100\n",
    "\n",
    "# set seed for reproducibility\n",
    "\n",
    "df.groupby(\"metadata\").apply(lambda x: x.sample(num_samples, random_state=42)).reset_index(drop=True).to_csv(\"../data/VLSP2020_benchmark_sampled.csv\", index=False)"
   ]
  }
 ],
 "metadata": {
  "kernelspec": {
   "display_name": "nlp",
   "language": "python",
   "name": "python3"
  },
  "language_info": {
   "codemirror_mode": {
    "name": "ipython",
    "version": 3
   },
   "file_extension": ".py",
   "mimetype": "text/x-python",
   "name": "python",
   "nbconvert_exporter": "python",
   "pygments_lexer": "ipython3",
   "version": "3.10.14"
  }
 },
 "nbformat": 4,
 "nbformat_minor": 2
}
